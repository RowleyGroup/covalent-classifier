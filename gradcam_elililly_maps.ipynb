{
 "cells": [
  {
   "cell_type": "code",
   "execution_count": null,
   "metadata": {},
   "outputs": [],
   "source": [
    "import pandas as pd\n",
    "import numpy as np\n",
    "import tensorflow as tf\n",
    "import os\n",
    "import io\n",
    "from models.graph.helpers import encode\n",
    "from rdkit import Chem\n",
    "from molgraph import chemistry\n",
    "from molgraph.chemistry import features, Featurizer, MolecularGraphEncoder\n",
    "from sklearn.metrics import accuracy_score\n",
    "from molgraph.models import GradientActivationMapping\n",
    "from molgraph.chemistry import vis\n",
    "\n",
    "from rdkit import Chem, rdBase\n",
    "from PIL import Image\n",
    "from rdkit.Chem import AllChem, Draw, rdDepictor\n",
    "from rdkit.Chem.Draw import rdMolDraw2D\n",
    "\n",
    "model = tf.keras.models.load_model('./saved_models/GCNII/')\n",
    "\n",
    "atom_encoder = Featurizer([\n",
    "    features.Symbol(),\n",
    "    features.TotalNumHs(),\n",
    "    features.ChiralCenter(),\n",
    "    features.Aromatic(),\n",
    "    features.Ring(),\n",
    "    features.Hetero(),\n",
    "    features.HydrogenDonor(),\n",
    "    features.HydrogenAcceptor(),\n",
    "    features.RingSize(),\n",
    "    features.GasteigerCharge()\n",
    "])\n",
    "bond_encoder = Featurizer([\n",
    "    features.BondType(),\n",
    "    features.Conjugated(),\n",
    "    features.Rotatable(),\n",
    "    features.Ring(),\n",
    "])\n",
    "encoder = MolecularGraphEncoder(atom_encoder, bond_encoder)\n",
    "\n",
    "def get_gradcam(mol, model):\n",
    "    gam_model = GradientActivationMapping(\n",
    "        model,\n",
    "        [i.name for i in model.layers if \"conv\" in i.name], # all conv layers by default\n",
    "        output_activation=None,\n",
    "        discard_negative_values=True)\n",
    "    graph = encode(mol)\n",
    "    gam = gam_model(graph)\n",
    "    gam = gam[0].numpy()\n",
    "    gam = gam / np.linalg.norm(gam)\n",
    "    return np.where(gam > 0.3)[0].tolist()\n",
    "\n",
    "\n",
    "\n",
    "# df = pd.DataFrame()\n",
    "# smarts_files = os.listdir('./eli_lilly_smarts')\n",
    "# for i in smarts_files:\n",
    "#     df = pd.concat([df, pd.read_csv('./eli_lilly_smarts/' + i, sep='\\t')])\n",
    "# df = df.drop(columns=['min_hits_needed']).reset_index(drop=True)\n",
    "\n",
    "covindb_df = pd.read_csv(\"./pwalters_filters/Covalent_bioactivity_data.csv\")\n",
    "covindb_df.Warhead = covindb_df.Warhead.apply(lambda x: x.lower())\n",
    "warhead_list = list(covindb_df.Warhead.unique())\n",
    "warhead_patten = '|'.join(covindb_df.Warhead.unique())\n",
    "\n",
    "df = pd.read_csv(\"./pwalters_filters/alert_collection.csv\")\n",
    "df.description = df.description.apply(lambda x: x.lower())\n",
    "\n",
    "df_test = pd.read_csv(\"./data/SMILES_test/test_data_all.csv\")\n",
    "df_test[\"Mol\"] = df_test[\"SMILES\"].apply(Chem.MolFromSmiles)\n",
    "X = encoder(df_test[\"Mol\"].values)\n",
    "df_test[\"pred\"] = model.predict(X)"
   ]
  },
  {
   "cell_type": "code",
   "execution_count": 3,
   "metadata": {},
   "outputs": [
    {
     "name": "stderr",
     "output_type": "stream",
     "text": [
      "/tmp/ipykernel_76900/471648110.py:2: UserWarning: This pattern is interpreted as a regular expression, and has match groups. To actually get the groups, use str.extract.\n",
      "  df = df[df.description.str.contains(warhead_patten)]\n"
     ]
    }
   ],
   "source": [
    "df.description = df.description.apply(lambda x: x.lower())\n",
    "df = df[df.description.str.contains(warhead_patten)]"
   ]
  },
  {
   "cell_type": "code",
   "execution_count": 6,
   "metadata": {},
   "outputs": [
    {
     "name": "stdout",
     "output_type": "stream",
     "text": [
      "michael acceptor\n"
     ]
    }
   ],
   "source": [
    "i = 0\n",
    "df = df[df.description.str.contains(warhead_list[i])]\n",
    "print(warhead_list[i])"
   ]
  },
  {
   "cell_type": "code",
   "execution_count": 7,
   "metadata": {},
   "outputs": [],
   "source": [
    "COLS = [(1.0, 0.0, 0.0), (0.0, 1.0, 0.0), (0.0, 0.0, 1.0)]\n",
    "\n",
    "def get_hit_atoms_and_bonds(mol, smt):\n",
    "  alist = []\n",
    "  q = Chem.MolFromSmarts(smt)\n",
    "  for match in mol.GetSubstructMatches(q):\n",
    "    alist.extend(match)\n",
    "  return alist\n",
    "\n",
    "\n",
    "def add_colours_to_map(els, cols, col_num):\n",
    "  for el in els:\n",
    "    if el not in cols:\n",
    "      cols[el] = []\n",
    "    if COLS[col_num] not in cols[el]:\n",
    "      cols[el].append(COLS[col_num])\n",
    "\n",
    "\n",
    "def do_a_picture(mol, smarts, model, get_cols_only=False):\n",
    "  gradcam = get_gradcam(mol, model)\n",
    "\n",
    "  with rdDepictor.UsingCoordGen(True):\n",
    "    mol = Draw.PrepareMolForDrawing(mol)\n",
    "\n",
    "    acols = {}\n",
    "    h_rads = {}\n",
    "    h_lw_mult = {}\n",
    "\n",
    "    for i, smt in enumerate(smarts):\n",
    "      alist = get_hit_atoms_and_bonds(mol, smt)\n",
    "      col = 0\n",
    "      add_colours_to_map(alist, acols, col)\n",
    "\n",
    "    add_colours_to_map(gradcam, acols, 1)\n",
    "\n",
    "    if get_cols_only:\n",
    "      return acols\n",
    "\n",
    "    d = rdMolDraw2D.MolDraw2DCairo(300, 300)\n",
    "    d.drawOptions().fillHighlights = False\n",
    "    d.DrawMoleculeWithHighlights(mol, \"\", acols, {}, h_rads, h_lw_mult, -1)\n",
    "    d.FinishDrawing()\n",
    "    bio = io.BytesIO(d.GetDrawingText())\n",
    "    return Image.open(bio)\n"
   ]
  },
  {
   "cell_type": "code",
   "execution_count": 8,
   "metadata": {},
   "outputs": [
    {
     "name": "stderr",
     "output_type": "stream",
     "text": [
      "Pandas Apply: 100%|██████████| 229/229 [01:52<00:00,  2.04it/s]\n"
     ]
    }
   ],
   "source": [
    "import swifter\n",
    "df_test = df_test.query(\"pred > 0.9\")\n",
    "smarts = df.SMARTS.values\n",
    "df_test[\"acols\"] = df_test[\"Mol\"].swifter.apply(lambda x: do_a_picture(x, smarts, model, get_cols_only=True))"
   ]
  },
  {
   "cell_type": "code",
   "execution_count": 9,
   "metadata": {},
   "outputs": [
    {
     "name": "stderr",
     "output_type": "stream",
     "text": [
      "Pandas Apply: 100%|██████████| 229/229 [00:00<00:00, 303570.04it/s]\n"
     ]
    },
    {
     "data": {
      "text/plain": [
       "229"
      ]
     },
     "execution_count": 9,
     "metadata": {},
     "output_type": "execute_result"
    }
   ],
   "source": [
    "def find_both_tags(x):\n",
    "    for i in x.values():\n",
    "        if len(i) > 1:\n",
    "            return True\n",
    "    return False\n",
    "df_test[\"both_tags\"] = df_test.acols.swifter.apply(find_both_tags)\n",
    "len(df_test)"
   ]
  },
  {
   "cell_type": "code",
   "execution_count": 10,
   "metadata": {},
   "outputs": [
    {
     "data": {
      "text/plain": [
       "215"
      ]
     },
     "execution_count": 10,
     "metadata": {},
     "output_type": "execute_result"
    }
   ],
   "source": [
    "len(df_test.query(\"covalent == 1\"))"
   ]
  },
  {
   "cell_type": "code",
   "execution_count": 11,
   "metadata": {},
   "outputs": [
    {
     "data": {
      "text/html": [
       "<div>\n",
       "<style scoped>\n",
       "    .dataframe tbody tr th:only-of-type {\n",
       "        vertical-align: middle;\n",
       "    }\n",
       "\n",
       "    .dataframe tbody tr th {\n",
       "        vertical-align: top;\n",
       "    }\n",
       "\n",
       "    .dataframe thead th {\n",
       "        text-align: right;\n",
       "    }\n",
       "</style>\n",
       "<table border=\"1\" class=\"dataframe\">\n",
       "  <thead>\n",
       "    <tr style=\"text-align: right;\">\n",
       "      <th></th>\n",
       "      <th>SMILES</th>\n",
       "      <th>InChI</th>\n",
       "      <th>warhead_category</th>\n",
       "      <th>covalent</th>\n",
       "      <th>Mol</th>\n",
       "      <th>pred</th>\n",
       "      <th>acols</th>\n",
       "      <th>both_tags</th>\n",
       "    </tr>\n",
       "  </thead>\n",
       "  <tbody>\n",
       "    <tr>\n",
       "      <th>15</th>\n",
       "      <td>[H]OC1(C([H])([H])C(=O)N([H])[H])C([H])=C(Br)C...</td>\n",
       "      <td>InChI=1S/C8H7Br2NO3/c9-4-1-8(14,3-6(11)12)2-5(...</td>\n",
       "      <td>lactone</td>\n",
       "      <td>1</td>\n",
       "      <td>&lt;rdkit.Chem.rdchem.Mol object at 0x7fa09cacc120&gt;</td>\n",
       "      <td>0.988426</td>\n",
       "      <td>{1: [(1.0, 0.0, 0.0)], 6: [(1.0, 0.0, 0.0)], 7...</td>\n",
       "      <td>True</td>\n",
       "    </tr>\n",
       "    <tr>\n",
       "      <th>17</th>\n",
       "      <td>[H]OC(=O)/C([H])=C(\\C([H])([H])[H])C([H])([H])...</td>\n",
       "      <td>InChI=1S/C31H44O6/c1-20(16-22(3)14-15-27-12-9-...</td>\n",
       "      <td>lactone</td>\n",
       "      <td>1</td>\n",
       "      <td>&lt;rdkit.Chem.rdchem.Mol object at 0x7fa09cacc200&gt;</td>\n",
       "      <td>0.916504</td>\n",
       "      <td>{4: [(1.0, 0.0, 0.0)], 3: [(1.0, 0.0, 0.0)], 1...</td>\n",
       "      <td>True</td>\n",
       "    </tr>\n",
       "    <tr>\n",
       "      <th>18</th>\n",
       "      <td>[H]O[C@]([H])(C([H])([H])[C@@]1([H])OC(=O)C([H...</td>\n",
       "      <td>InChI=1S/C19H32O4/c1-6-8-9-13(3)19(22-5)14(4)1...</td>\n",
       "      <td>lactone</td>\n",
       "      <td>1</td>\n",
       "      <td>&lt;rdkit.Chem.rdchem.Mol object at 0x7fa09cacc270&gt;</td>\n",
       "      <td>0.902995</td>\n",
       "      <td>{9: [(1.0, 0.0, 0.0)], 8: [(1.0, 0.0, 0.0)], 7...</td>\n",
       "      <td>True</td>\n",
       "    </tr>\n",
       "    <tr>\n",
       "      <th>32</th>\n",
       "      <td>[H]/C(C(=O)N1C([H])([H])C([H])([H])[C@@]2([H])...</td>\n",
       "      <td>InChI=1S/C19H31N3O4S/c1-14(2)17-18-15(22(19(17...</td>\n",
       "      <td>lactam</td>\n",
       "      <td>1</td>\n",
       "      <td>&lt;rdkit.Chem.rdchem.Mol object at 0x7fa09cacc890&gt;</td>\n",
       "      <td>0.989165</td>\n",
       "      <td>{19: [(1.0, 0.0, 0.0), (0.0, 1.0, 0.0)], 0: [(...</td>\n",
       "      <td>True</td>\n",
       "    </tr>\n",
       "    <tr>\n",
       "      <th>40</th>\n",
       "      <td>[H]OC(=O)C1=C(/C([H])=C(\\[H])C(=O)N([H])[H])C(...</td>\n",
       "      <td>InChI=1S/C16H13N3O6S/c17-12(20)5-4-9-8-26(24,2...</td>\n",
       "      <td>lactam</td>\n",
       "      <td>1</td>\n",
       "      <td>&lt;rdkit.Chem.rdchem.Mol object at 0x7fa09caccc10&gt;</td>\n",
       "      <td>0.911929</td>\n",
       "      <td>{5: [(1.0, 0.0, 0.0)], 6: [(1.0, 0.0, 0.0), (0...</td>\n",
       "      <td>True</td>\n",
       "    </tr>\n",
       "    <tr>\n",
       "      <th>...</th>\n",
       "      <td>...</td>\n",
       "      <td>...</td>\n",
       "      <td>...</td>\n",
       "      <td>...</td>\n",
       "      <td>...</td>\n",
       "      <td>...</td>\n",
       "      <td>...</td>\n",
       "      <td>...</td>\n",
       "    </tr>\n",
       "    <tr>\n",
       "      <th>410</th>\n",
       "      <td>[H]/C(=C(/F)C(=O)N([H])c1c(OC([H])([H])C([H])(...</td>\n",
       "      <td>InChI=1S/C31H31FN8O3/c1-4-42-28-16-25-23(15-26...</td>\n",
       "      <td>unsaturated</td>\n",
       "      <td>1</td>\n",
       "      <td>&lt;rdkit.Chem.rdchem.Mol object at 0x7fa09cad6f10&gt;</td>\n",
       "      <td>0.973918</td>\n",
       "      <td>{0: [(1.0, 0.0, 0.0), (0.0, 1.0, 0.0)], 1: [(1...</td>\n",
       "      <td>True</td>\n",
       "    </tr>\n",
       "    <tr>\n",
       "      <th>412</th>\n",
       "      <td>[H]C([H])=C([H])C(=O)N([H])c1c([H])c([H])c([H]...</td>\n",
       "      <td>InChI=1S/C23H24N4O4/c1-4-22(28)24-20-8-6-5-7-1...</td>\n",
       "      <td>unsaturated</td>\n",
       "      <td>1</td>\n",
       "      <td>&lt;rdkit.Chem.rdchem.Mol object at 0x7fa09cad6ff0&gt;</td>\n",
       "      <td>0.999663</td>\n",
       "      <td>{0: [(1.0, 0.0, 0.0), (0.0, 1.0, 0.0)], 1: [(1...</td>\n",
       "      <td>True</td>\n",
       "    </tr>\n",
       "    <tr>\n",
       "      <th>413</th>\n",
       "      <td>[H]C([H])=C([H])C(=O)N([H])c1c([H])c([H])c([H]...</td>\n",
       "      <td>InChI=1S/C28H29N7O2/c1-3-25(36)30-23-6-4-5-20(...</td>\n",
       "      <td>unsaturated</td>\n",
       "      <td>1</td>\n",
       "      <td>&lt;rdkit.Chem.rdchem.Mol object at 0x7fa09cad7060&gt;</td>\n",
       "      <td>0.999922</td>\n",
       "      <td>{0: [(1.0, 0.0, 0.0), (0.0, 1.0, 0.0)], 1: [(1...</td>\n",
       "      <td>True</td>\n",
       "    </tr>\n",
       "    <tr>\n",
       "      <th>414</th>\n",
       "      <td>[H]C([H])=C([H])C(=O)N([H])c1c([H])c([H])c([H]...</td>\n",
       "      <td>InChI=1S/C32H33ClN8O2/c1-4-28(42)36-26-10-5-6-...</td>\n",
       "      <td>unsaturated</td>\n",
       "      <td>1</td>\n",
       "      <td>&lt;rdkit.Chem.rdchem.Mol object at 0x7fa09cad70d0&gt;</td>\n",
       "      <td>0.998593</td>\n",
       "      <td>{0: [(1.0, 0.0, 0.0), (0.0, 1.0, 0.0)], 1: [(1...</td>\n",
       "      <td>True</td>\n",
       "    </tr>\n",
       "    <tr>\n",
       "      <th>416</th>\n",
       "      <td>[H]C([H])=C([H])C(=O)N([H])c1c([H])c(N2C([H])(...</td>\n",
       "      <td>InChI=1S/C35H40N8O2/c1-5-23-9-8-10-24(6-2)32(2...</td>\n",
       "      <td>unsaturated</td>\n",
       "      <td>1</td>\n",
       "      <td>&lt;rdkit.Chem.rdchem.Mol object at 0x7fa09cad71b0&gt;</td>\n",
       "      <td>0.995010</td>\n",
       "      <td>{0: [(1.0, 0.0, 0.0), (0.0, 1.0, 0.0)], 1: [(1...</td>\n",
       "      <td>True</td>\n",
       "    </tr>\n",
       "  </tbody>\n",
       "</table>\n",
       "<p>106 rows × 8 columns</p>\n",
       "</div>"
      ],
      "text/plain": [
       "                                                SMILES  \\\n",
       "15   [H]OC1(C([H])([H])C(=O)N([H])[H])C([H])=C(Br)C...   \n",
       "17   [H]OC(=O)/C([H])=C(\\C([H])([H])[H])C([H])([H])...   \n",
       "18   [H]O[C@]([H])(C([H])([H])[C@@]1([H])OC(=O)C([H...   \n",
       "32   [H]/C(C(=O)N1C([H])([H])C([H])([H])[C@@]2([H])...   \n",
       "40   [H]OC(=O)C1=C(/C([H])=C(\\[H])C(=O)N([H])[H])C(...   \n",
       "..                                                 ...   \n",
       "410  [H]/C(=C(/F)C(=O)N([H])c1c(OC([H])([H])C([H])(...   \n",
       "412  [H]C([H])=C([H])C(=O)N([H])c1c([H])c([H])c([H]...   \n",
       "413  [H]C([H])=C([H])C(=O)N([H])c1c([H])c([H])c([H]...   \n",
       "414  [H]C([H])=C([H])C(=O)N([H])c1c([H])c([H])c([H]...   \n",
       "416  [H]C([H])=C([H])C(=O)N([H])c1c([H])c(N2C([H])(...   \n",
       "\n",
       "                                                 InChI warhead_category  \\\n",
       "15   InChI=1S/C8H7Br2NO3/c9-4-1-8(14,3-6(11)12)2-5(...          lactone   \n",
       "17   InChI=1S/C31H44O6/c1-20(16-22(3)14-15-27-12-9-...          lactone   \n",
       "18   InChI=1S/C19H32O4/c1-6-8-9-13(3)19(22-5)14(4)1...          lactone   \n",
       "32   InChI=1S/C19H31N3O4S/c1-14(2)17-18-15(22(19(17...           lactam   \n",
       "40   InChI=1S/C16H13N3O6S/c17-12(20)5-4-9-8-26(24,2...           lactam   \n",
       "..                                                 ...              ...   \n",
       "410  InChI=1S/C31H31FN8O3/c1-4-42-28-16-25-23(15-26...      unsaturated   \n",
       "412  InChI=1S/C23H24N4O4/c1-4-22(28)24-20-8-6-5-7-1...      unsaturated   \n",
       "413  InChI=1S/C28H29N7O2/c1-3-25(36)30-23-6-4-5-20(...      unsaturated   \n",
       "414  InChI=1S/C32H33ClN8O2/c1-4-28(42)36-26-10-5-6-...      unsaturated   \n",
       "416  InChI=1S/C35H40N8O2/c1-5-23-9-8-10-24(6-2)32(2...      unsaturated   \n",
       "\n",
       "     covalent                                               Mol      pred  \\\n",
       "15          1  <rdkit.Chem.rdchem.Mol object at 0x7fa09cacc120>  0.988426   \n",
       "17          1  <rdkit.Chem.rdchem.Mol object at 0x7fa09cacc200>  0.916504   \n",
       "18          1  <rdkit.Chem.rdchem.Mol object at 0x7fa09cacc270>  0.902995   \n",
       "32          1  <rdkit.Chem.rdchem.Mol object at 0x7fa09cacc890>  0.989165   \n",
       "40          1  <rdkit.Chem.rdchem.Mol object at 0x7fa09caccc10>  0.911929   \n",
       "..        ...                                               ...       ...   \n",
       "410         1  <rdkit.Chem.rdchem.Mol object at 0x7fa09cad6f10>  0.973918   \n",
       "412         1  <rdkit.Chem.rdchem.Mol object at 0x7fa09cad6ff0>  0.999663   \n",
       "413         1  <rdkit.Chem.rdchem.Mol object at 0x7fa09cad7060>  0.999922   \n",
       "414         1  <rdkit.Chem.rdchem.Mol object at 0x7fa09cad70d0>  0.998593   \n",
       "416         1  <rdkit.Chem.rdchem.Mol object at 0x7fa09cad71b0>  0.995010   \n",
       "\n",
       "                                                 acols  both_tags  \n",
       "15   {1: [(1.0, 0.0, 0.0)], 6: [(1.0, 0.0, 0.0)], 7...       True  \n",
       "17   {4: [(1.0, 0.0, 0.0)], 3: [(1.0, 0.0, 0.0)], 1...       True  \n",
       "18   {9: [(1.0, 0.0, 0.0)], 8: [(1.0, 0.0, 0.0)], 7...       True  \n",
       "32   {19: [(1.0, 0.0, 0.0), (0.0, 1.0, 0.0)], 0: [(...       True  \n",
       "40   {5: [(1.0, 0.0, 0.0)], 6: [(1.0, 0.0, 0.0), (0...       True  \n",
       "..                                                 ...        ...  \n",
       "410  {0: [(1.0, 0.0, 0.0), (0.0, 1.0, 0.0)], 1: [(1...       True  \n",
       "412  {0: [(1.0, 0.0, 0.0), (0.0, 1.0, 0.0)], 1: [(1...       True  \n",
       "413  {0: [(1.0, 0.0, 0.0), (0.0, 1.0, 0.0)], 1: [(1...       True  \n",
       "414  {0: [(1.0, 0.0, 0.0), (0.0, 1.0, 0.0)], 1: [(1...       True  \n",
       "416  {0: [(1.0, 0.0, 0.0), (0.0, 1.0, 0.0)], 1: [(1...       True  \n",
       "\n",
       "[106 rows x 8 columns]"
      ]
     },
     "execution_count": 11,
     "metadata": {},
     "output_type": "execute_result"
    }
   ],
   "source": [
    "df_final = df_test.query(\"both_tags == True and covalent == 1\")\n",
    "df_final"
   ]
  },
  {
   "cell_type": "code",
   "execution_count": 12,
   "metadata": {},
   "outputs": [
    {
     "data": {
      "image/jpeg": "[encoded data removed]",
      "image/png": "[encoded data removed]",
      "text/plain": [
       "<PIL.PngImagePlugin.PngImageFile image mode=RGB size=300x300>"
      ]
     },
     "execution_count": 12,
     "metadata": {},
     "output_type": "execute_result"
    }
   ],
   "source": [
    "# red - eli lilly\n",
    "# green - gradcam\n",
    "# smi = 'CO[C@@H](O)C1=C(O[C@H](F)Cl)C(C#N)=C1ONNC[NH3+]'\n",
    "# smi = \"CN(C)CC=CC(=O)NC1=C(C=C2C(=C1)C(=NC=N2)NC3=CC(=C(C=C3)F)Cl)OC4CCOC4\"\n",
    "do_a_picture(df_final.Mol.values[4], smarts, model)"
   ]
  },
  {
   "cell_type": "code",
   "execution_count": null,
   "metadata": {},
   "outputs": [],
   "source": []
  }
 ],
 "metadata": {
  "kernelspec": {
   "display_name": "molgraph",
   "language": "python",
   "name": "python3"
  },
  "language_info": {
   "codemirror_mode": {
    "name": "ipython",
    "version": 3
   },
   "file_extension": ".py",
   "mimetype": "text/x-python",
   "name": "python",
   "nbconvert_exporter": "python",
   "pygments_lexer": "ipython3",
   "version": "3.10.12"
  }
 },
 "nbformat": 4,
 "nbformat_minor": 2
}
