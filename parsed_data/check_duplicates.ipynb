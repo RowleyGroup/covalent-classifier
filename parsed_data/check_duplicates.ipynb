{
 "cells": [
  {
   "cell_type": "code",
   "execution_count": 1,
   "metadata": {},
   "outputs": [],
   "source": [
    "import pandas as pd "
   ]
  },
  {
   "cell_type": "code",
   "execution_count": 2,
   "metadata": {},
   "outputs": [],
   "source": [
    "# Update OLD \n",
    "\n",
    "df_cov_old = pd.read_csv(\"./CovInDB/CovInDB_smiles.csv\")\n",
    "df_cov_new = pd.read_csv(\"./CovInDB/CovInDB_parsed.csv\")\n",
    "\n",
    "df_db_old = pd.read_csv(\"./drugbank/drugbank_smiles.csv\")\n",
    "df_db_new = pd.read_csv(\"./drugbank/drugank_parsed.csv\")"
   ]
  },
  {
   "cell_type": "code",
   "execution_count": 8,
   "metadata": {},
   "outputs": [],
   "source": [
    "df_cov_train = df_cov_old.merge(df_cov_new, how=\"left\", on=\"SMILES\")\n",
    "df_db_train = df_db_old.merge(df_db_new, how=\"left\", on=\"SMILES\")"
   ]
  },
  {
   "cell_type": "code",
   "execution_count": 17,
   "metadata": {},
   "outputs": [],
   "source": [
    "df_cov_train.to_csv(\"CovInDB_data.csv\")"
   ]
  },
  {
   "cell_type": "code",
   "execution_count": 18,
   "metadata": {},
   "outputs": [
    {
     "data": {
      "text/html": [
       "<div>\n",
       "<style scoped>\n",
       "    .dataframe tbody tr th:only-of-type {\n",
       "        vertical-align: middle;\n",
       "    }\n",
       "\n",
       "    .dataframe tbody tr th {\n",
       "        vertical-align: top;\n",
       "    }\n",
       "\n",
       "    .dataframe thead th {\n",
       "        text-align: right;\n",
       "    }\n",
       "</style>\n",
       "<table border=\"1\" class=\"dataframe\">\n",
       "  <thead>\n",
       "    <tr style=\"text-align: right;\">\n",
       "      <th></th>\n",
       "      <th>ID</th>\n",
       "      <th>Type</th>\n",
       "      <th>SMILES</th>\n",
       "      <th>covalent</th>\n",
       "      <th>data</th>\n",
       "    </tr>\n",
       "  </thead>\n",
       "  <tbody>\n",
       "    <tr>\n",
       "      <th>0</th>\n",
       "      <td>42601513</td>\n",
       "      <td>general</td>\n",
       "      <td>CC(C)C1C=CC(=O)NCCC=CC(C(=O)N1)NC(=O)C(C(C)C)N...</td>\n",
       "      <td>1</td>\n",
       "      <td>{'energy': [3718740898.352236, 3750880119.5500...</td>\n",
       "    </tr>\n",
       "    <tr>\n",
       "      <th>1</th>\n",
       "      <td>5311211</td>\n",
       "      <td>general</td>\n",
       "      <td>CCCCCC=CC=C1C(C=CC1=O)CC=CCCCC(=O)O</td>\n",
       "      <td>1</td>\n",
       "      <td>{'energy': [34595265.390397474, 39377019.53203...</td>\n",
       "    </tr>\n",
       "    <tr>\n",
       "      <th>2</th>\n",
       "      <td>265237</td>\n",
       "      <td>general</td>\n",
       "      <td>CC1=C(C(=O)OC(C1)C(C)C2CCC3C2(CCC4C3CC5C6(C4(C...</td>\n",
       "      <td>1</td>\n",
       "      <td>{'energy': [19246178018.983406, 19791976042.03...</td>\n",
       "    </tr>\n",
       "    <tr>\n",
       "      <th>3</th>\n",
       "      <td>6438503</td>\n",
       "      <td>general</td>\n",
       "      <td>CC(=CCC1=C(C=CC(=C1O)C(=O)C=CC2=CC=C(C=C2)O)OC)C</td>\n",
       "      <td>1</td>\n",
       "      <td>{'energy': [1928316.800828227, 2040432.2938306...</td>\n",
       "    </tr>\n",
       "    <tr>\n",
       "      <th>4</th>\n",
       "      <td>5318517</td>\n",
       "      <td>general</td>\n",
       "      <td>CC12CCC(C(C1CCC(=C)C2CC=C3C(COC3=O)O)(C)CO)O</td>\n",
       "      <td>1</td>\n",
       "      <td>{'energy': [7723943798.657177, 7912481359.3494...</td>\n",
       "    </tr>\n",
       "    <tr>\n",
       "      <th>...</th>\n",
       "      <td>...</td>\n",
       "      <td>...</td>\n",
       "      <td>...</td>\n",
       "      <td>...</td>\n",
       "      <td>...</td>\n",
       "    </tr>\n",
       "    <tr>\n",
       "      <th>10307</th>\n",
       "      <td>DB04466</td>\n",
       "      <td>NaN</td>\n",
       "      <td>CCOP(=O)(OCC)C(=CC1=CC(=C(O)C(=C1)C(C)(C)C)C(C...</td>\n",
       "      <td>0</td>\n",
       "      <td>{'energy': [-58388.638615099364, -58396.220252...</td>\n",
       "    </tr>\n",
       "    <tr>\n",
       "      <th>11200</th>\n",
       "      <td>DB06518</td>\n",
       "      <td>NaN</td>\n",
       "      <td>CN1C(=O)C(OC2=CC=C(F)C=C2F)=CC2=C1N=C(NC1CCOCC...</td>\n",
       "      <td>0</td>\n",
       "      <td>{'energy': [-37455.21061986566, -37463.1000314...</td>\n",
       "    </tr>\n",
       "    <tr>\n",
       "      <th>13190</th>\n",
       "      <td>DB08752</td>\n",
       "      <td>NaN</td>\n",
       "      <td>[H][C@@](CC1CCCCC1)(NC(=O)N1CCOCC1)C(=O)NC1(CC...</td>\n",
       "      <td>0</td>\n",
       "      <td>{'energy': [-35865.53649831373, -35873.5905781...</td>\n",
       "    </tr>\n",
       "    <tr>\n",
       "      <th>16073</th>\n",
       "      <td>DB14177</td>\n",
       "      <td>NaN</td>\n",
       "      <td>CCCOC(=O)C1=CC=C(O)C=C1</td>\n",
       "      <td>0</td>\n",
       "      <td>{'energy': [-16667.873367884484, -16676.700361...</td>\n",
       "    </tr>\n",
       "    <tr>\n",
       "      <th>7962</th>\n",
       "      <td>DB01792</td>\n",
       "      <td>NaN</td>\n",
       "      <td>NC1=NC=NC2=C1N=CN2[C@@H]1O[C@H](CO)[C@@H](OP(O...</td>\n",
       "      <td>0</td>\n",
       "      <td>{'energy': [-79698.6598085806, -79705.18437974...</td>\n",
       "    </tr>\n",
       "  </tbody>\n",
       "</table>\n",
       "<p>744 rows × 5 columns</p>\n",
       "</div>"
      ],
      "text/plain": [
       "             ID     Type                                             SMILES  \\\n",
       "0      42601513  general  CC(C)C1C=CC(=O)NCCC=CC(C(=O)N1)NC(=O)C(C(C)C)N...   \n",
       "1       5311211  general                CCCCCC=CC=C1C(C=CC1=O)CC=CCCCC(=O)O   \n",
       "2        265237  general  CC1=C(C(=O)OC(C1)C(C)C2CCC3C2(CCC4C3CC5C6(C4(C...   \n",
       "3       6438503  general   CC(=CCC1=C(C=CC(=C1O)C(=O)C=CC2=CC=C(C=C2)O)OC)C   \n",
       "4       5318517  general       CC12CCC(C(C1CCC(=C)C2CC=C3C(COC3=O)O)(C)CO)O   \n",
       "...         ...      ...                                                ...   \n",
       "10307   DB04466      NaN  CCOP(=O)(OCC)C(=CC1=CC(=C(O)C(=C1)C(C)(C)C)C(C...   \n",
       "11200   DB06518      NaN  CN1C(=O)C(OC2=CC=C(F)C=C2F)=CC2=C1N=C(NC1CCOCC...   \n",
       "13190   DB08752      NaN  [H][C@@](CC1CCCCC1)(NC(=O)N1CCOCC1)C(=O)NC1(CC...   \n",
       "16073   DB14177      NaN                            CCCOC(=O)C1=CC=C(O)C=C1   \n",
       "7962    DB01792      NaN  NC1=NC=NC2=C1N=CN2[C@@H]1O[C@H](CO)[C@@H](OP(O...   \n",
       "\n",
       "       covalent                                               data  \n",
       "0             1  {'energy': [3718740898.352236, 3750880119.5500...  \n",
       "1             1  {'energy': [34595265.390397474, 39377019.53203...  \n",
       "2             1  {'energy': [19246178018.983406, 19791976042.03...  \n",
       "3             1  {'energy': [1928316.800828227, 2040432.2938306...  \n",
       "4             1  {'energy': [7723943798.657177, 7912481359.3494...  \n",
       "...         ...                                                ...  \n",
       "10307         0  {'energy': [-58388.638615099364, -58396.220252...  \n",
       "11200         0  {'energy': [-37455.21061986566, -37463.1000314...  \n",
       "13190         0  {'energy': [-35865.53649831373, -35873.5905781...  \n",
       "16073         0  {'energy': [-16667.873367884484, -16676.700361...  \n",
       "7962          0  {'energy': [-79698.6598085806, -79705.18437974...  \n",
       "\n",
       "[744 rows x 5 columns]"
      ]
     },
     "execution_count": 18,
     "metadata": {},
     "output_type": "execute_result"
    }
   ],
   "source": [
    "pd.read_pickle(\"./test/Rowley_test_data.pkl\")"
   ]
  },
  {
   "cell_type": "code",
   "execution_count": null,
   "metadata": {},
   "outputs": [],
   "source": []
  }
 ],
 "metadata": {
  "kernelspec": {
   "display_name": "Python 3.8.13 ('ChemML')",
   "language": "python",
   "name": "python3"
  },
  "language_info": {
   "codemirror_mode": {
    "name": "ipython",
    "version": 3
   },
   "file_extension": ".py",
   "mimetype": "text/x-python",
   "name": "python",
   "nbconvert_exporter": "python",
   "pygments_lexer": "ipython3",
   "version": "3.8.13"
  },
  "orig_nbformat": 4,
  "vscode": {
   "interpreter": {
    "hash": "ba9859627de9cbc786825f4dc8e424551d7135ddb221c331647ece8bdc83881b"
   }
  }
 },
 "nbformat": 4,
 "nbformat_minor": 2
}
