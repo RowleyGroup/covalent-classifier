{
 "cells": [
  {
   "cell_type": "code",
   "execution_count": 2,
   "metadata": {},
   "outputs": [
    {
     "ename": "ImportError",
     "evalue": "attempted relative import with no known parent package",
     "output_type": "error",
     "traceback": [
      "\u001b[0;31m---------------------------------------------------------------------------\u001b[0m",
      "\u001b[0;31mImportError\u001b[0m                               Traceback (most recent call last)",
      "Cell \u001b[0;32mIn[2], line 5\u001b[0m\n\u001b[1;32m      3\u001b[0m \u001b[38;5;28;01mfrom\u001b[39;00m \u001b[38;5;21;01mmolgraph\u001b[39;00m\u001b[38;5;21;01m.\u001b[39;00m\u001b[38;5;21;01mchemistry\u001b[39;00m \u001b[38;5;28;01mimport\u001b[39;00m vis\n\u001b[1;32m      4\u001b[0m \u001b[38;5;66;03m# from helpers import encode\u001b[39;00m\n\u001b[0;32m----> 5\u001b[0m \u001b[38;5;28;01mfrom\u001b[39;00m \u001b[38;5;21;01m.\u001b[39;00m\u001b[38;5;21;01mmodels\u001b[39;00m\u001b[38;5;21;01m.\u001b[39;00m\u001b[38;5;21;01mgraph\u001b[39;00m \u001b[38;5;28;01mimport\u001b[39;00m helpers\n\u001b[1;32m      7\u001b[0m \u001b[38;5;28;01mdef\u001b[39;00m \u001b[38;5;21mmake_gradcam_heatmap\u001b[39m(input_structure, model\u001b[38;5;241m=\u001b[39m\u001b[38;5;124m\"\u001b[39m\u001b[38;5;124m./saved_models/GCNII\u001b[39m\u001b[38;5;124m\"\u001b[39m, return_prob\u001b[38;5;241m=\u001b[39m\u001b[38;5;28;01mFalse\u001b[39;00m):\n\u001b[1;32m      8\u001b[0m     model \u001b[38;5;241m=\u001b[39m tf\u001b[38;5;241m.\u001b[39mkeras\u001b[38;5;241m.\u001b[39mmodels\u001b[38;5;241m.\u001b[39mload_model(model)\n",
      "\u001b[0;31mImportError\u001b[0m: attempted relative import with no known parent package"
     ]
    }
   ],
   "source": [
    "import tensorflow as tf\n",
    "from molgraph.models import GradientActivationMapping\n",
    "from molgraph.chemistry import vis\n",
    "# from helpers import encode\n",
    "from models.graph import helpers\n",
    "\n",
    "def make_gradcam_heatmap(input_structure, model=\"./saved_models/GCNII\", return_prob=False):\n",
    "    model = tf.keras.models.load_model(model)\n",
    "    gam_model = GradientActivationMapping(\n",
    "        model,\n",
    "        [i.name for i in model.layers if \"conv\" in i.name], # all conv layers by default\n",
    "        output_activation=None,\n",
    "        discard_negative_values=True\n",
    "    )\n",
    "    graph = encode(input_structure)\n",
    "    gam = gam_model(graph)\n",
    "    if return_prob:\n",
    "        return model.predict(graph)\n",
    "    return vis.visualize_maps(molecule=input_structure, maps=gam[0])\n",
    "\n",
    "\n",
    "model_file = \"../saved_models/GAT/\"\n",
    "ibrutnib = \"InChI=1S/C22H22N6O3/c1-4-19(29)27-8-7-15(12-27)28-22-20(21(23)24-13-25-22)18(26-28)6-5-14-9-16(30-2)11-17(10-14)31-3/h4,9-11,13,15H,1,7-8,12H2,2-3H3,(H2,23,24,25)/t15-/m0/s1\"\n",
    "ganfeborole = \"InChI=1S/C10H13BClNO4/c12-6-1-2-7(16-4-3-14)10-9(6)8(5-13)17-11(10)15/h1-2,8,14-15H,3-5,13H2/t8-/m1/s1\"\n",
    "\n",
    "\n",
    "make_gradcam_heatmap(ibrutnib, model_file)"
   ]
  },
  {
   "cell_type": "code",
   "execution_count": 2,
   "metadata": {},
   "outputs": [
    {
     "name": "stdout",
     "output_type": "stream",
     "text": [
      "1/1 [==============================] - 2s 2s/step\n"
     ]
    },
    {
     "data": {
      "text/plain": [
       "array([[0.9308277]], dtype=float32)"
      ]
     },
     "execution_count": 2,
     "metadata": {},
     "output_type": "execute_result"
    }
   ],
   "source": [
    "make_gradcam_heatmap(ganfeborole, model_file, return_prob=True)"
   ]
  },
  {
   "cell_type": "code",
   "execution_count": null,
   "metadata": {},
   "outputs": [],
   "source": []
  },
  {
   "cell_type": "code",
   "execution_count": null,
   "metadata": {},
   "outputs": [],
   "source": []
  }
 ],
 "metadata": {
  "kernelspec": {
   "display_name": "molgraph",
   "language": "python",
   "name": "python3"
  },
  "language_info": {
   "codemirror_mode": {
    "name": "ipython",
    "version": 3
   },
   "file_extension": ".py",
   "mimetype": "text/x-python",
   "name": "python",
   "nbconvert_exporter": "python",
   "pygments_lexer": "ipython3",
   "version": "3.10.12"
  }
 },
 "nbformat": 4,
 "nbformat_minor": 2
}
