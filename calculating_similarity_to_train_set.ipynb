{
 "cells": [
  {
   "cell_type": "code",
   "execution_count": 1,
   "metadata": {},
   "outputs": [
    {
     "name": "stderr",
     "output_type": "stream",
     "text": [
      "/home/vh/miniconda3/envs/molgraph/lib/python3.10/site-packages/tqdm/auto.py:21: TqdmWarning: IProgress not found. Please update jupyter and ipywidgets. See https://ipywidgets.readthedocs.io/en/stable/user_install.html\n",
      "  from .autonotebook import tqdm as notebook_tqdm\n"
     ]
    }
   ],
   "source": [
    "import pandas as pd\n",
    "import swifter\n",
    "from rdkit import Chem\n",
    "from rdkit.DataStructs import TanimotoSimilarity, CosineSimilarity\n",
    "\n",
    "def pairwise_distance(input_str, other_str):\n",
    "    mol1 = Chem.MolFromSmiles(input_str)\n",
    "    mol2 = Chem.MolFromSmiles(other_str)\n",
    "    if mol1 is None or mol2 is None:\n",
    "        return None\n",
    "    return 1 - CosineSimilarity(Chem.RDKFingerprint(mol1), Chem.RDKFingerprint(mol2))\n",
    "\n",
    "def tanimoto_similarity(input_str, other_str):\n",
    "    mol1 = Chem.MolFromSmiles(input_str)\n",
    "    mol2 = Chem.MolFromSmiles(other_str)\n",
    "    if mol1 is None or mol2 is None:\n",
    "        return None\n",
    "    return TanimotoSimilarity(Chem.RDKFingerprint(mol1), Chem.RDKFingerprint(mol2))\n",
    "\n",
    "def combined_metric(tanimoto_coefficient, pairwise_distance):\n",
    "    return 0.5 * (tanimoto_coefficient + (1 / (1 + pairwise_distance)))\n",
    "\n",
    "def get_avg_similarity(input_str, ref_df):\n",
    "    similarity = 0\n",
    "    pairwise = 0\n",
    "    n = len(ref_df)\n",
    "    for i in ref_df.SMILES.values:\n",
    "        s = tanimoto_similarity(input_str, i)\n",
    "        p = pairwise_distance(input_str, i)\n",
    "        similarity += s\n",
    "        pairwise += p\n",
    "    return similarity / n, pairwise / n"
   ]
  },
  {
   "cell_type": "code",
   "execution_count": 2,
   "metadata": {},
   "outputs": [
    {
     "name": "stderr",
     "output_type": "stream",
     "text": [
      "/home/vh/miniconda3/envs/molgraph/lib/python3.10/site-packages/swifter/swifter.py:87: UserWarning: This pandas object has duplicate indices, and swifter may not be able to improve performance. Consider resetting the indices with `df.reset_index(drop=True)`.\n",
      "  warnings.warn(\n",
      "Pandas Apply: 100%|██████████| 52227/52227 [00:10<00:00, 4760.61it/s]\n"
     ]
    }
   ],
   "source": [
    "ref_df = pd.concat([\n",
    "    pd.read_csv(\"./data/SMILES_training/trainingset_covalent_smiles.csv\"),\n",
    "    pd.read_csv(\"./data/SMILES_training/trainingset_noncovalent_smiles.csv\")\n",
    "                    ])\n",
    "ref_df[\"SMILES\"] = ref_df[\"SMILES\"].swifter.apply(lambda x: Chem.MolToSmiles(Chem.MolFromSmiles(x)))"
   ]
  },
  {
   "cell_type": "code",
   "execution_count": 3,
   "metadata": {},
   "outputs": [
    {
     "data": {
      "text/plain": [
       "(0.3451725584548221, 0.4822043934436243)"
      ]
     },
     "execution_count": 3,
     "metadata": {},
     "output_type": "execute_result"
    }
   ],
   "source": [
    "test_mol = \"[H]C#CN([H])C(=O)c1nc(N2C([H])([H])C([H])([H])N(C([H])([H])c3c([H])c([H])c(O[H])c(C([H])=O)c3[H])C([H])([H])C2([H])[H])nc(N([H])c2nn([H])c(C3([H])C([H])([H])C3([H])[H])c2[H])c1[H]\"\n",
    "get_avg_similarity(test_mol, ref_df)"
   ]
  },
  {
   "cell_type": "code",
   "execution_count": null,
   "metadata": {},
   "outputs": [],
   "source": []
  }
 ],
 "metadata": {
  "kernelspec": {
   "display_name": "molgraph",
   "language": "python",
   "name": "python3"
  },
  "language_info": {
   "codemirror_mode": {
    "name": "ipython",
    "version": 3
   },
   "file_extension": ".py",
   "mimetype": "text/x-python",
   "name": "python",
   "nbconvert_exporter": "python",
   "pygments_lexer": "ipython3",
   "version": "3.10.12"
  }
 },
 "nbformat": 4,
 "nbformat_minor": 2
}
