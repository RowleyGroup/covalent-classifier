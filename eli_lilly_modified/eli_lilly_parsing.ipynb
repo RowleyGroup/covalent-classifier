{
 "cells": [
  {
   "cell_type": "code",
   "execution_count": 1,
   "metadata": {},
   "outputs": [],
   "source": [
    "import pandas as pd\n",
    "from rdkit import Chem\n",
    "from rdkit import RDLogger\n",
    "from rdkit.Chem.EnumerateStereoisomers import EnumerateStereoisomers, StereoEnumerationOptions\n",
    "RDLogger.DisableLog('rdApp.*')\n",
    "\n",
    "def get_isomer(inchi):\n",
    "    mol = Chem.MolFromInchi(inchi)\n",
    "    isomers = tuple(EnumerateStereoisomers(mol))\n",
    "    isomers = sorted(Chem.MolToInchi(i) for i in isomers)\n",
    "    return isomers[0]\n",
    "\n",
    "def replace_first_space(input_file, output_file):\n",
    "    with open(input_file, 'r') as infile, open(output_file, 'w') as outfile:\n",
    "        for line in infile:\n",
    "            first_space_index = line.find(' ')\n",
    "            modified_line = line[:first_space_index] + ';' + line[first_space_index + 1:]\n",
    "            outfile.write(modified_line)\n",
    "\n",
    "def eli_lilly_filter(flagreason: str):\n",
    "    rules = [\n",
    "        \"no_interesting_atoms\",\n",
    "        \"too_few_rings\",\n",
    "        \"too_many_rings\",\n",
    "        \"biotin\",\n",
    "        \"too_many_aromatic_rings_in_ring_system\",\n",
    "        \"ring_system_too_large\",\n",
    "        \"ring_system_too_large_with_aromatic\",\n",
    "        \"fmoc\",\n",
    "        \"positive\",\n",
    "        \"negative\",\n",
    "        \"too_long_carbon_chain\",\n",
    "        \"diphosphate\",\n",
    "        \"quaternary_amine\",\n",
    "        \"sulfonic_acid\",\n",
    "        \"quaternary_amine\",\n",
    "        \"crown_2_2_cyclic\",\n",
    "        \"crown_3_3_cyclic\",\n",
    "        \"crown_2_3_cyclic\",\n",
    "        \"crown_2_2\",\n",
    "        \"crown_3_3\",\n",
    "        \"crown_2_3\",\n",
    "        \"phenylenediamine\",\n",
    "        \"LongCChain\"\n",
    "             ]\n",
    "    for i in rules:\n",
    "        if i in flagreason:\n",
    "            return None\n",
    "    return 0"
   ]
  },
  {
   "cell_type": "code",
   "execution_count": 2,
   "metadata": {},
   "outputs": [],
   "source": [
    "replace_first_space(\"./original_outputs/bad0.smi\", \"./parsed_outputs/parsed_smi_0.smi\")\n",
    "replace_first_space(\"./original_outputs/bad1.smi\", \"./parsed_outputs/parsed_smi_1.smi\")\n",
    "replace_first_space(\"./original_outputs/bad2.smi\", \"./parsed_outputs/parsed_smi_2.smi\")\n",
    "replace_first_space(\"./original_outputs/bad3.smi\", \"./parsed_outputs/parsed_smi_3.smi\")\n",
    "replace_first_space(\"./original_outputs/good.smi\", \"./parsed_outputs/good.smi\")"
   ]
  },
  {
   "cell_type": "code",
   "execution_count": 3,
   "metadata": {},
   "outputs": [
    {
     "data": {
      "text/html": [
       "<div>\n",
       "<style scoped>\n",
       "    .dataframe tbody tr th:only-of-type {\n",
       "        vertical-align: middle;\n",
       "    }\n",
       "\n",
       "    .dataframe tbody tr th {\n",
       "        vertical-align: top;\n",
       "    }\n",
       "\n",
       "    .dataframe thead th {\n",
       "        text-align: right;\n",
       "    }\n",
       "</style>\n",
       "<table border=\"1\" class=\"dataframe\">\n",
       "  <thead>\n",
       "    <tr style=\"text-align: right;\">\n",
       "      <th></th>\n",
       "      <th>SMILES</th>\n",
       "      <th>FlagReason</th>\n",
       "      <th>pred</th>\n",
       "    </tr>\n",
       "  </thead>\n",
       "  <tbody>\n",
       "    <tr>\n",
       "      <th>0</th>\n",
       "      <td>C=CCN=C=S</td>\n",
       "      <td>TP1 not_enough_atoms</td>\n",
       "      <td>1</td>\n",
       "    </tr>\n",
       "    <tr>\n",
       "      <th>1</th>\n",
       "      <td>C1=CC(Cl)=C2C(=CC=CC2=C1)C1=NC=C2C(=NC(=NC2=C1...</td>\n",
       "      <td>TP1 too_many_atoms</td>\n",
       "      <td>1</td>\n",
       "    </tr>\n",
       "    <tr>\n",
       "      <th>2</th>\n",
       "      <td>C(Cl)C1OC1</td>\n",
       "      <td>TP1 not_enough_atoms</td>\n",
       "      <td>1</td>\n",
       "    </tr>\n",
       "    <tr>\n",
       "      <th>3</th>\n",
       "      <td>C(Br)C1OC1</td>\n",
       "      <td>TP1 not_enough_atoms</td>\n",
       "      <td>1</td>\n",
       "    </tr>\n",
       "    <tr>\n",
       "      <th>4</th>\n",
       "      <td>C(F)C1OC1</td>\n",
       "      <td>TP1 not_enough_atoms</td>\n",
       "      <td>1</td>\n",
       "    </tr>\n",
       "    <tr>\n",
       "      <th>...</th>\n",
       "      <td>...</td>\n",
       "      <td>...</td>\n",
       "      <td>...</td>\n",
       "    </tr>\n",
       "    <tr>\n",
       "      <th>143</th>\n",
       "      <td>C1C[C@@H]2O[C@@H]2CC[C@H]2O[C@@H]12</td>\n",
       "      <td>: D(50) het_3mem_ring_fused</td>\n",
       "      <td>0</td>\n",
       "    </tr>\n",
       "    <tr>\n",
       "      <th>144</th>\n",
       "      <td>NC(=O)N1C2=CC=CC=C2[C@@H]2O[C@@H]2C2=CC=CC=C12</td>\n",
       "      <td>: D(50) het_3mem_ring_fused</td>\n",
       "      <td>0</td>\n",
       "    </tr>\n",
       "    <tr>\n",
       "      <th>145</th>\n",
       "      <td>C1=CC=C2C(=C1)C(=C1CCN(C)CC1)C1=CC=CC=C1[C@H]1...</td>\n",
       "      <td>: D(50) het_3mem_ring_fused</td>\n",
       "      <td>0</td>\n",
       "    </tr>\n",
       "    <tr>\n",
       "      <th>146</th>\n",
       "      <td>C1=CC=C2C(=C1)N=CC(=O)N2</td>\n",
       "      <td>C1=CC=C2C(=C1)N=CC(=O)N2</td>\n",
       "      <td>0</td>\n",
       "    </tr>\n",
       "    <tr>\n",
       "      <th>147</th>\n",
       "      <td>C#CCN1C(=O)C=NC2=CC=CC=C12</td>\n",
       "      <td>: D(50) acetylene</td>\n",
       "      <td>0</td>\n",
       "    </tr>\n",
       "  </tbody>\n",
       "</table>\n",
       "<p>609 rows × 3 columns</p>\n",
       "</div>"
      ],
      "text/plain": [
       "                                                SMILES  \\\n",
       "0                                            C=CCN=C=S   \n",
       "1    C1=CC(Cl)=C2C(=CC=CC2=C1)C1=NC=C2C(=NC(=NC2=C1...   \n",
       "2                                           C(Cl)C1OC1   \n",
       "3                                           C(Br)C1OC1   \n",
       "4                                            C(F)C1OC1   \n",
       "..                                                 ...   \n",
       "143                C1C[C@@H]2O[C@@H]2CC[C@H]2O[C@@H]12   \n",
       "144     NC(=O)N1C2=CC=CC=C2[C@@H]2O[C@@H]2C2=CC=CC=C12   \n",
       "145  C1=CC=C2C(=C1)C(=C1CCN(C)CC1)C1=CC=CC=C1[C@H]1...   \n",
       "146                           C1=CC=C2C(=C1)N=CC(=O)N2   \n",
       "147                         C#CCN1C(=O)C=NC2=CC=CC=C12   \n",
       "\n",
       "                      FlagReason  pred  \n",
       "0           TP1 not_enough_atoms     1  \n",
       "1             TP1 too_many_atoms     1  \n",
       "2           TP1 not_enough_atoms     1  \n",
       "3           TP1 not_enough_atoms     1  \n",
       "4           TP1 not_enough_atoms     1  \n",
       "..                           ...   ...  \n",
       "143  : D(50) het_3mem_ring_fused     0  \n",
       "144  : D(50) het_3mem_ring_fused     0  \n",
       "145  : D(50) het_3mem_ring_fused     0  \n",
       "146     C1=CC=C2C(=C1)N=CC(=O)N2     0  \n",
       "147            : D(50) acetylene     0  \n",
       "\n",
       "[609 rows x 3 columns]"
      ]
     },
     "execution_count": 3,
     "metadata": {},
     "output_type": "execute_result"
    }
   ],
   "source": [
    "df0 = pd.read_csv(\"./parsed_outputs/parsed_smi_0.smi\",\n",
    "                  delimiter=\";\", names=[\"SMILES\", \"FlagReason\"])\n",
    "df1 = pd.read_csv(\"./parsed_outputs/parsed_smi_1.smi\",\n",
    "                  delimiter=\";\", names=[\"SMILES\", \"FlagReason\"])\n",
    "df2 = pd.read_csv(\"./parsed_outputs/parsed_smi_2.smi\",\n",
    "                  delimiter=\";\", names=[\"SMILES\", \"FlagReason\"])\n",
    "df3 = pd.read_csv(\"./parsed_outputs/parsed_smi_3.smi\",\n",
    "                  delimiter=\";\", names=[\"SMILES\", \"FlagReason\"])\n",
    "df4 = pd.read_csv(\"./parsed_outputs/good.smi\",\n",
    "                  delimiter=\";\", names=[\"SMILES\", \"FlagReason\"])\n",
    "\n",
    "df_pos = pd.concat([df0, df1, df2, df3])\n",
    "df_pos[\"pred\"] = 1\n",
    "df_neg = df4\n",
    "df_neg[\"pred\"] = 0\n",
    "df = pd.concat([df_pos, df_neg])\n",
    "df"
   ]
  },
  {
   "cell_type": "code",
   "execution_count": 4,
   "metadata": {},
   "outputs": [
    {
     "data": {
      "text/html": [
       "<div>\n",
       "<style scoped>\n",
       "    .dataframe tbody tr th:only-of-type {\n",
       "        vertical-align: middle;\n",
       "    }\n",
       "\n",
       "    .dataframe tbody tr th {\n",
       "        vertical-align: top;\n",
       "    }\n",
       "\n",
       "    .dataframe thead th {\n",
       "        text-align: right;\n",
       "    }\n",
       "</style>\n",
       "<table border=\"1\" class=\"dataframe\">\n",
       "  <thead>\n",
       "    <tr style=\"text-align: right;\">\n",
       "      <th></th>\n",
       "      <th>SMILES</th>\n",
       "      <th>FlagReason</th>\n",
       "      <th>pred</th>\n",
       "      <th>InChI</th>\n",
       "    </tr>\n",
       "  </thead>\n",
       "  <tbody>\n",
       "    <tr>\n",
       "      <th>0</th>\n",
       "      <td>C=CCN=C=S</td>\n",
       "      <td>TP1 not_enough_atoms</td>\n",
       "      <td>1</td>\n",
       "      <td>InChI=1S/C4H5NS/c1-2-3-5-4-6/h2H,1,3H2</td>\n",
       "    </tr>\n",
       "    <tr>\n",
       "      <th>1</th>\n",
       "      <td>C1=CC(Cl)=C2C(=CC=CC2=C1)C1=NC=C2C(=NC(=NC2=C1...</td>\n",
       "      <td>TP1 too_many_atoms</td>\n",
       "      <td>1</td>\n",
       "      <td>InChI=1S/C31H29ClFN5O3/c32-22-8-2-6-18-5-1-7-2...</td>\n",
       "    </tr>\n",
       "    <tr>\n",
       "      <th>2</th>\n",
       "      <td>C(Cl)C1OC1</td>\n",
       "      <td>TP1 not_enough_atoms</td>\n",
       "      <td>1</td>\n",
       "      <td>InChI=1S/C3H5ClO/c4-1-3-2-5-3/h3H,1-2H2</td>\n",
       "    </tr>\n",
       "    <tr>\n",
       "      <th>3</th>\n",
       "      <td>C(Br)C1OC1</td>\n",
       "      <td>TP1 not_enough_atoms</td>\n",
       "      <td>1</td>\n",
       "      <td>InChI=1S/C3H5BrO/c4-1-3-2-5-3/h3H,1-2H2</td>\n",
       "    </tr>\n",
       "    <tr>\n",
       "      <th>4</th>\n",
       "      <td>C(F)C1OC1</td>\n",
       "      <td>TP1 not_enough_atoms</td>\n",
       "      <td>1</td>\n",
       "      <td>InChI=1S/C3H5FO/c4-1-3-2-5-3/h3H,1-2H2</td>\n",
       "    </tr>\n",
       "    <tr>\n",
       "      <th>...</th>\n",
       "      <td>...</td>\n",
       "      <td>...</td>\n",
       "      <td>...</td>\n",
       "      <td>...</td>\n",
       "    </tr>\n",
       "    <tr>\n",
       "      <th>143</th>\n",
       "      <td>C1C[C@@H]2O[C@@H]2CC[C@H]2O[C@@H]12</td>\n",
       "      <td>: D(50) het_3mem_ring_fused</td>\n",
       "      <td>0</td>\n",
       "      <td>InChI=1S/C8H12O2/c1-2-6-8(10-6)4-3-7-5(1)9-7/h...</td>\n",
       "    </tr>\n",
       "    <tr>\n",
       "      <th>144</th>\n",
       "      <td>NC(=O)N1C2=CC=CC=C2[C@@H]2O[C@@H]2C2=CC=CC=C12</td>\n",
       "      <td>: D(50) het_3mem_ring_fused</td>\n",
       "      <td>0</td>\n",
       "      <td>InChI=1S/C15H12N2O2/c16-15(18)17-11-7-3-1-5-9(...</td>\n",
       "    </tr>\n",
       "    <tr>\n",
       "      <th>145</th>\n",
       "      <td>C1=CC=C2C(=C1)C(=C1CCN(C)CC1)C1=CC=CC=C1[C@H]1...</td>\n",
       "      <td>: D(50) het_3mem_ring_fused</td>\n",
       "      <td>0</td>\n",
       "      <td>InChI=1S/C21H21NO/c1-22-12-10-14(11-13-22)19-1...</td>\n",
       "    </tr>\n",
       "    <tr>\n",
       "      <th>146</th>\n",
       "      <td>C1=CC=C2C(=C1)N=CC(=O)N2</td>\n",
       "      <td>C1=CC=C2C(=C1)N=CC(=O)N2</td>\n",
       "      <td>0</td>\n",
       "      <td>InChI=1S/C8H6N2O/c11-8-5-9-6-3-1-2-4-7(6)10-8/...</td>\n",
       "    </tr>\n",
       "    <tr>\n",
       "      <th>147</th>\n",
       "      <td>C#CCN1C(=O)C=NC2=CC=CC=C12</td>\n",
       "      <td>: D(50) acetylene</td>\n",
       "      <td>0</td>\n",
       "      <td>InChI=1S/C11H8N2O/c1-2-7-13-10-6-4-3-5-9(10)12...</td>\n",
       "    </tr>\n",
       "  </tbody>\n",
       "</table>\n",
       "<p>607 rows × 4 columns</p>\n",
       "</div>"
      ],
      "text/plain": [
       "                                                SMILES  \\\n",
       "0                                            C=CCN=C=S   \n",
       "1    C1=CC(Cl)=C2C(=CC=CC2=C1)C1=NC=C2C(=NC(=NC2=C1...   \n",
       "2                                           C(Cl)C1OC1   \n",
       "3                                           C(Br)C1OC1   \n",
       "4                                            C(F)C1OC1   \n",
       "..                                                 ...   \n",
       "143                C1C[C@@H]2O[C@@H]2CC[C@H]2O[C@@H]12   \n",
       "144     NC(=O)N1C2=CC=CC=C2[C@@H]2O[C@@H]2C2=CC=CC=C12   \n",
       "145  C1=CC=C2C(=C1)C(=C1CCN(C)CC1)C1=CC=CC=C1[C@H]1...   \n",
       "146                           C1=CC=C2C(=C1)N=CC(=O)N2   \n",
       "147                         C#CCN1C(=O)C=NC2=CC=CC=C12   \n",
       "\n",
       "                      FlagReason  pred  \\\n",
       "0           TP1 not_enough_atoms     1   \n",
       "1             TP1 too_many_atoms     1   \n",
       "2           TP1 not_enough_atoms     1   \n",
       "3           TP1 not_enough_atoms     1   \n",
       "4           TP1 not_enough_atoms     1   \n",
       "..                           ...   ...   \n",
       "143  : D(50) het_3mem_ring_fused     0   \n",
       "144  : D(50) het_3mem_ring_fused     0   \n",
       "145  : D(50) het_3mem_ring_fused     0   \n",
       "146     C1=CC=C2C(=C1)N=CC(=O)N2     0   \n",
       "147            : D(50) acetylene     0   \n",
       "\n",
       "                                                 InChI  \n",
       "0               InChI=1S/C4H5NS/c1-2-3-5-4-6/h2H,1,3H2  \n",
       "1    InChI=1S/C31H29ClFN5O3/c32-22-8-2-6-18-5-1-7-2...  \n",
       "2              InChI=1S/C3H5ClO/c4-1-3-2-5-3/h3H,1-2H2  \n",
       "3              InChI=1S/C3H5BrO/c4-1-3-2-5-3/h3H,1-2H2  \n",
       "4               InChI=1S/C3H5FO/c4-1-3-2-5-3/h3H,1-2H2  \n",
       "..                                                 ...  \n",
       "143  InChI=1S/C8H12O2/c1-2-6-8(10-6)4-3-7-5(1)9-7/h...  \n",
       "144  InChI=1S/C15H12N2O2/c16-15(18)17-11-7-3-1-5-9(...  \n",
       "145  InChI=1S/C21H21NO/c1-22-12-10-14(11-13-22)19-1...  \n",
       "146  InChI=1S/C8H6N2O/c11-8-5-9-6-3-1-2-4-7(6)10-8/...  \n",
       "147  InChI=1S/C11H8N2O/c1-2-7-13-10-6-4-3-5-9(10)12...  \n",
       "\n",
       "[607 rows x 4 columns]"
      ]
     },
     "execution_count": 4,
     "metadata": {},
     "output_type": "execute_result"
    }
   ],
   "source": [
    "df[\"remove\"] = df.FlagReason.apply(eli_lilly_filter)\n",
    "df = df.dropna().drop(\"remove\", axis=1)\n",
    "df[\"InChI\"] = df.SMILES.apply(lambda x: Chem.MolToInchi(Chem.MolFromSmiles(x)))\n",
    "df[\"InChI\"] = df.InChI.apply(get_isomer)\n",
    "df"
   ]
  },
  {
   "cell_type": "code",
   "execution_count": 5,
   "metadata": {},
   "outputs": [],
   "source": [
    "test_data_df = pd.read_csv(\"../data/SMILES_test/test_data_all.csv\")\n",
    "test_data_df[\"InChI\"] = test_data_df.SMILES.apply(lambda x: Chem.MolToInchi(Chem.MolFromSmiles(x)))\n",
    "test_data_df[\"InChI\"] = test_data_df.InChI.apply(get_isomer)\n",
    "test_data_df = test_data_df[[\"InChI\", \"warhead_category\", \"covalent\", \"SMILES\"]]"
   ]
  },
  {
   "cell_type": "code",
   "execution_count": 6,
   "metadata": {},
   "outputs": [
    {
     "data": {
      "text/html": [
       "<div>\n",
       "<style scoped>\n",
       "    .dataframe tbody tr th:only-of-type {\n",
       "        vertical-align: middle;\n",
       "    }\n",
       "\n",
       "    .dataframe tbody tr th {\n",
       "        vertical-align: top;\n",
       "    }\n",
       "\n",
       "    .dataframe thead th {\n",
       "        text-align: right;\n",
       "    }\n",
       "</style>\n",
       "<table border=\"1\" class=\"dataframe\">\n",
       "  <thead>\n",
       "    <tr style=\"text-align: right;\">\n",
       "      <th></th>\n",
       "      <th>SMILES_x</th>\n",
       "      <th>FlagReason</th>\n",
       "      <th>pred</th>\n",
       "      <th>InChI</th>\n",
       "      <th>warhead_category</th>\n",
       "      <th>covalent</th>\n",
       "      <th>SMILES_y</th>\n",
       "    </tr>\n",
       "  </thead>\n",
       "  <tbody>\n",
       "    <tr>\n",
       "      <th>0</th>\n",
       "      <td>C=CCN=C=S</td>\n",
       "      <td>TP1 not_enough_atoms</td>\n",
       "      <td>1</td>\n",
       "      <td>InChI=1S/C4H5NS/c1-2-3-5-4-6/h2H,1,3H2</td>\n",
       "      <td>thiocyanate</td>\n",
       "      <td>1.0</td>\n",
       "      <td>[H]C([H])=C([H])C([H])([H])N=C=S</td>\n",
       "    </tr>\n",
       "    <tr>\n",
       "      <th>1</th>\n",
       "      <td>C1=CC(Cl)=C2C(=CC=CC2=C1)C1=NC=C2C(=NC(=NC2=C1...</td>\n",
       "      <td>TP1 too_many_atoms</td>\n",
       "      <td>1</td>\n",
       "      <td>InChI=1S/C31H29ClFN5O3/c32-22-8-2-6-18-5-1-7-2...</td>\n",
       "      <td>lactone</td>\n",
       "      <td>1.0</td>\n",
       "      <td>[H]c1c([H])c(Cl)c2c(-c3nc([H])c4c(N5C([H])([H]...</td>\n",
       "    </tr>\n",
       "    <tr>\n",
       "      <th>2</th>\n",
       "      <td>C(Cl)C1OC1</td>\n",
       "      <td>TP1 not_enough_atoms</td>\n",
       "      <td>1</td>\n",
       "      <td>InChI=1S/C3H5ClO/c4-1-3-2-5-3/h3H,1-2H2</td>\n",
       "      <td>epoxide</td>\n",
       "      <td>1.0</td>\n",
       "      <td>[H]C([H])(Cl)C1([H])OC1([H])[H]</td>\n",
       "    </tr>\n",
       "    <tr>\n",
       "      <th>3</th>\n",
       "      <td>C(Br)C1OC1</td>\n",
       "      <td>TP1 not_enough_atoms</td>\n",
       "      <td>1</td>\n",
       "      <td>InChI=1S/C3H5BrO/c4-1-3-2-5-3/h3H,1-2H2</td>\n",
       "      <td>epoxide</td>\n",
       "      <td>1.0</td>\n",
       "      <td>[H]C([H])(Br)C1([H])OC1([H])[H]</td>\n",
       "    </tr>\n",
       "    <tr>\n",
       "      <th>4</th>\n",
       "      <td>C(F)C1OC1</td>\n",
       "      <td>TP1 not_enough_atoms</td>\n",
       "      <td>1</td>\n",
       "      <td>InChI=1S/C3H5FO/c4-1-3-2-5-3/h3H,1-2H2</td>\n",
       "      <td>epoxide</td>\n",
       "      <td>1.0</td>\n",
       "      <td>[H]C([H])(F)C1([H])OC1([H])[H]</td>\n",
       "    </tr>\n",
       "    <tr>\n",
       "      <th>...</th>\n",
       "      <td>...</td>\n",
       "      <td>...</td>\n",
       "      <td>...</td>\n",
       "      <td>...</td>\n",
       "      <td>...</td>\n",
       "      <td>...</td>\n",
       "      <td>...</td>\n",
       "    </tr>\n",
       "    <tr>\n",
       "      <th>604</th>\n",
       "      <td>C1C[C@@H]2O[C@@H]2CC[C@H]2O[C@@H]12</td>\n",
       "      <td>: D(50) het_3mem_ring_fused</td>\n",
       "      <td>0</td>\n",
       "      <td>InChI=1S/C8H12O2/c1-2-6-8(10-6)4-3-7-5(1)9-7/h...</td>\n",
       "      <td>noncovalentdecoy</td>\n",
       "      <td>0.0</td>\n",
       "      <td>[H]C1([H])C([H])([H])[C@]2([H])O[C@]2([H])C([H...</td>\n",
       "    </tr>\n",
       "    <tr>\n",
       "      <th>605</th>\n",
       "      <td>NC(=O)N1C2=CC=CC=C2[C@@H]2O[C@@H]2C2=CC=CC=C12</td>\n",
       "      <td>: D(50) het_3mem_ring_fused</td>\n",
       "      <td>0</td>\n",
       "      <td>InChI=1S/C15H12N2O2/c16-15(18)17-11-7-3-1-5-9(...</td>\n",
       "      <td>noncovalentdecoy</td>\n",
       "      <td>0.0</td>\n",
       "      <td>[H]N=C(O[H])N1c2c([H])c([H])c([H])c([H])c2[C@]...</td>\n",
       "    </tr>\n",
       "    <tr>\n",
       "      <th>606</th>\n",
       "      <td>C1=CC=C2C(=C1)C(=C1CCN(C)CC1)C1=CC=CC=C1[C@H]1...</td>\n",
       "      <td>: D(50) het_3mem_ring_fused</td>\n",
       "      <td>0</td>\n",
       "      <td>InChI=1S/C21H21NO/c1-22-12-10-14(11-13-22)19-1...</td>\n",
       "      <td>noncovalentdecoy</td>\n",
       "      <td>0.0</td>\n",
       "      <td>[H]c1c([H])c([H])c2c(c1[H])C(=C1C([H])([H])C([...</td>\n",
       "    </tr>\n",
       "    <tr>\n",
       "      <th>607</th>\n",
       "      <td>C1=CC=C2C(=C1)N=CC(=O)N2</td>\n",
       "      <td>C1=CC=C2C(=C1)N=CC(=O)N2</td>\n",
       "      <td>0</td>\n",
       "      <td>InChI=1S/C8H6N2O/c11-8-5-9-6-3-1-2-4-7(6)10-8/...</td>\n",
       "      <td>noncovalentdecoy</td>\n",
       "      <td>0.0</td>\n",
       "      <td>[H]c1c([H])c([H])c2c(nc([H])c(=O)n2[H])c1[H]</td>\n",
       "    </tr>\n",
       "    <tr>\n",
       "      <th>608</th>\n",
       "      <td>C#CCN1C(=O)C=NC2=CC=CC=C12</td>\n",
       "      <td>: D(50) acetylene</td>\n",
       "      <td>0</td>\n",
       "      <td>InChI=1S/C11H8N2O/c1-2-7-13-10-6-4-3-5-9(10)12...</td>\n",
       "      <td>noncovalentdecoy</td>\n",
       "      <td>0.0</td>\n",
       "      <td>[H]C#CC([H])([H])n1c(=O)c([H])nc2c([H])c([H])c...</td>\n",
       "    </tr>\n",
       "  </tbody>\n",
       "</table>\n",
       "<p>596 rows × 7 columns</p>\n",
       "</div>"
      ],
      "text/plain": [
       "                                              SMILES_x  \\\n",
       "0                                            C=CCN=C=S   \n",
       "1    C1=CC(Cl)=C2C(=CC=CC2=C1)C1=NC=C2C(=NC(=NC2=C1...   \n",
       "2                                           C(Cl)C1OC1   \n",
       "3                                           C(Br)C1OC1   \n",
       "4                                            C(F)C1OC1   \n",
       "..                                                 ...   \n",
       "604                C1C[C@@H]2O[C@@H]2CC[C@H]2O[C@@H]12   \n",
       "605     NC(=O)N1C2=CC=CC=C2[C@@H]2O[C@@H]2C2=CC=CC=C12   \n",
       "606  C1=CC=C2C(=C1)C(=C1CCN(C)CC1)C1=CC=CC=C1[C@H]1...   \n",
       "607                           C1=CC=C2C(=C1)N=CC(=O)N2   \n",
       "608                         C#CCN1C(=O)C=NC2=CC=CC=C12   \n",
       "\n",
       "                      FlagReason  pred  \\\n",
       "0           TP1 not_enough_atoms     1   \n",
       "1             TP1 too_many_atoms     1   \n",
       "2           TP1 not_enough_atoms     1   \n",
       "3           TP1 not_enough_atoms     1   \n",
       "4           TP1 not_enough_atoms     1   \n",
       "..                           ...   ...   \n",
       "604  : D(50) het_3mem_ring_fused     0   \n",
       "605  : D(50) het_3mem_ring_fused     0   \n",
       "606  : D(50) het_3mem_ring_fused     0   \n",
       "607     C1=CC=C2C(=C1)N=CC(=O)N2     0   \n",
       "608            : D(50) acetylene     0   \n",
       "\n",
       "                                                 InChI  warhead_category  \\\n",
       "0               InChI=1S/C4H5NS/c1-2-3-5-4-6/h2H,1,3H2       thiocyanate   \n",
       "1    InChI=1S/C31H29ClFN5O3/c32-22-8-2-6-18-5-1-7-2...           lactone   \n",
       "2              InChI=1S/C3H5ClO/c4-1-3-2-5-3/h3H,1-2H2           epoxide   \n",
       "3              InChI=1S/C3H5BrO/c4-1-3-2-5-3/h3H,1-2H2           epoxide   \n",
       "4               InChI=1S/C3H5FO/c4-1-3-2-5-3/h3H,1-2H2           epoxide   \n",
       "..                                                 ...               ...   \n",
       "604  InChI=1S/C8H12O2/c1-2-6-8(10-6)4-3-7-5(1)9-7/h...  noncovalentdecoy   \n",
       "605  InChI=1S/C15H12N2O2/c16-15(18)17-11-7-3-1-5-9(...  noncovalentdecoy   \n",
       "606  InChI=1S/C21H21NO/c1-22-12-10-14(11-13-22)19-1...  noncovalentdecoy   \n",
       "607  InChI=1S/C8H6N2O/c11-8-5-9-6-3-1-2-4-7(6)10-8/...  noncovalentdecoy   \n",
       "608  InChI=1S/C11H8N2O/c1-2-7-13-10-6-4-3-5-9(10)12...  noncovalentdecoy   \n",
       "\n",
       "     covalent                                           SMILES_y  \n",
       "0         1.0                   [H]C([H])=C([H])C([H])([H])N=C=S  \n",
       "1         1.0  [H]c1c([H])c(Cl)c2c(-c3nc([H])c4c(N5C([H])([H]...  \n",
       "2         1.0                    [H]C([H])(Cl)C1([H])OC1([H])[H]  \n",
       "3         1.0                    [H]C([H])(Br)C1([H])OC1([H])[H]  \n",
       "4         1.0                     [H]C([H])(F)C1([H])OC1([H])[H]  \n",
       "..        ...                                                ...  \n",
       "604       0.0  [H]C1([H])C([H])([H])[C@]2([H])O[C@]2([H])C([H...  \n",
       "605       0.0  [H]N=C(O[H])N1c2c([H])c([H])c([H])c([H])c2[C@]...  \n",
       "606       0.0  [H]c1c([H])c([H])c2c(c1[H])C(=C1C([H])([H])C([...  \n",
       "607       0.0       [H]c1c([H])c([H])c2c(nc([H])c(=O)n2[H])c1[H]  \n",
       "608       0.0  [H]C#CC([H])([H])n1c(=O)c([H])nc2c([H])c([H])c...  \n",
       "\n",
       "[596 rows x 7 columns]"
      ]
     },
     "execution_count": 6,
     "metadata": {},
     "output_type": "execute_result"
    }
   ],
   "source": [
    "df_final = df.merge(test_data_df, how=\"left\", on=[\"InChI\"])\n",
    "# [[\"InChI\", \"covalent\", \"FlagReason\", \"pred\"]]\n",
    "# df_final.pred = df_final.pred.fillna(0)\n",
    "df_final = df_final.dropna()\n",
    "df_final"
   ]
  },
  {
   "cell_type": "markdown",
   "metadata": {},
   "source": [
    "### Why does eli lilly generate new structures?"
   ]
  },
  {
   "cell_type": "code",
   "execution_count": 7,
   "metadata": {},
   "outputs": [],
   "source": [
    "test_inchies = set(test_data_df.InChI.values)\n",
    "eli_inchies = set(df.InChI.values)\n",
    "to_remove = test_inchies.intersection(eli_inchies)\n",
    "\n",
    "test_inchies = sorted(list(test_inchies - to_remove))\n",
    "eli_inchies = sorted(list(eli_inchies - to_remove))\n"
   ]
  },
  {
   "cell_type": "code",
   "execution_count": 8,
   "metadata": {},
   "outputs": [
    {
     "data": {
      "text/plain": [
       "('InChI=1S/C15H11N3O3S2/c19-12-8(13-18(12)10(6-22-13)14(20)21)4-7-5-17-9-2-1-3-11(9)23-15(17)16-7/h4-6,13H,1-3H2,(H,20,21)/b8-4+',\n",
       " 'InChI=1S/C12H10ClN5O/c1-18-3-4-2-5(12(16)19)17-10-6(4)11(18)9(15)7(13)8(10)14/h2-3H,1H3,(H5,14,15,16,19)/p+1')"
      ]
     },
     "execution_count": 8,
     "metadata": {},
     "output_type": "execute_result"
    }
   ],
   "source": [
    "eli_inchies[0], test_inchies[0]"
   ]
  },
  {
   "cell_type": "code",
   "execution_count": 9,
   "metadata": {},
   "outputs": [
    {
     "data": {
      "image/png": "[encoded data removed]",
      "text/plain": [
       "<rdkit.Chem.rdchem.Mol at 0x7fbc0b9ede70>"
      ]
     },
     "execution_count": 9,
     "metadata": {},
     "output_type": "execute_result"
    }
   ],
   "source": [
    "# Chem.MolFromInchi(eli_inchies[0])\n",
    "Chem.MolFromInchi(test_inchies[0])"
   ]
  },
  {
   "cell_type": "markdown",
   "metadata": {},
   "source": [
    "### Compare metrics"
   ]
  },
  {
   "cell_type": "code",
   "execution_count": 10,
   "metadata": {},
   "outputs": [
    {
     "name": "stderr",
     "output_type": "stream",
     "text": [
      "/home/vh/miniconda3/envs/molgraph/lib/python3.10/site-packages/scipy/__init__.py:146: UserWarning: A NumPy version >=1.16.5 and <1.23.0 is required for this version of SciPy (detected version 1.24.3\n",
      "  warnings.warn(f\"A NumPy version >={np_minversion} and <{np_maxversion}\"\n"
     ]
    },
    {
     "data": {
      "text/plain": [
       "(0.8066666666666666, 0.8746987951807229, 0.8393063583815028)"
      ]
     },
     "execution_count": 10,
     "metadata": {},
     "output_type": "execute_result"
    }
   ],
   "source": [
    "from sklearn.metrics import precision_score, recall_score, accuracy_score, f1_score\n",
    "(\n",
    "    precision_score(df_final.covalent, df_final.pred),\n",
    "    recall_score(df_final.covalent, df_final.pred),\n",
    "    f1_score(df_final.covalent, df_final.pred),\n",
    ")\n"
   ]
  },
  {
   "cell_type": "code",
   "execution_count": 11,
   "metadata": {},
   "outputs": [
    {
     "data": {
      "text/plain": [
       "0.7446808510638299"
      ]
     },
     "execution_count": 11,
     "metadata": {},
     "output_type": "execute_result"
    }
   ],
   "source": [
    "1 - accuracy_score(\n",
    "    df_final.query(\"warhead_category == 'noncovalentdecoy'\").covalent,\n",
    "    df_final.query(\"warhead_category == 'noncovalentdecoy'\").pred,\n",
    "                   )"
   ]
  },
  {
   "cell_type": "code",
   "execution_count": 12,
   "metadata": {},
   "outputs": [
    {
     "name": "stderr",
     "output_type": "stream",
     "text": [
      "2023-12-22 16:20:35.476814: I tensorflow/core/util/port.cc:110] oneDNN custom operations are on. You may see slightly different numerical results due to floating-point round-off errors from different computation orders. To turn them off, set the environment variable `TF_ENABLE_ONEDNN_OPTS=0`.\n",
      "2023-12-22 16:20:35.478116: I tensorflow/tsl/cuda/cudart_stub.cc:28] Could not find cuda drivers on your machine, GPU will not be used.\n",
      "2023-12-22 16:20:35.503762: I tensorflow/tsl/cuda/cudart_stub.cc:28] Could not find cuda drivers on your machine, GPU will not be used.\n",
      "2023-12-22 16:20:35.504502: I tensorflow/core/platform/cpu_feature_guard.cc:182] This TensorFlow binary is optimized to use available CPU instructions in performance-critical operations.\n",
      "To enable the following instructions: AVX2 AVX_VNNI FMA, in other operations, rebuild TensorFlow with the appropriate compiler flags.\n"
     ]
    },
    {
     "name": "stderr",
     "output_type": "stream",
     "text": [
      "2023-12-22 16:20:35.977952: W tensorflow/compiler/tf2tensorrt/utils/py_utils.cc:38] TF-TRT Warning: Could not find TensorRT\n",
      "/home/vh/miniconda3/envs/molgraph/lib/python3.10/site-packages/tqdm/auto.py:21: TqdmWarning: IProgress not found. Please update jupyter and ipywidgets. See https://ipywidgets.readthedocs.io/en/stable/user_install.html\n",
      "  from .autonotebook import tqdm as notebook_tqdm\n",
      "2023-12-22 16:20:36.571226: I tensorflow/compiler/xla/stream_executor/cuda/cuda_gpu_executor.cc:995] successful NUMA node read from SysFS had negative value (-1), but there must be at least one NUMA node, so returning NUMA node zero. See more at https://github.com/torvalds/linux/blob/v6.0/Documentation/ABI/testing/sysfs-bus-pci#L344-L355\n",
      "2023-12-22 16:20:36.571554: W tensorflow/core/common_runtime/gpu/gpu_device.cc:1960] Cannot dlopen some GPU libraries. Please make sure the missing libraries mentioned above are installed properly if you would like to use GPU. Follow the guide at https://www.tensorflow.org/install/gpu for how to download and setup the required libraries for your platform.\n",
      "Skipping registering GPU devices...\n"
     ]
    },
    {
     "name": "stdout",
     "output_type": "stream",
     "text": [
      "19/19 [==============================] - 4s 7ms/step\n"
     ]
    }
   ],
   "source": [
    "import tensorflow as tf\n",
    "import math\n",
    "from helpers import encoder\n",
    "model_file = \"../saved_models/GCNII\"\n",
    "model = tf.keras.models.load_model(model_file)\n",
    "gnn_pred = model.predict(encoder(df_final.InChI.values))"
   ]
  },
  {
   "cell_type": "code",
   "execution_count": 13,
   "metadata": {},
   "outputs": [],
   "source": [
    "cutoff = 0.25\n",
    "df_final[\"gnn_pred\"] = gnn_pred\n",
    "df_final[\"gnn_pred\"] = df_final.gnn_pred.apply(lambda x: math.ceil(x) if x > cutoff else math.floor(x))"
   ]
  },
  {
   "cell_type": "code",
   "execution_count": 14,
   "metadata": {},
   "outputs": [
    {
     "data": {
      "text/plain": [
       "(0.8763157894736842, 0.8024096385542169, 0.8377358490566037)"
      ]
     },
     "execution_count": 14,
     "metadata": {},
     "output_type": "execute_result"
    }
   ],
   "source": [
    "(\n",
    "    precision_score(df_final.covalent, df_final.gnn_pred),\n",
    "    recall_score(df_final.covalent, df_final.gnn_pred),\n",
    "    f1_score(df_final.covalent, df_final.gnn_pred),\n",
    ")"
   ]
  },
  {
   "cell_type": "code",
   "execution_count": 15,
   "metadata": {},
   "outputs": [
    {
     "data": {
      "text/plain": [
       "0.574468085106383"
      ]
     },
     "execution_count": 15,
     "metadata": {},
     "output_type": "execute_result"
    }
   ],
   "source": [
    "1 - accuracy_score(\n",
    "    df_final.query(\"warhead_category == 'noncovalentdecoy'\").covalent,\n",
    "    df_final.query(\"warhead_category == 'noncovalentdecoy'\").gnn_pred,\n",
    "                   )"
   ]
  }
 ],
 "metadata": {
  "kernelspec": {
   "display_name": "molgraph",
   "language": "python",
   "name": "python3"
  },
  "language_info": {
   "codemirror_mode": {
    "name": "ipython",
    "version": 3
   },
   "file_extension": ".py",
   "mimetype": "text/x-python",
   "name": "python",
   "nbconvert_exporter": "python",
   "pygments_lexer": "ipython3",
   "version": "3.10.12"
  }
 },
 "nbformat": 4,
 "nbformat_minor": 2
}
