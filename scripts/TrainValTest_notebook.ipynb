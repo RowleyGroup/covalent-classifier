{
 "cells": [
  {
   "cell_type": "code",
   "execution_count": 1,
   "metadata": {},
   "outputs": [
    {
     "name": "stderr",
     "output_type": "stream",
     "text": [
      "2023-02-12 18:41:55.698418: I tensorflow/core/platform/cpu_feature_guard.cc:193] This TensorFlow binary is optimized with oneAPI Deep Neural Network Library (oneDNN) to use the following CPU instructions in performance-critical operations:  AVX2 FMA\n",
      "To enable them in other operations, rebuild TensorFlow with the appropriate compiler flags.\n",
      "2023-02-12 18:41:56.252833: W tensorflow/compiler/xla/stream_executor/platform/default/dso_loader.cc:64] Could not load dynamic library 'libnvinfer.so.7'; dlerror: libnvinfer.so.7: cannot open shared object file: No such file or directory\n",
      "2023-02-12 18:41:56.252907: W tensorflow/compiler/xla/stream_executor/platform/default/dso_loader.cc:64] Could not load dynamic library 'libnvinfer_plugin.so.7'; dlerror: libnvinfer_plugin.so.7: cannot open shared object file: No such file or directory\n",
      "2023-02-12 18:41:56.252911: W tensorflow/compiler/tf2tensorrt/utils/py_utils.cc:38] TF-TRT Warning: Cannot dlopen some TensorRT libraries. If you would like to use Nvidia GPU with TensorRT, please make sure the missing libraries mentioned above are installed properly.\n"
     ]
    }
   ],
   "source": [
    "import pandas as pd\n",
    "import numpy as np\n",
    "import tensorflow as tf\n",
    "from rdkit import Chem\n",
    "from tensorflow import keras\n",
    "from molgraph import chemistry\n",
    "from molgraph.chemistry import features, Featurizer, MolecularGraphEncoder\n",
    "from molgraph import layers\n",
    "from molgraph import models\n",
    "from molgraph.layers import MinMaxScaling\n",
    "from sklearn.metrics import confusion_matrix, ConfusionMatrixDisplay\n",
    "from sklearn.utils import shuffle\n",
    "import matplotlib.pyplot as plt\n",
    "\n",
    "tf.keras.utils.set_random_seed(66)\n",
    "\n",
    "atom_encoder = Featurizer([\n",
    "    features.Symbol(),\n",
    "    features.TotalNumHs(),\n",
    "    features.ChiralCenter(),\n",
    "    features.Aromatic(),\n",
    "    features.Ring(),\n",
    "    features.Hetero(),\n",
    "    features.HydrogenDonor(),\n",
    "    features.HydrogenAcceptor(),\n",
    "    features.CIPCode(),\n",
    "    features.RingSize(),\n",
    "    features.Ring(),\n",
    "    features.GasteigerCharge()\n",
    "\n",
    "    # features.Symbol(),\n",
    "    # features.Hybridization(),\n",
    "    # features.FormalCharge(),\n",
    "    # features.TotalNumHs(),\n",
    "    # features.TotalValence(),\n",
    "    # features.NumRadicalElectrons(),\n",
    "    # features.Degree(),\n",
    "    # features.ChiralCenter(),\n",
    "    # features.Aromatic(),\n",
    "    # features.Ring(),\n",
    "    # features.Hetero(),\n",
    "    # features.HydrogenDonor(),\n",
    "    # features.HydrogenAcceptor(),\n",
    "    # features.CIPCode(),\n",
    "    # features.ChiralCenter(),\n",
    "    # features.RingSize(),\n",
    "    # features.CrippenLogPContribution(),\n",
    "    # features.CrippenMolarRefractivityContribution(),\n",
    "    # features.TPSAContribution(),\n",
    "    # features.LabuteASAContribution(),\n",
    "    # features.GasteigerCharge()\n",
    "])\n",
    "\n",
    "bond_encoder = Featurizer([\n",
    "\n",
    "    features.BondType(),\n",
    "    features.Conjugated(),\n",
    "    features.Rotatable(),\n",
    "    features.Ring(),\n",
    "    features.Stereo(),\n",
    "])\n",
    "\n",
    "encoder = MolecularGraphEncoder(atom_encoder, bond_encoder)"
   ]
  },
  {
   "cell_type": "code",
   "execution_count": 2,
   "metadata": {},
   "outputs": [
    {
     "name": "stdout",
     "output_type": "stream",
     "text": [
      "O True\n",
      "C False\n",
      "C False\n",
      "O True\n",
      "C False\n",
      "C False\n",
      "C False\n",
      "O True\n",
      "O True\n",
      "N True\n",
      "C False\n",
      "N True\n",
      "C False\n",
      "C False\n",
      "N True\n",
      "C False\n",
      "N True\n",
      "C False\n",
      "N True\n"
     ]
    }
   ],
   "source": [
    "# Look at certain features an decide if you want them in the data \n",
    "\n",
    "rdkit_mol = chemistry.molecule_from_string(\n",
    "    'OCC1OC(C(C1O)O)n1cnc2c1ncnc2N')\n",
    "\n",
    "feature = chemistry.features.HydrogenAcceptor()\n",
    "\n",
    "for atom in rdkit_mol.GetAtoms():\n",
    "    print(atom.GetSymbol(), feature(atom))\n",
    "\n"
   ]
  },
  {
   "cell_type": "markdown",
   "metadata": {},
   "source": [
    "### Prepare the data"
   ]
  },
  {
   "cell_type": "code",
   "execution_count": 3,
   "metadata": {},
   "outputs": [],
   "source": [
    "# covindb data\n",
    "df_covindb = pd.read_csv(\"../parsed_data/CovInDB/CovInDB_data.csv\")\n",
    "df_covindb[\"covalent\"] = 1\n",
    "df_covindb = df_covindb[[\"SMILES\", \"covalent\"]]\n",
    "df_covindb = df_covindb.dropna()\n",
    "\n",
    "# drugbank data\n",
    "df_drugbank = pd.read_csv(\"../parsed_data/drugbank/drugbank_data.csv\")\n",
    "df_drugbank[\"covalent\"] = 0\n",
    "df_drugbank = df_drugbank[[\"SMILES\", \"covalent\"]]\n",
    "df_drugbank = df_drugbank.dropna()"
   ]
  },
  {
   "cell_type": "code",
   "execution_count": 4,
   "metadata": {},
   "outputs": [],
   "source": [
    "df_covInDB_test = df_covindb.sample(500, random_state=66)\n",
    "df_covInDB_train = df_covindb.drop(df_covInDB_test.index)\n",
    "\n",
    "drugbank_df_test = df_drugbank.sample(500, random_state=66)\n",
    "drugbank_df_train = df_drugbank.drop(drugbank_df_test.index)\n",
    "\n",
    "df_train = shuffle(\n",
    "    pd.concat([df_covInDB_train, drugbank_df_train]).reset_index().dropna(),\n",
    "    random_state=66\n",
    "    )\n",
    "\n",
    "df_test = shuffle(\n",
    "    pd.concat([df_covInDB_test, drugbank_df_test]).reset_index().dropna(),\n",
    "    random_state=66\n",
    "    )"
   ]
  },
  {
   "cell_type": "markdown",
   "metadata": {},
   "source": [
    "### Encode your data into graphs "
   ]
  },
  {
   "cell_type": "code",
   "execution_count": 5,
   "metadata": {},
   "outputs": [
    {
     "name": "stderr",
     "output_type": "stream",
     "text": [
      "2023-02-12 18:41:57.669272: I tensorflow/compiler/xla/stream_executor/cuda/cuda_gpu_executor.cc:967] could not open file to read NUMA node: /sys/bus/pci/devices/0000:01:00.0/numa_node\n",
      "Your kernel may have been built without NUMA support.\n",
      "2023-02-12 18:41:57.875366: I tensorflow/compiler/xla/stream_executor/cuda/cuda_gpu_executor.cc:967] could not open file to read NUMA node: /sys/bus/pci/devices/0000:01:00.0/numa_node\n",
      "Your kernel may have been built without NUMA support.\n",
      "2023-02-12 18:41:57.875418: I tensorflow/compiler/xla/stream_executor/cuda/cuda_gpu_executor.cc:967] could not open file to read NUMA node: /sys/bus/pci/devices/0000:01:00.0/numa_node\n",
      "Your kernel may have been built without NUMA support.\n",
      "2023-02-12 18:41:57.876054: I tensorflow/core/platform/cpu_feature_guard.cc:193] This TensorFlow binary is optimized with oneAPI Deep Neural Network Library (oneDNN) to use the following CPU instructions in performance-critical operations:  AVX2 FMA\n",
      "To enable them in other operations, rebuild TensorFlow with the appropriate compiler flags.\n",
      "2023-02-12 18:41:57.877751: I tensorflow/compiler/xla/stream_executor/cuda/cuda_gpu_executor.cc:967] could not open file to read NUMA node: /sys/bus/pci/devices/0000:01:00.0/numa_node\n",
      "Your kernel may have been built without NUMA support.\n",
      "2023-02-12 18:41:57.877805: I tensorflow/compiler/xla/stream_executor/cuda/cuda_gpu_executor.cc:967] could not open file to read NUMA node: /sys/bus/pci/devices/0000:01:00.0/numa_node\n",
      "Your kernel may have been built without NUMA support.\n",
      "2023-02-12 18:41:57.877824: I tensorflow/compiler/xla/stream_executor/cuda/cuda_gpu_executor.cc:967] could not open file to read NUMA node: /sys/bus/pci/devices/0000:01:00.0/numa_node\n",
      "Your kernel may have been built without NUMA support.\n",
      "2023-02-12 18:41:58.457981: I tensorflow/compiler/xla/stream_executor/cuda/cuda_gpu_executor.cc:967] could not open file to read NUMA node: /sys/bus/pci/devices/0000:01:00.0/numa_node\n",
      "Your kernel may have been built without NUMA support.\n",
      "2023-02-12 18:41:58.458079: I tensorflow/compiler/xla/stream_executor/cuda/cuda_gpu_executor.cc:967] could not open file to read NUMA node: /sys/bus/pci/devices/0000:01:00.0/numa_node\n",
      "Your kernel may have been built without NUMA support.\n",
      "2023-02-12 18:41:58.458086: I tensorflow/core/common_runtime/gpu/gpu_device.cc:1700] Could not identify NUMA node of platform GPU id 0, defaulting to 0.  Your kernel may not have been built with NUMA support.\n",
      "2023-02-12 18:41:58.458112: I tensorflow/compiler/xla/stream_executor/cuda/cuda_gpu_executor.cc:967] could not open file to read NUMA node: /sys/bus/pci/devices/0000:01:00.0/numa_node\n",
      "Your kernel may have been built without NUMA support.\n",
      "2023-02-12 18:41:58.458142: I tensorflow/core/common_runtime/gpu/gpu_device.cc:1613] Created device /job:localhost/replica:0/task:0/device:GPU:0 with 5424 MB memory:  -> device: 0, name: NVIDIA GeForce RTX 3060 Ti, pci bus id: 0000:01:00.0, compute capability: 8.6\n"
     ]
    }
   ],
   "source": [
    "X_train, y_train = encoder(df_train.SMILES.values), df_train.covalent.values\n",
    "X_test, y_test = encoder(df_test.SMILES.values), df_test.covalent.values\n",
    "type_spec = X_train.merge().unspecific_spec"
   ]
  },
  {
   "cell_type": "markdown",
   "metadata": {},
   "source": [
    "### Try a GCN model"
   ]
  },
  {
   "cell_type": "code",
   "execution_count": 6,
   "metadata": {},
   "outputs": [
    {
     "name": "stdout",
     "output_type": "stream",
     "text": [
      "WARNING:tensorflow:From /home/vh/miniconda3/envs/test_env/lib/python3.8/site-packages/tensorflow/python/autograph/pyct/static_analysis/liveness.py:83: Analyzer.lamba_check (from tensorflow.python.autograph.pyct.static_analysis.liveness) is deprecated and will be removed after 2023-09-23.\n",
      "Instructions for updating:\n",
      "Lambda fuctions will be no more assumed to be used in the statement where they are used, or at least in the same block. https://github.com/tensorflow/tensorflow/issues/56089\n"
     ]
    },
    {
     "name": "stderr",
     "output_type": "stream",
     "text": [
      "From /home/vh/miniconda3/envs/test_env/lib/python3.8/site-packages/tensorflow/python/autograph/pyct/static_analysis/liveness.py:83: Analyzer.lamba_check (from tensorflow.python.autograph.pyct.static_analysis.liveness) is deprecated and will be removed after 2023-09-23.\n",
      "Instructions for updating:\n",
      "Lambda fuctions will be no more assumed to be used in the statement where they are used, or at least in the same block. https://github.com/tensorflow/tensorflow/issues/56089\n",
      "/home/vh/miniconda3/envs/test_env/lib/python3.8/site-packages/keras/initializers/initializers_v2.py:120: UserWarning: The initializer TruncatedNormal is unseeded and being called multiple times, which will return identical values  each time (even if the initializer is unseeded). Please update your code to provide a seed to the initializer, or avoid using the same initalizer instance more than once.\n",
      "  warnings.warn(\n"
     ]
    },
    {
     "name": "stdout",
     "output_type": "stream",
     "text": [
      "Epoch 1/5\n"
     ]
    },
    {
     "name": "stderr",
     "output_type": "stream",
     "text": [
      "2023-02-12 18:43:37.102932: I tensorflow/compiler/xla/stream_executor/cuda/cuda_blas.cc:630] TensorFloat-32 will be used for the matrix multiplication. This will only be logged once.\n",
      "2023-02-12 18:43:37.630729: I tensorflow/compiler/xla/service/service.cc:173] XLA service 0x7f2dc0323340 initialized for platform CUDA (this does not guarantee that XLA will be used). Devices:\n",
      "2023-02-12 18:43:37.630765: I tensorflow/compiler/xla/service/service.cc:181]   StreamExecutor device (0): NVIDIA GeForce RTX 3060 Ti, Compute Capability 8.6\n",
      "2023-02-12 18:43:37.634982: I tensorflow/compiler/mlir/tensorflow/utils/dump_mlir_util.cc:268] disabling MLIR crash reproducer, set env var `MLIR_CRASH_REPRODUCER_DIRECTORY` to enable.\n",
      "2023-02-12 18:43:37.728305: I tensorflow/compiler/jit/xla_compilation_cache.cc:477] Compiled cluster using XLA!  This line is logged at most once for the lifetime of the process.\n"
     ]
    },
    {
     "name": "stdout",
     "output_type": "stream",
     "text": [
      "466/466 - 34s - loss: 0.3272 - precision: 0.8475 - recall: 0.8215 - roc_auc: 0.9332 - 34s/epoch - 74ms/step\n",
      "Epoch 2/5\n",
      "466/466 - 21s - loss: 0.1917 - precision: 0.9146 - recall: 0.9198 - roc_auc: 0.9756 - 21s/epoch - 46ms/step\n",
      "Epoch 3/5\n",
      "466/466 - 20s - loss: 0.1488 - precision: 0.9356 - recall: 0.9376 - roc_auc: 0.9847 - 20s/epoch - 43ms/step\n",
      "Epoch 4/5\n",
      "466/466 - 20s - loss: 0.1249 - precision: 0.9472 - recall: 0.9521 - roc_auc: 0.9888 - 20s/epoch - 44ms/step\n",
      "Epoch 5/5\n",
      "466/466 - 21s - loss: 0.1143 - precision: 0.9498 - recall: 0.9567 - roc_auc: 0.9904 - 21s/epoch - 45ms/step\n"
     ]
    },
    {
     "data": {
      "text/plain": [
       "<keras.callbacks.History at 0x7f2fdee583d0>"
      ]
     },
     "execution_count": 6,
     "metadata": {},
     "output_type": "execute_result"
    }
   ],
   "source": [
    "node_preprocessing = MinMaxScaling(\n",
    "    feature='node_feature', feature_range=(0, 1), threshold=True)\n",
    "edge_preprocessing = MinMaxScaling(\n",
    "    feature='edge_feature', feature_range=(0, 1), threshold=True)\n",
    "\n",
    "node_preprocessing.adapt(X_train.merge())\n",
    "edge_preprocessing.adapt(X_train.merge())\n",
    "\n",
    "sequential_model = tf.keras.Sequential([\n",
    "    tf.keras.layers.Input(type_spec=X_train.unspecific_spec),\n",
    "    node_preprocessing,\n",
    "    edge_preprocessing,\n",
    "\n",
    "    # \n",
    "    # CONVOLUTIONAL \n",
    "    # \n",
    "\n",
    "    layers.GCNConv(128, use_edge_features=True, name=\"conv_1\"),\n",
    "    layers.GCNConv(128, use_edge_features=True, name=\"conv_2\"),\n",
    "    layers.GCNConv(128, use_edge_features=True, name=\"conv_3\"),\n",
    "    layers.GCNConv(128, use_edge_features=True, name=\"conv_4\"),\n",
    "    layers.GCNConv(128, use_edge_features=True, name=\"conv_5\"),\n",
    "    layers.GCNConv(128, use_edge_features=True, name=\"conv_6\"),\n",
    "    layers.GCNConv(128, use_edge_features=True, name=\"conv_7\"),\n",
    "    layers.GCNConv(128, use_edge_features=True, name=\"conv_8\"),\n",
    "\n",
    "    # layers.GINConv(128, use_edge_features=True, name=\"conv_1\"),\n",
    "    # layers.GINConv(128, use_edge_features=True, name=\"conv_2\"),\n",
    "    # layers.GINConv(128, use_edge_features=True, name=\"conv_3\"),\n",
    "    # layers.GINConv(128, use_edge_features=True, name=\"conv_4\"),\n",
    "    # layers.GINConv(128, use_edge_features=True, name=\"conv_5\"),\n",
    "    # layers.GINConv(128, use_edge_features=True, name=\"conv_6\"),\n",
    "    # layers.GINConv(128, use_edge_features=True, name=\"conv_7\"),\n",
    "    # layers.GINConv(128, use_edge_features=True, name=\"conv_8\"),\n",
    "\n",
    "    # \n",
    "    # ATTENTION-BASED\n",
    "    # \n",
    "\n",
    "    # layers.GATConv(16, use_edge_features=True),\n",
    "    # layers.GATConv(16, use_edge_features=True),\n",
    "    # layers.GATConv(16, use_edge_features=True),\n",
    "    # layers.GATConv(16, use_edge_features=True),\n",
    "    # layers.GATConv(16, use_edge_features=True),\n",
    "    # layers.GATConv(16, use_edge_features=True),\n",
    "    # layers.GATConv(16, use_edge_features=True),\n",
    "    # layers.GATConv(16, use_edge_features=True),\n",
    "\n",
    "    # layers.GATv2Conv(16, use_edge_features=True),\n",
    "    # layers.GATv2Conv(16, use_edge_features=True),\n",
    "    # layers.GATv2Conv(16, use_edge_features=True),\n",
    "    # layers.GATv2Conv(16, use_edge_features=True),\n",
    "    # layers.GATv2Conv(16, use_edge_features=True),\n",
    "    # layers.GATv2Conv(16, use_edge_features=True),\n",
    "    # layers.GATv2Conv(16, use_edge_features=True),\n",
    "    # layers.GATv2Conv(16, use_edge_features=True),\n",
    "\n",
    "    # layers.GMMConv(16, use_edge_features=True),\n",
    "    # layers.GMMConv(16, use_edge_features=True),\n",
    "    # layers.GMMConv(16, use_edge_features=True),\n",
    "    # layers.GMMConv(16, use_edge_features=True),\n",
    "    # layers.GMMConv(16, use_edge_features=True),\n",
    "    # layers.GMMConv(16, use_edge_features=True),\n",
    "    # layers.GMMConv(16, use_edge_features=True),\n",
    "    # layers.GMMConv(16, use_edge_features=True),\n",
    "\n",
    "    #\n",
    "    # MESSAGE PASSING\n",
    "    #\n",
    "\n",
    "    # layers.MPNNConv(32, use_edge_features=True),\n",
    "    # layers.MPNNConv(32, use_edge_features=True),\n",
    "    # layers.MPNNConv(32, use_edge_features=True),\n",
    "    # layers.MPNNConv(32, use_edge_features=True),\n",
    "    # layers.MPNNConv(32, use_edge_features=True),\n",
    "    # layers.MPNNConv(32, use_edge_features=True),\n",
    "\n",
    "    layers.Readout('mean'),\n",
    "    tf.keras.layers.Dense(256, activation='relu'),\n",
    "    tf.keras.layers.Dense(1, activation=\"sigmoid\")\n",
    "])\n",
    "\n",
    "callbacks = [\n",
    "\n",
    "    keras.callbacks.EarlyStopping(\n",
    "        monitor='roc_auc',\n",
    "        patience=5,\n",
    "        mode='max',\n",
    "        restore_best_weights=True,\n",
    "    )\n",
    "]\n",
    "\n",
    "sequential_model.compile(\n",
    "    optimizer=tf.keras.optimizers.Adam(5e-5), \n",
    "    loss=tf.keras.losses.BinaryCrossentropy(), \n",
    "    metrics=[tf.keras.metrics.Precision(), tf.keras.metrics.Recall(), keras.metrics.AUC(name=\"roc_auc\")])\n",
    "\n",
    "sequential_model.fit(X_train, y_train, \n",
    "                     callbacks=callbacks, epochs=5, verbose=2)"
   ]
  },
  {
   "cell_type": "code",
   "execution_count": 7,
   "metadata": {},
   "outputs": [
    {
     "name": "stdout",
     "output_type": "stream",
     "text": [
      "32/32 [==============================] - 4s 30ms/step - loss: 0.1167 - precision: 0.9696 - recall: 0.9560 - roc_auc: 0.9927\n"
     ]
    },
    {
     "data": {
      "text/plain": [
       "[0.11669998615980148,\n",
       " 0.9695740342140198,\n",
       " 0.9559999704360962,\n",
       " 0.9927160739898682]"
      ]
     },
     "execution_count": 7,
     "metadata": {},
     "output_type": "execute_result"
    }
   ],
   "source": [
    "sequential_model.evaluate(X_test, y_test)"
   ]
  },
  {
   "cell_type": "code",
   "execution_count": 8,
   "metadata": {},
   "outputs": [
    {
     "name": "stdout",
     "output_type": "stream",
     "text": [
      "32/32 [==============================] - 4s 34ms/step\n"
     ]
    },
    {
     "data": {
      "image/png": "[encoded data removed]",
      "text/plain": [
       "<Figure size 640x480 with 2 Axes>"
      ]
     },
     "metadata": {},
     "output_type": "display_data"
    }
   ],
   "source": [
    "y_pred = sequential_model.predict(X_test)\n",
    "\n",
    "disp = ConfusionMatrixDisplay(\n",
    "    confusion_matrix=confusion_matrix(y_test, np.round(y_pred))\n",
    ")\n",
    "disp.plot()\n",
    "plt.show()"
   ]
  },
  {
   "attachments": {},
   "cell_type": "markdown",
   "metadata": {},
   "source": [
    "## Testing"
   ]
  },
  {
   "cell_type": "code",
   "execution_count": 9,
   "metadata": {},
   "outputs": [],
   "source": [
    "df_testing = pd.read_csv(\"../parsed_data/RowleyTestSet.csv\")\n",
    "X_test, y_test = encoder(df_testing.SMILES.values), df_testing.covalent.values"
   ]
  },
  {
   "cell_type": "code",
   "execution_count": 10,
   "metadata": {},
   "outputs": [
    {
     "name": "stdout",
     "output_type": "stream",
     "text": [
      "23/23 [==============================] - 1s 30ms/step\n"
     ]
    },
    {
     "data": {
      "image/png": "[encoded data removed]",
      "text/plain": [
       "<Figure size 640x480 with 2 Axes>"
      ]
     },
     "metadata": {},
     "output_type": "display_data"
    }
   ],
   "source": [
    "y_pred = sequential_model.predict(X_test)\n",
    "disp = ConfusionMatrixDisplay(\n",
    "    confusion_matrix=confusion_matrix(y_test, np.round(y_pred))\n",
    ")\n",
    "disp.plot()\n",
    "plt.show()"
   ]
  },
  {
   "cell_type": "code",
   "execution_count": 11,
   "metadata": {},
   "outputs": [
    {
     "name": "stdout",
     "output_type": "stream",
     "text": [
      "1/1 [==============================] - 0s 34ms/step\n",
      "1/1 [==============================] - 0s 33ms/step\n",
      "1/1 [==============================] - 0s 35ms/step\n",
      "1/1 [==============================] - 0s 42ms/step\n",
      "1/1 [==============================] - 0s 45ms/step\n",
      "1/1 [==============================] - 0s 47ms/step\n",
      "1/1 [==============================] - 0s 45ms/step\n",
      "1/1 [==============================] - 0s 52ms/step\n",
      "1/1 [==============================] - 0s 64ms/step\n",
      "1/1 [==============================] - 0s 77ms/step\n",
      "1/1 [==============================] - 0s 68ms/step\n",
      "1/1 [==============================] - 0s 85ms/step\n",
      "1/1 [==============================] - 0s 100ms/step\n",
      "1/1 [==============================] - 0s 49ms/step\n",
      "1/1 [==============================] - 0s 63ms/step\n",
      "1/1 [==============================] - 0s 56ms/step\n",
      "1/1 [==============================] - 0s 56ms/step\n",
      "1/1 [==============================] - 0s 72ms/step\n",
      "1/1 [==============================] - 0s 67ms/step\n",
      "1/1 [==============================] - 0s 89ms/step\n",
      "1/1 [==============================] - 0s 69ms/step\n",
      "1/1 [==============================] - 0s 68ms/step\n",
      "1/1 [==============================] - 0s 45ms/step\n",
      "1/1 [==============================] - 0s 41ms/step\n",
      "1/1 [==============================] - 0s 52ms/step\n",
      "1/1 [==============================] - 0s 45ms/step\n",
      "1/1 [==============================] - 0s 51ms/step\n",
      "1/1 [==============================] - 0s 49ms/step\n",
      "1/1 [==============================] - 0s 147ms/step\n",
      "1/1 [==============================] - 0s 191ms/step\n",
      "1/1 [==============================] - 0s 48ms/step\n",
      "1/1 [==============================] - 0s 44ms/step\n",
      "1/1 [==============================] - 0s 36ms/step\n",
      "1/1 [==============================] - 0s 36ms/step\n",
      "1/1 [==============================] - 0s 51ms/step\n",
      "1/1 [==============================] - 0s 55ms/step\n",
      "1/1 [==============================] - 0s 39ms/step\n",
      "1/1 [==============================] - 0s 40ms/step\n",
      "1/1 [==============================] - 0s 271ms/step\n",
      "1/1 [==============================] - 0s 32ms/step\n",
      "1/1 [==============================] - 0s 31ms/step\n",
      "1/1 [==============================] - 0s 32ms/step\n",
      "1/1 [==============================] - 0s 31ms/step\n",
      "1/1 [==============================] - 0s 54ms/step\n",
      "1/1 [==============================] - 0s 37ms/step\n",
      "1/1 [==============================] - 0s 36ms/step\n",
      "1/1 [==============================] - 0s 58ms/step\n",
      "1/1 [==============================] - 0s 40ms/step\n",
      "1/1 [==============================] - 0s 46ms/step\n",
      "1/1 [==============================] - 0s 197ms/step\n"
     ]
    }
   ],
   "source": [
    "import os \n",
    "from rdkit.Chem import PandasTools\n",
    "from rdkit import Chem\n",
    "\n",
    "df_probs = {\n",
    "        \"mol\": [],\n",
    "        \"prob\": []\n",
    "}\n",
    "\n",
    "set_dir = \"../parsed_data/non-reactive/\"\n",
    "for file in os.listdir(set_dir):\n",
    "    if file.endswith(\".sdf\"):\n",
    "        df_probs['mol'].append(file)\n",
    "        df_probs['prob'].append(\n",
    "                float(\n",
    "                        sequential_model.predict(\n",
    "                                encoder(\n",
    "                                        [PandasTools.LoadSDF(set_dir + file, smilesName=\"SMILES\").SMILES[0]]\n",
    "                                        )\n",
    "                                        )\n",
    "                                        )\n",
    "                                        )\n",
    "\n",
    "    "
   ]
  },
  {
   "cell_type": "code",
   "execution_count": 12,
   "metadata": {},
   "outputs": [
    {
     "data": {
      "text/plain": [
       "14"
      ]
     },
     "execution_count": 12,
     "metadata": {},
     "output_type": "execute_result"
    }
   ],
   "source": [
    "a = pd.DataFrame(df_probs)\n",
    "len(a[a.prob >= 0.5])"
   ]
  },
  {
   "cell_type": "code",
   "execution_count": 13,
   "metadata": {},
   "outputs": [
    {
     "data": {
      "text/plain": [
       "<AxesSubplot: ylabel='Frequency'>"
      ]
     },
     "execution_count": 13,
     "metadata": {},
     "output_type": "execute_result"
    },
    {
     "data": {
      "image/png": "[encoded data removed]",
      "text/plain": [
       "<Figure size 640x480 with 1 Axes>"
      ]
     },
     "metadata": {},
     "output_type": "display_data"
    }
   ],
   "source": [
    "a.prob.plot.hist(bins=50)"
   ]
  },
  {
   "cell_type": "code",
   "execution_count": 14,
   "metadata": {},
   "outputs": [],
   "source": [
    "# sequential_model.save(\"MolGraphModelGCN_withEdge_andExtendedFeatures\")"
   ]
  }
 ],
 "metadata": {
  "kernelspec": {
   "display_name": "test_env",
   "language": "python",
   "name": "python3"
  },
  "language_info": {
   "codemirror_mode": {
    "name": "ipython",
    "version": 3
   },
   "file_extension": ".py",
   "mimetype": "text/x-python",
   "name": "python",
   "nbconvert_exporter": "python",
   "pygments_lexer": "ipython3",
   "version": "3.8.16"
  },
  "orig_nbformat": 4,
  "vscode": {
   "interpreter": {
    "hash": "617233191e565c4d546172d8a07e8188d4bdde106d6b7c57201d1bb95632885d"
   }
  }
 },
 "nbformat": 4,
 "nbformat_minor": 2
}
