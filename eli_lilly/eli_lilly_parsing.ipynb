{
 "cells": [
  {
   "cell_type": "code",
   "execution_count": 5,
   "metadata": {},
   "outputs": [],
   "source": [
    "import pandas as pd\n",
    "from rdkit import Chem\n",
    "from rdkit import RDLogger\n",
    "from rdkit.Chem.EnumerateStereoisomers import EnumerateStereoisomers, StereoEnumerationOptions\n",
    "from sklearn.metrics import precision_score, recall_score, f1_score, accuracy_score\n",
    "import medchem as mc\n",
    "RDLogger.DisableLog('rdApp.*')\n",
    "\n",
    "def get_isomer(inchi):\n",
    "    mol = Chem.MolFromInchi(inchi)\n",
    "    isomers = tuple(EnumerateStereoisomers(mol))\n",
    "    isomers = sorted(Chem.MolToInchi(i) for i in isomers)\n",
    "    return isomers[0]\n",
    "\n",
    "def replace_first_space(input_file, output_file):\n",
    "    with open(input_file, 'r') as infile, open(output_file, 'w') as outfile:\n",
    "        for line in infile:\n",
    "            first_space_index = line.find(' ')\n",
    "            modified_line = line[:first_space_index] + ';' + line[first_space_index + 1:]\n",
    "            outfile.write(modified_line)\n",
    "\n",
    "def eli_lilly_filter(flagreason: str):\n",
    "    rules = [\n",
    "        \"no_interesting_atoms\",\n",
    "        \"too_few_rings\",\n",
    "        \"too_many_rings\",\n",
    "        \"biotin\",\n",
    "        \"too_many_aromatic_rings_in_ring_system\",\n",
    "        \"ring_system_too_large\",\n",
    "        \"ring_system_too_large_with_aromatic\",\n",
    "        \"fmoc\",\n",
    "        \"positive\",\n",
    "        \"negative\",\n",
    "        \"too_long_carbon_chain\",\n",
    "        \"diphosphate\",\n",
    "        \"quaternary_amine\",\n",
    "        \"sulfonic_acid\",\n",
    "        \"quaternary_amine\",\n",
    "        \"crown_2_2_cyclic\",\n",
    "        \"crown_3_3_cyclic\",\n",
    "        \"crown_2_3_cyclic\",\n",
    "        \"crown_2_2\",\n",
    "        \"crown_3_3\",\n",
    "        \"crown_2_3\",\n",
    "        \"phenylenediamine\",\n",
    "        \"LongCChain\"\n",
    "             ]\n",
    "    for i in rules:\n",
    "        if i in flagreason:\n",
    "            return None\n",
    "    return 0"
   ]
  },
  {
   "cell_type": "code",
   "execution_count": 6,
   "metadata": {},
   "outputs": [],
   "source": [
    "replace_first_space(\"./original_outputs/bad0.smi\", \"./parsed_outputs/parsed_smi_0.smi\")\n",
    "replace_first_space(\"./original_outputs/bad1.smi\", \"./parsed_outputs/parsed_smi_1.smi\")\n",
    "replace_first_space(\"./original_outputs/bad2.smi\", \"./parsed_outputs/parsed_smi_2.smi\")\n",
    "replace_first_space(\"./original_outputs/bad3.smi\", \"./parsed_outputs/parsed_smi_3.smi\")\n",
    "replace_first_space(\"./original_outputs/good.smi\", \"./parsed_outputs/good.smi\")"
   ]
  },
  {
   "cell_type": "code",
   "execution_count": 7,
   "metadata": {},
   "outputs": [
    {
     "data": {
      "text/html": [
       "<div>\n",
       "<style scoped>\n",
       "    .dataframe tbody tr th:only-of-type {\n",
       "        vertical-align: middle;\n",
       "    }\n",
       "\n",
       "    .dataframe tbody tr th {\n",
       "        vertical-align: top;\n",
       "    }\n",
       "\n",
       "    .dataframe thead th {\n",
       "        text-align: right;\n",
       "    }\n",
       "</style>\n",
       "<table border=\"1\" class=\"dataframe\">\n",
       "  <thead>\n",
       "    <tr style=\"text-align: right;\">\n",
       "      <th></th>\n",
       "      <th>SMILES</th>\n",
       "      <th>FlagReason</th>\n",
       "      <th>pred</th>\n",
       "    </tr>\n",
       "  </thead>\n",
       "  <tbody>\n",
       "    <tr>\n",
       "      <th>0</th>\n",
       "      <td>C=CCN=C=S</td>\n",
       "      <td>TP1 not_enough_atoms</td>\n",
       "      <td>1</td>\n",
       "    </tr>\n",
       "    <tr>\n",
       "      <th>1</th>\n",
       "      <td>C1=CC(Cl)=C2C(=CC=CC2=C1)C1=NC=C2C(=NC(=NC2=C1...</td>\n",
       "      <td>TP1 too_many_atoms</td>\n",
       "      <td>1</td>\n",
       "    </tr>\n",
       "    <tr>\n",
       "      <th>2</th>\n",
       "      <td>C(Cl)C1OC1</td>\n",
       "      <td>TP1 not_enough_atoms</td>\n",
       "      <td>1</td>\n",
       "    </tr>\n",
       "    <tr>\n",
       "      <th>3</th>\n",
       "      <td>C(Br)C1OC1</td>\n",
       "      <td>TP1 not_enough_atoms</td>\n",
       "      <td>1</td>\n",
       "    </tr>\n",
       "    <tr>\n",
       "      <th>4</th>\n",
       "      <td>C(F)C1OC1</td>\n",
       "      <td>TP1 not_enough_atoms</td>\n",
       "      <td>1</td>\n",
       "    </tr>\n",
       "    <tr>\n",
       "      <th>...</th>\n",
       "      <td>...</td>\n",
       "      <td>...</td>\n",
       "      <td>...</td>\n",
       "    </tr>\n",
       "    <tr>\n",
       "      <th>143</th>\n",
       "      <td>C1C[C@@H]2O[C@@H]2CC[C@H]2O[C@@H]12</td>\n",
       "      <td>: D(50) het_3mem_ring_fused</td>\n",
       "      <td>0</td>\n",
       "    </tr>\n",
       "    <tr>\n",
       "      <th>144</th>\n",
       "      <td>NC(=O)N1C2=CC=CC=C2[C@@H]2O[C@@H]2C2=CC=CC=C12</td>\n",
       "      <td>: D(50) het_3mem_ring_fused</td>\n",
       "      <td>0</td>\n",
       "    </tr>\n",
       "    <tr>\n",
       "      <th>145</th>\n",
       "      <td>C1=CC=C2C(=C1)C(=C1CCN(C)CC1)C1=CC=CC=C1[C@H]1...</td>\n",
       "      <td>: D(50) het_3mem_ring_fused</td>\n",
       "      <td>0</td>\n",
       "    </tr>\n",
       "    <tr>\n",
       "      <th>146</th>\n",
       "      <td>C1=CC=C2C(=C1)N=CC(=O)N2</td>\n",
       "      <td>C1=CC=C2C(=C1)N=CC(=O)N2</td>\n",
       "      <td>0</td>\n",
       "    </tr>\n",
       "    <tr>\n",
       "      <th>147</th>\n",
       "      <td>C#CCN1C(=O)C=NC2=CC=CC=C12</td>\n",
       "      <td>: D(50) acetylene</td>\n",
       "      <td>0</td>\n",
       "    </tr>\n",
       "  </tbody>\n",
       "</table>\n",
       "<p>609 rows × 3 columns</p>\n",
       "</div>"
      ],
      "text/plain": [
       "                                                SMILES  \\\n",
       "0                                            C=CCN=C=S   \n",
       "1    C1=CC(Cl)=C2C(=CC=CC2=C1)C1=NC=C2C(=NC(=NC2=C1...   \n",
       "2                                           C(Cl)C1OC1   \n",
       "3                                           C(Br)C1OC1   \n",
       "4                                            C(F)C1OC1   \n",
       "..                                                 ...   \n",
       "143                C1C[C@@H]2O[C@@H]2CC[C@H]2O[C@@H]12   \n",
       "144     NC(=O)N1C2=CC=CC=C2[C@@H]2O[C@@H]2C2=CC=CC=C12   \n",
       "145  C1=CC=C2C(=C1)C(=C1CCN(C)CC1)C1=CC=CC=C1[C@H]1...   \n",
       "146                           C1=CC=C2C(=C1)N=CC(=O)N2   \n",
       "147                         C#CCN1C(=O)C=NC2=CC=CC=C12   \n",
       "\n",
       "                      FlagReason  pred  \n",
       "0           TP1 not_enough_atoms     1  \n",
       "1             TP1 too_many_atoms     1  \n",
       "2           TP1 not_enough_atoms     1  \n",
       "3           TP1 not_enough_atoms     1  \n",
       "4           TP1 not_enough_atoms     1  \n",
       "..                           ...   ...  \n",
       "143  : D(50) het_3mem_ring_fused     0  \n",
       "144  : D(50) het_3mem_ring_fused     0  \n",
       "145  : D(50) het_3mem_ring_fused     0  \n",
       "146     C1=CC=C2C(=C1)N=CC(=O)N2     0  \n",
       "147            : D(50) acetylene     0  \n",
       "\n",
       "[609 rows x 3 columns]"
      ]
     },
     "execution_count": 7,
     "metadata": {},
     "output_type": "execute_result"
    }
   ],
   "source": [
    "df0 = pd.read_csv(\"./parsed_outputs/parsed_smi_0.smi\",\n",
    "                  delimiter=\";\", names=[\"SMILES\", \"FlagReason\"])\n",
    "df1 = pd.read_csv(\"./parsed_outputs/parsed_smi_1.smi\",\n",
    "                  delimiter=\";\", names=[\"SMILES\", \"FlagReason\"])\n",
    "df2 = pd.read_csv(\"./parsed_outputs/parsed_smi_2.smi\",\n",
    "                  delimiter=\";\", names=[\"SMILES\", \"FlagReason\"])\n",
    "df3 = pd.read_csv(\"./parsed_outputs/parsed_smi_3.smi\",\n",
    "                  delimiter=\";\", names=[\"SMILES\", \"FlagReason\"])\n",
    "df4 = pd.read_csv(\"./parsed_outputs/good.smi\",\n",
    "                  delimiter=\";\", names=[\"SMILES\", \"FlagReason\"])\n",
    "\n",
    "df_pos = pd.concat([df0, df1, df2, df3])\n",
    "df_pos[\"pred\"] = 1\n",
    "df_neg = df4\n",
    "df_neg[\"pred\"] = 0\n",
    "df = pd.concat([df_pos, df_neg])\n",
    "df"
   ]
  },
  {
   "cell_type": "code",
   "execution_count": 8,
   "metadata": {},
   "outputs": [
    {
     "data": {
      "text/html": [
       "<div>\n",
       "<style scoped>\n",
       "    .dataframe tbody tr th:only-of-type {\n",
       "        vertical-align: middle;\n",
       "    }\n",
       "\n",
       "    .dataframe tbody tr th {\n",
       "        vertical-align: top;\n",
       "    }\n",
       "\n",
       "    .dataframe thead th {\n",
       "        text-align: right;\n",
       "    }\n",
       "</style>\n",
       "<table border=\"1\" class=\"dataframe\">\n",
       "  <thead>\n",
       "    <tr style=\"text-align: right;\">\n",
       "      <th></th>\n",
       "      <th>SMILES</th>\n",
       "      <th>FlagReason</th>\n",
       "      <th>pred</th>\n",
       "      <th>InChI</th>\n",
       "    </tr>\n",
       "  </thead>\n",
       "  <tbody>\n",
       "    <tr>\n",
       "      <th>0</th>\n",
       "      <td>C=CCN=C=S</td>\n",
       "      <td>TP1 not_enough_atoms</td>\n",
       "      <td>1</td>\n",
       "      <td>InChI=1S/C4H5NS/c1-2-3-5-4-6/h2H,1,3H2</td>\n",
       "    </tr>\n",
       "    <tr>\n",
       "      <th>1</th>\n",
       "      <td>C1=CC(Cl)=C2C(=CC=CC2=C1)C1=NC=C2C(=NC(=NC2=C1...</td>\n",
       "      <td>TP1 too_many_atoms</td>\n",
       "      <td>1</td>\n",
       "      <td>InChI=1S/C31H29ClFN5O3/c32-22-8-2-6-18-5-1-7-2...</td>\n",
       "    </tr>\n",
       "    <tr>\n",
       "      <th>2</th>\n",
       "      <td>C(Cl)C1OC1</td>\n",
       "      <td>TP1 not_enough_atoms</td>\n",
       "      <td>1</td>\n",
       "      <td>InChI=1S/C3H5ClO/c4-1-3-2-5-3/h3H,1-2H2</td>\n",
       "    </tr>\n",
       "    <tr>\n",
       "      <th>3</th>\n",
       "      <td>C(Br)C1OC1</td>\n",
       "      <td>TP1 not_enough_atoms</td>\n",
       "      <td>1</td>\n",
       "      <td>InChI=1S/C3H5BrO/c4-1-3-2-5-3/h3H,1-2H2</td>\n",
       "    </tr>\n",
       "    <tr>\n",
       "      <th>4</th>\n",
       "      <td>C(F)C1OC1</td>\n",
       "      <td>TP1 not_enough_atoms</td>\n",
       "      <td>1</td>\n",
       "      <td>InChI=1S/C3H5FO/c4-1-3-2-5-3/h3H,1-2H2</td>\n",
       "    </tr>\n",
       "    <tr>\n",
       "      <th>...</th>\n",
       "      <td>...</td>\n",
       "      <td>...</td>\n",
       "      <td>...</td>\n",
       "      <td>...</td>\n",
       "    </tr>\n",
       "    <tr>\n",
       "      <th>143</th>\n",
       "      <td>C1C[C@@H]2O[C@@H]2CC[C@H]2O[C@@H]12</td>\n",
       "      <td>: D(50) het_3mem_ring_fused</td>\n",
       "      <td>0</td>\n",
       "      <td>InChI=1S/C8H12O2/c1-2-6-8(10-6)4-3-7-5(1)9-7/h...</td>\n",
       "    </tr>\n",
       "    <tr>\n",
       "      <th>144</th>\n",
       "      <td>NC(=O)N1C2=CC=CC=C2[C@@H]2O[C@@H]2C2=CC=CC=C12</td>\n",
       "      <td>: D(50) het_3mem_ring_fused</td>\n",
       "      <td>0</td>\n",
       "      <td>InChI=1S/C15H12N2O2/c16-15(18)17-11-7-3-1-5-9(...</td>\n",
       "    </tr>\n",
       "    <tr>\n",
       "      <th>145</th>\n",
       "      <td>C1=CC=C2C(=C1)C(=C1CCN(C)CC1)C1=CC=CC=C1[C@H]1...</td>\n",
       "      <td>: D(50) het_3mem_ring_fused</td>\n",
       "      <td>0</td>\n",
       "      <td>InChI=1S/C21H21NO/c1-22-12-10-14(11-13-22)19-1...</td>\n",
       "    </tr>\n",
       "    <tr>\n",
       "      <th>146</th>\n",
       "      <td>C1=CC=C2C(=C1)N=CC(=O)N2</td>\n",
       "      <td>C1=CC=C2C(=C1)N=CC(=O)N2</td>\n",
       "      <td>0</td>\n",
       "      <td>InChI=1S/C8H6N2O/c11-8-5-9-6-3-1-2-4-7(6)10-8/...</td>\n",
       "    </tr>\n",
       "    <tr>\n",
       "      <th>147</th>\n",
       "      <td>C#CCN1C(=O)C=NC2=CC=CC=C12</td>\n",
       "      <td>: D(50) acetylene</td>\n",
       "      <td>0</td>\n",
       "      <td>InChI=1S/C11H8N2O/c1-2-7-13-10-6-4-3-5-9(10)12...</td>\n",
       "    </tr>\n",
       "  </tbody>\n",
       "</table>\n",
       "<p>607 rows × 4 columns</p>\n",
       "</div>"
      ],
      "text/plain": [
       "                                                SMILES  \\\n",
       "0                                            C=CCN=C=S   \n",
       "1    C1=CC(Cl)=C2C(=CC=CC2=C1)C1=NC=C2C(=NC(=NC2=C1...   \n",
       "2                                           C(Cl)C1OC1   \n",
       "3                                           C(Br)C1OC1   \n",
       "4                                            C(F)C1OC1   \n",
       "..                                                 ...   \n",
       "143                C1C[C@@H]2O[C@@H]2CC[C@H]2O[C@@H]12   \n",
       "144     NC(=O)N1C2=CC=CC=C2[C@@H]2O[C@@H]2C2=CC=CC=C12   \n",
       "145  C1=CC=C2C(=C1)C(=C1CCN(C)CC1)C1=CC=CC=C1[C@H]1...   \n",
       "146                           C1=CC=C2C(=C1)N=CC(=O)N2   \n",
       "147                         C#CCN1C(=O)C=NC2=CC=CC=C12   \n",
       "\n",
       "                      FlagReason  pred  \\\n",
       "0           TP1 not_enough_atoms     1   \n",
       "1             TP1 too_many_atoms     1   \n",
       "2           TP1 not_enough_atoms     1   \n",
       "3           TP1 not_enough_atoms     1   \n",
       "4           TP1 not_enough_atoms     1   \n",
       "..                           ...   ...   \n",
       "143  : D(50) het_3mem_ring_fused     0   \n",
       "144  : D(50) het_3mem_ring_fused     0   \n",
       "145  : D(50) het_3mem_ring_fused     0   \n",
       "146     C1=CC=C2C(=C1)N=CC(=O)N2     0   \n",
       "147            : D(50) acetylene     0   \n",
       "\n",
       "                                                 InChI  \n",
       "0               InChI=1S/C4H5NS/c1-2-3-5-4-6/h2H,1,3H2  \n",
       "1    InChI=1S/C31H29ClFN5O3/c32-22-8-2-6-18-5-1-7-2...  \n",
       "2              InChI=1S/C3H5ClO/c4-1-3-2-5-3/h3H,1-2H2  \n",
       "3              InChI=1S/C3H5BrO/c4-1-3-2-5-3/h3H,1-2H2  \n",
       "4               InChI=1S/C3H5FO/c4-1-3-2-5-3/h3H,1-2H2  \n",
       "..                                                 ...  \n",
       "143  InChI=1S/C8H12O2/c1-2-6-8(10-6)4-3-7-5(1)9-7/h...  \n",
       "144  InChI=1S/C15H12N2O2/c16-15(18)17-11-7-3-1-5-9(...  \n",
       "145  InChI=1S/C21H21NO/c1-22-12-10-14(11-13-22)19-1...  \n",
       "146  InChI=1S/C8H6N2O/c11-8-5-9-6-3-1-2-4-7(6)10-8/...  \n",
       "147  InChI=1S/C11H8N2O/c1-2-7-13-10-6-4-3-5-9(10)12...  \n",
       "\n",
       "[607 rows x 4 columns]"
      ]
     },
     "execution_count": 8,
     "metadata": {},
     "output_type": "execute_result"
    }
   ],
   "source": [
    "df[\"remove\"] = df.FlagReason.apply(eli_lilly_filter)\n",
    "df = df.dropna().drop(\"remove\", axis=1)\n",
    "df[\"InChI\"] = df.SMILES.apply(lambda x: Chem.MolToInchi(Chem.MolFromSmiles(x)))\n",
    "df[\"InChI\"] = df.InChI.apply(get_isomer)\n",
    "df"
   ]
  },
  {
   "cell_type": "code",
   "execution_count": 9,
   "metadata": {},
   "outputs": [],
   "source": [
    "test_data_df = pd.read_csv(\"../data/SMILES_test/test_data_all.csv\")\n",
    "test_data_df[\"InChI\"] = test_data_df.SMILES.apply(lambda x: Chem.MolToInchi(Chem.MolFromSmiles(x)))\n",
    "test_data_df[\"InChI\"] = test_data_df.InChI.apply(get_isomer)\n",
    "test_data_df = test_data_df[[\"InChI\", \"warhead_category\", \"covalent\", \"SMILES\"]]"
   ]
  },
  {
   "cell_type": "code",
   "execution_count": 10,
   "metadata": {},
   "outputs": [
    {
     "data": {
      "application/vnd.jupyter.widget-view+json": {
       "model_id": "fe7aa1490ee94d27922944b4d804d835",
       "version_major": 2,
       "version_minor": 0
      },
      "text/plain": [
       "Common alerts filtering:   0%|          | 0/609 [00:00<?, ?it/s]"
      ]
     },
     "metadata": {},
     "output_type": "display_data"
    },
    {
     "data": {
      "application/vnd.jupyter.widget-view+json": {
       "model_id": "e93cd9db60d9456c8858d474e1eb1e00",
       "version_major": 2,
       "version_minor": 0
      },
      "text/plain": [
       "NIBR filtering:   0%|          | 0/609 [00:00<?, ?it/s]"
      ]
     },
     "metadata": {},
     "output_type": "display_data"
    },
    {
     "data": {
      "text/html": [
       "<div>\n",
       "<style scoped>\n",
       "    .dataframe tbody tr th:only-of-type {\n",
       "        vertical-align: middle;\n",
       "    }\n",
       "\n",
       "    .dataframe tbody tr th {\n",
       "        vertical-align: top;\n",
       "    }\n",
       "\n",
       "    .dataframe thead th {\n",
       "        text-align: right;\n",
       "    }\n",
       "</style>\n",
       "<table border=\"1\" class=\"dataframe\">\n",
       "  <thead>\n",
       "    <tr style=\"text-align: right;\">\n",
       "      <th></th>\n",
       "      <th>SMILES_x</th>\n",
       "      <th>FlagReason</th>\n",
       "      <th>pred</th>\n",
       "      <th>InChI</th>\n",
       "      <th>warhead_category</th>\n",
       "      <th>covalent</th>\n",
       "      <th>SMILES_y</th>\n",
       "      <th>mol</th>\n",
       "      <th>alerts_PAINS</th>\n",
       "      <th>filters_NIBR</th>\n",
       "    </tr>\n",
       "  </thead>\n",
       "  <tbody>\n",
       "    <tr>\n",
       "      <th>0</th>\n",
       "      <td>C=CCN=C=S</td>\n",
       "      <td>TP1 not_enough_atoms</td>\n",
       "      <td>1</td>\n",
       "      <td>InChI=1S/C4H5NS/c1-2-3-5-4-6/h2H,1,3H2</td>\n",
       "      <td>thiocyanate</td>\n",
       "      <td>1.0</td>\n",
       "      <td>[H]C([H])=C([H])C([H])([H])N=C=S</td>\n",
       "      <td>&lt;rdkit.Chem.rdchem.Mol object at 0x3208636f0&gt;</td>\n",
       "      <td>0</td>\n",
       "      <td>1</td>\n",
       "    </tr>\n",
       "    <tr>\n",
       "      <th>1</th>\n",
       "      <td>C1=CC(Cl)=C2C(=CC=CC2=C1)C1=NC=C2C(=NC(=NC2=C1...</td>\n",
       "      <td>TP1 too_many_atoms</td>\n",
       "      <td>1</td>\n",
       "      <td>InChI=1S/C31H29ClFN5O3/c32-22-8-2-6-18-5-1-7-2...</td>\n",
       "      <td>lactone</td>\n",
       "      <td>1.0</td>\n",
       "      <td>[H]c1c([H])c(Cl)c2c(-c3nc([H])c4c(N5C([H])([H]...</td>\n",
       "      <td>&lt;rdkit.Chem.rdchem.Mol object at 0x3208a6260&gt;</td>\n",
       "      <td>0</td>\n",
       "      <td>0</td>\n",
       "    </tr>\n",
       "    <tr>\n",
       "      <th>2</th>\n",
       "      <td>C(Cl)C1OC1</td>\n",
       "      <td>TP1 not_enough_atoms</td>\n",
       "      <td>1</td>\n",
       "      <td>InChI=1S/C3H5ClO/c4-1-3-2-5-3/h3H,1-2H2</td>\n",
       "      <td>epoxide</td>\n",
       "      <td>1.0</td>\n",
       "      <td>[H]C([H])(Cl)C1([H])OC1([H])[H]</td>\n",
       "      <td>&lt;rdkit.Chem.rdchem.Mol object at 0x3208a61f0&gt;</td>\n",
       "      <td>0</td>\n",
       "      <td>1</td>\n",
       "    </tr>\n",
       "    <tr>\n",
       "      <th>3</th>\n",
       "      <td>C(Br)C1OC1</td>\n",
       "      <td>TP1 not_enough_atoms</td>\n",
       "      <td>1</td>\n",
       "      <td>InChI=1S/C3H5BrO/c4-1-3-2-5-3/h3H,1-2H2</td>\n",
       "      <td>epoxide</td>\n",
       "      <td>1.0</td>\n",
       "      <td>[H]C([H])(Br)C1([H])OC1([H])[H]</td>\n",
       "      <td>&lt;rdkit.Chem.rdchem.Mol object at 0x3208a6180&gt;</td>\n",
       "      <td>0</td>\n",
       "      <td>1</td>\n",
       "    </tr>\n",
       "    <tr>\n",
       "      <th>4</th>\n",
       "      <td>C(F)C1OC1</td>\n",
       "      <td>TP1 not_enough_atoms</td>\n",
       "      <td>1</td>\n",
       "      <td>InChI=1S/C3H5FO/c4-1-3-2-5-3/h3H,1-2H2</td>\n",
       "      <td>epoxide</td>\n",
       "      <td>1.0</td>\n",
       "      <td>[H]C([H])(F)C1([H])OC1([H])[H]</td>\n",
       "      <td>&lt;rdkit.Chem.rdchem.Mol object at 0x3208a5f50&gt;</td>\n",
       "      <td>0</td>\n",
       "      <td>0</td>\n",
       "    </tr>\n",
       "    <tr>\n",
       "      <th>...</th>\n",
       "      <td>...</td>\n",
       "      <td>...</td>\n",
       "      <td>...</td>\n",
       "      <td>...</td>\n",
       "      <td>...</td>\n",
       "      <td>...</td>\n",
       "      <td>...</td>\n",
       "      <td>...</td>\n",
       "      <td>...</td>\n",
       "      <td>...</td>\n",
       "    </tr>\n",
       "    <tr>\n",
       "      <th>604</th>\n",
       "      <td>C1C[C@@H]2O[C@@H]2CC[C@H]2O[C@@H]12</td>\n",
       "      <td>: D(50) het_3mem_ring_fused</td>\n",
       "      <td>0</td>\n",
       "      <td>InChI=1S/C8H12O2/c1-2-6-8(10-6)4-3-7-5(1)9-7/h...</td>\n",
       "      <td>noncovalentdecoy</td>\n",
       "      <td>0.0</td>\n",
       "      <td>[H]C1([H])C([H])([H])[C@]2([H])O[C@]2([H])C([H...</td>\n",
       "      <td>&lt;rdkit.Chem.rdchem.Mol object at 0x320a2f140&gt;</td>\n",
       "      <td>0</td>\n",
       "      <td>0</td>\n",
       "    </tr>\n",
       "    <tr>\n",
       "      <th>605</th>\n",
       "      <td>NC(=O)N1C2=CC=CC=C2[C@@H]2O[C@@H]2C2=CC=CC=C12</td>\n",
       "      <td>: D(50) het_3mem_ring_fused</td>\n",
       "      <td>0</td>\n",
       "      <td>InChI=1S/C15H12N2O2/c16-15(18)17-11-7-3-1-5-9(...</td>\n",
       "      <td>noncovalentdecoy</td>\n",
       "      <td>0.0</td>\n",
       "      <td>[H]N=C(O[H])N1c2c([H])c([H])c([H])c([H])c2[C@]...</td>\n",
       "      <td>&lt;rdkit.Chem.rdchem.Mol object at 0x320a2f1b0&gt;</td>\n",
       "      <td>0</td>\n",
       "      <td>1</td>\n",
       "    </tr>\n",
       "    <tr>\n",
       "      <th>606</th>\n",
       "      <td>C1=CC=C2C(=C1)C(=C1CCN(C)CC1)C1=CC=CC=C1[C@H]1...</td>\n",
       "      <td>: D(50) het_3mem_ring_fused</td>\n",
       "      <td>0</td>\n",
       "      <td>InChI=1S/C21H21NO/c1-22-12-10-14(11-13-22)19-1...</td>\n",
       "      <td>noncovalentdecoy</td>\n",
       "      <td>0.0</td>\n",
       "      <td>[H]c1c([H])c([H])c2c(c1[H])C(=C1C([H])([H])C([...</td>\n",
       "      <td>&lt;rdkit.Chem.rdchem.Mol object at 0x320a2f220&gt;</td>\n",
       "      <td>1</td>\n",
       "      <td>1</td>\n",
       "    </tr>\n",
       "    <tr>\n",
       "      <th>607</th>\n",
       "      <td>C1=CC=C2C(=C1)N=CC(=O)N2</td>\n",
       "      <td>C1=CC=C2C(=C1)N=CC(=O)N2</td>\n",
       "      <td>0</td>\n",
       "      <td>InChI=1S/C8H6N2O/c11-8-5-9-6-3-1-2-4-7(6)10-8/...</td>\n",
       "      <td>noncovalentdecoy</td>\n",
       "      <td>0.0</td>\n",
       "      <td>[H]c1c([H])c([H])c2c(nc([H])c(=O)n2[H])c1[H]</td>\n",
       "      <td>&lt;rdkit.Chem.rdchem.Mol object at 0x320a2f290&gt;</td>\n",
       "      <td>0</td>\n",
       "      <td>0</td>\n",
       "    </tr>\n",
       "    <tr>\n",
       "      <th>608</th>\n",
       "      <td>C#CCN1C(=O)C=NC2=CC=CC=C12</td>\n",
       "      <td>: D(50) acetylene</td>\n",
       "      <td>0</td>\n",
       "      <td>InChI=1S/C11H8N2O/c1-2-7-13-10-6-4-3-5-9(10)12...</td>\n",
       "      <td>noncovalentdecoy</td>\n",
       "      <td>0.0</td>\n",
       "      <td>[H]C#CC([H])([H])n1c(=O)c([H])nc2c([H])c([H])c...</td>\n",
       "      <td>&lt;rdkit.Chem.rdchem.Mol object at 0x320a2f300&gt;</td>\n",
       "      <td>0</td>\n",
       "      <td>0</td>\n",
       "    </tr>\n",
       "  </tbody>\n",
       "</table>\n",
       "<p>596 rows × 10 columns</p>\n",
       "</div>"
      ],
      "text/plain": [
       "                                              SMILES_x  \\\n",
       "0                                            C=CCN=C=S   \n",
       "1    C1=CC(Cl)=C2C(=CC=CC2=C1)C1=NC=C2C(=NC(=NC2=C1...   \n",
       "2                                           C(Cl)C1OC1   \n",
       "3                                           C(Br)C1OC1   \n",
       "4                                            C(F)C1OC1   \n",
       "..                                                 ...   \n",
       "604                C1C[C@@H]2O[C@@H]2CC[C@H]2O[C@@H]12   \n",
       "605     NC(=O)N1C2=CC=CC=C2[C@@H]2O[C@@H]2C2=CC=CC=C12   \n",
       "606  C1=CC=C2C(=C1)C(=C1CCN(C)CC1)C1=CC=CC=C1[C@H]1...   \n",
       "607                           C1=CC=C2C(=C1)N=CC(=O)N2   \n",
       "608                         C#CCN1C(=O)C=NC2=CC=CC=C12   \n",
       "\n",
       "                      FlagReason  pred  \\\n",
       "0           TP1 not_enough_atoms     1   \n",
       "1             TP1 too_many_atoms     1   \n",
       "2           TP1 not_enough_atoms     1   \n",
       "3           TP1 not_enough_atoms     1   \n",
       "4           TP1 not_enough_atoms     1   \n",
       "..                           ...   ...   \n",
       "604  : D(50) het_3mem_ring_fused     0   \n",
       "605  : D(50) het_3mem_ring_fused     0   \n",
       "606  : D(50) het_3mem_ring_fused     0   \n",
       "607     C1=CC=C2C(=C1)N=CC(=O)N2     0   \n",
       "608            : D(50) acetylene     0   \n",
       "\n",
       "                                                 InChI  warhead_category  \\\n",
       "0               InChI=1S/C4H5NS/c1-2-3-5-4-6/h2H,1,3H2       thiocyanate   \n",
       "1    InChI=1S/C31H29ClFN5O3/c32-22-8-2-6-18-5-1-7-2...           lactone   \n",
       "2              InChI=1S/C3H5ClO/c4-1-3-2-5-3/h3H,1-2H2           epoxide   \n",
       "3              InChI=1S/C3H5BrO/c4-1-3-2-5-3/h3H,1-2H2           epoxide   \n",
       "4               InChI=1S/C3H5FO/c4-1-3-2-5-3/h3H,1-2H2           epoxide   \n",
       "..                                                 ...               ...   \n",
       "604  InChI=1S/C8H12O2/c1-2-6-8(10-6)4-3-7-5(1)9-7/h...  noncovalentdecoy   \n",
       "605  InChI=1S/C15H12N2O2/c16-15(18)17-11-7-3-1-5-9(...  noncovalentdecoy   \n",
       "606  InChI=1S/C21H21NO/c1-22-12-10-14(11-13-22)19-1...  noncovalentdecoy   \n",
       "607  InChI=1S/C8H6N2O/c11-8-5-9-6-3-1-2-4-7(6)10-8/...  noncovalentdecoy   \n",
       "608  InChI=1S/C11H8N2O/c1-2-7-13-10-6-4-3-5-9(10)12...  noncovalentdecoy   \n",
       "\n",
       "     covalent                                           SMILES_y  \\\n",
       "0         1.0                   [H]C([H])=C([H])C([H])([H])N=C=S   \n",
       "1         1.0  [H]c1c([H])c(Cl)c2c(-c3nc([H])c4c(N5C([H])([H]...   \n",
       "2         1.0                    [H]C([H])(Cl)C1([H])OC1([H])[H]   \n",
       "3         1.0                    [H]C([H])(Br)C1([H])OC1([H])[H]   \n",
       "4         1.0                     [H]C([H])(F)C1([H])OC1([H])[H]   \n",
       "..        ...                                                ...   \n",
       "604       0.0  [H]C1([H])C([H])([H])[C@]2([H])O[C@]2([H])C([H...   \n",
       "605       0.0  [H]N=C(O[H])N1c2c([H])c([H])c([H])c([H])c2[C@]...   \n",
       "606       0.0  [H]c1c([H])c([H])c2c(c1[H])C(=C1C([H])([H])C([...   \n",
       "607       0.0       [H]c1c([H])c([H])c2c(nc([H])c(=O)n2[H])c1[H]   \n",
       "608       0.0  [H]C#CC([H])([H])n1c(=O)c([H])nc2c([H])c([H])c...   \n",
       "\n",
       "                                               mol  alerts_PAINS  filters_NIBR  \n",
       "0    <rdkit.Chem.rdchem.Mol object at 0x3208636f0>             0             1  \n",
       "1    <rdkit.Chem.rdchem.Mol object at 0x3208a6260>             0             0  \n",
       "2    <rdkit.Chem.rdchem.Mol object at 0x3208a61f0>             0             1  \n",
       "3    <rdkit.Chem.rdchem.Mol object at 0x3208a6180>             0             1  \n",
       "4    <rdkit.Chem.rdchem.Mol object at 0x3208a5f50>             0             0  \n",
       "..                                             ...           ...           ...  \n",
       "604  <rdkit.Chem.rdchem.Mol object at 0x320a2f140>             0             0  \n",
       "605  <rdkit.Chem.rdchem.Mol object at 0x320a2f1b0>             0             1  \n",
       "606  <rdkit.Chem.rdchem.Mol object at 0x320a2f220>             1             1  \n",
       "607  <rdkit.Chem.rdchem.Mol object at 0x320a2f290>             0             0  \n",
       "608  <rdkit.Chem.rdchem.Mol object at 0x320a2f300>             0             0  \n",
       "\n",
       "[596 rows x 10 columns]"
      ]
     },
     "execution_count": 10,
     "metadata": {},
     "output_type": "execute_result"
    }
   ],
   "source": [
    "df_final = df.merge(test_data_df, how=\"left\", on=[\"InChI\"])\n",
    "df_final[\"mol\"] = df_final.SMILES_x.apply(Chem.MolFromSmiles)\n",
    "df_final[\"alerts_PAINS\"] = mc.functional.alert_filter(\n",
    "    mols=df_final[\"mol\"].tolist(),\n",
    "    alerts=[\"PAINS\"],\n",
    "    n_jobs=-1,\n",
    "    progress=True,\n",
    "    return_idx=False,\n",
    ").astype(int)\n",
    "df_final[\"alerts_PAINS\"] = df_final.alerts_PAINS.replace({0:1, 1:0})\n",
    "\n",
    "df_final[\"filters_NIBR\"] = mc.functional.nibr_filter(\n",
    "    mols=df_final[\"mol\"].tolist(),\n",
    "    n_jobs=-1,\n",
    "    progress=True,\n",
    "    return_idx=False,\n",
    ").astype(int)\n",
    "df_final[\"filters_NIBR\"] = df_final.filters_NIBR.replace({0:1, 1:0})\n",
    "\n",
    "df_final = df_final.dropna()\n",
    "df_final"
   ]
  },
  {
   "cell_type": "markdown",
   "metadata": {},
   "source": [
    "### Why does eli lilly generate new structures?"
   ]
  },
  {
   "cell_type": "code",
   "execution_count": 11,
   "metadata": {},
   "outputs": [],
   "source": [
    "test_inchies = set(test_data_df.InChI.values)\n",
    "eli_inchies = set(df.InChI.values)\n",
    "to_remove = test_inchies.intersection(eli_inchies)\n",
    "\n",
    "test_inchies = sorted(list(test_inchies - to_remove))\n",
    "eli_inchies = sorted(list(eli_inchies - to_remove))\n"
   ]
  },
  {
   "cell_type": "code",
   "execution_count": 12,
   "metadata": {},
   "outputs": [
    {
     "data": {
      "text/plain": [
       "('InChI=1S/C15H11N3O3S2/c19-12-8(13-18(12)10(6-22-13)14(20)21)4-7-5-17-9-2-1-3-11(9)23-15(17)16-7/h4-6,13H,1-3H2,(H,20,21)/b8-4+',\n",
       " 'InChI=1S/C12H10ClN5O/c1-18-3-4-2-5(12(16)19)17-10-6(4)11(18)9(15)7(13)8(10)14/h2-3H,1H3,(H5,14,15,16,19)/p+1')"
      ]
     },
     "execution_count": 12,
     "metadata": {},
     "output_type": "execute_result"
    }
   ],
   "source": [
    "eli_inchies[0], test_inchies[0]"
   ]
  },
  {
   "cell_type": "code",
   "execution_count": 13,
   "metadata": {},
   "outputs": [
    {
     "data": {
      "image/png": "[encoded data removed]",
      "text/plain": [
       "<rdkit.Chem.rdchem.Mol at 0x32270b140>"
      ]
     },
     "execution_count": 13,
     "metadata": {},
     "output_type": "execute_result"
    }
   ],
   "source": [
    "# Chem.MolFromInchi(eli_inchies[0])\n",
    "Chem.MolFromInchi(test_inchies[0])"
   ]
  },
  {
   "cell_type": "markdown",
   "metadata": {},
   "source": [
    "### Eli Lilly metrics "
   ]
  },
  {
   "cell_type": "code",
   "execution_count": 14,
   "metadata": {},
   "outputs": [
    {
     "data": {
      "text/plain": [
       "(0.8066666666666666,\n",
       " 0.8746987951807229,\n",
       " 0.8393063583815028,\n",
       " 0.7446808510638299)"
      ]
     },
     "execution_count": 14,
     "metadata": {},
     "output_type": "execute_result"
    }
   ],
   "source": [
    "(\n",
    "    precision_score(df_final.covalent, df_final.pred),\n",
    "    recall_score(df_final.covalent, df_final.pred),\n",
    "    f1_score(df_final.covalent, df_final.pred),\n",
    "    1 - accuracy_score(\n",
    "        df_final.query(\"warhead_category == 'noncovalentdecoy'\").covalent,\n",
    "        df_final.query(\"warhead_category == 'noncovalentdecoy'\").pred,\n",
    "                    )\n",
    ")\n"
   ]
  },
  {
   "cell_type": "markdown",
   "metadata": {},
   "source": [
    "### PAINS Metrics"
   ]
  },
  {
   "cell_type": "code",
   "execution_count": 15,
   "metadata": {},
   "outputs": [
    {
     "data": {
      "text/plain": [
       "(0.8333333333333334,\n",
       " 0.03614457831325301,\n",
       " 0.06928406466512702,\n",
       " 0.021276595744680882)"
      ]
     },
     "execution_count": 15,
     "metadata": {},
     "output_type": "execute_result"
    }
   ],
   "source": [
    "(\n",
    "    precision_score(df_final.covalent, df_final.alerts_PAINS),\n",
    "    recall_score(df_final.covalent, df_final.alerts_PAINS),\n",
    "    f1_score(df_final.covalent, df_final.alerts_PAINS),\n",
    "    1 - accuracy_score(\n",
    "        df_final.query(\"warhead_category == 'noncovalentdecoy'\").covalent,\n",
    "        df_final.query(\"warhead_category == 'noncovalentdecoy'\").alerts_PAINS,\n",
    "                    )\n",
    ")\n"
   ]
  },
  {
   "cell_type": "markdown",
   "metadata": {},
   "source": [
    "### NIBR Metrics"
   ]
  },
  {
   "cell_type": "code",
   "execution_count": 16,
   "metadata": {},
   "outputs": [
    {
     "data": {
      "text/plain": [
       "(0.788235294117647, 0.1614457831325301, 0.268, 0.2978723404255319)"
      ]
     },
     "execution_count": 16,
     "metadata": {},
     "output_type": "execute_result"
    }
   ],
   "source": [
    "(\n",
    "    precision_score(df_final.covalent, df_final.filters_NIBR),\n",
    "    recall_score(df_final.covalent, df_final.filters_NIBR),\n",
    "    f1_score(df_final.covalent, df_final.filters_NIBR),\n",
    "    1 - accuracy_score(\n",
    "        df_final.query(\"warhead_category == 'noncovalentdecoy'\").covalent,\n",
    "        df_final.query(\"warhead_category == 'noncovalentdecoy'\").filters_NIBR,\n",
    "                    )\n",
    ")\n"
   ]
  },
  {
   "cell_type": "markdown",
   "metadata": {},
   "source": [
    "### GNN metrics"
   ]
  },
  {
   "cell_type": "code",
   "execution_count": 17,
   "metadata": {},
   "outputs": [
    {
     "name": "stderr",
     "output_type": "stream",
     "text": [
      "Note: NumExpr detected 10 cores but \"NUMEXPR_MAX_THREADS\" not set, so enforcing safe limit of 8.\n",
      "NumExpr defaulting to 8 threads.\n",
      "Note: NumExpr detected 10 cores but \"NUMEXPR_MAX_THREADS\" not set, so enforcing safe limit of 8.\n",
      "NumExpr defaulting to 8 threads.\n",
      "Note: NumExpr detected 10 cores but \"NUMEXPR_MAX_THREADS\" not set, so enforcing safe limit of 8.\n",
      "NumExpr defaulting to 8 threads.\n",
      "Note: NumExpr detected 10 cores but \"NUMEXPR_MAX_THREADS\" not set, so enforcing safe limit of 8.\n",
      "NumExpr defaulting to 8 threads.\n",
      "Note: NumExpr detected 10 cores but \"NUMEXPR_MAX_THREADS\" not set, so enforcing safe limit of 8.\n",
      "NumExpr defaulting to 8 threads.\n",
      "Note: NumExpr detected 10 cores but \"NUMEXPR_MAX_THREADS\" not set, so enforcing safe limit of 8.\n",
      "NumExpr defaulting to 8 threads.\n",
      "Note: NumExpr detected 10 cores but \"NUMEXPR_MAX_THREADS\" not set, so enforcing safe limit of 8.\n",
      "NumExpr defaulting to 8 threads.\n",
      "Note: NumExpr detected 10 cores but \"NUMEXPR_MAX_THREADS\" not set, so enforcing safe limit of 8.\n",
      "NumExpr defaulting to 8 threads.\n",
      "Note: NumExpr detected 10 cores but \"NUMEXPR_MAX_THREADS\" not set, so enforcing safe limit of 8.\n",
      "NumExpr defaulting to 8 threads.\n",
      "Note: NumExpr detected 10 cores but \"NUMEXPR_MAX_THREADS\" not set, so enforcing safe limit of 8.\n",
      "NumExpr defaulting to 8 threads.\n"
     ]
    },
    {
     "name": "stdout",
     "output_type": "stream",
     "text": [
      "19/19 [==============================] - 5s 9ms/step\n"
     ]
    }
   ],
   "source": [
    "import tensorflow as tf\n",
    "import math\n",
    "from helpers import encoder\n",
    "model_file = \"../saved_models/GCNII\"\n",
    "model = tf.keras.models.load_model(model_file)\n",
    "gnn_pred = model.predict(encoder(df_final.mol.values))"
   ]
  },
  {
   "cell_type": "code",
   "execution_count": 18,
   "metadata": {},
   "outputs": [],
   "source": [
    "cutoff = 0.3\n",
    "df_final[\"gnn_pred\"] = gnn_pred\n",
    "# df_final[\"gnn_pred\"] = df_final.gnn_pred.apply(lambda x: math.ceil(x) if x > cutoff else math.floor(x))"
   ]
  },
  {
   "cell_type": "code",
   "execution_count": 19,
   "metadata": {},
   "outputs": [
    {
     "data": {
      "text/plain": [
       "(450, 0, 415)"
      ]
     },
     "execution_count": 19,
     "metadata": {},
     "output_type": "execute_result"
    }
   ],
   "source": [
    "len(df_final.query(\"pred == 1.0\")), len(df_final.query(\"gnn_pred == 1.0\")), len(df_final.query(\"covalent == 1.0\"))"
   ]
  },
  {
   "cell_type": "code",
   "execution_count": 20,
   "metadata": {},
   "outputs": [
    {
     "data": {
      "text/plain": [
       "0"
      ]
     },
     "execution_count": 20,
     "metadata": {},
     "output_type": "execute_result"
    }
   ],
   "source": [
    "len(set(df_final.query(\"pred == 1.0\").index).intersection(set(df_final.query(\"gnn_pred == 1.0\").index)))"
   ]
  },
  {
   "cell_type": "code",
   "execution_count": 23,
   "metadata": {},
   "outputs": [
    {
     "name": "stdout",
     "output_type": "stream",
     "text": [
      "Fraction of true eli lilly in GNN_pred < 0.10: 82.00000\n",
      "Fraction of true eli lilly in GNN_pred < 0.20: 29.00000\n",
      "Fraction of true eli lilly in GNN_pred < 0.30: 13.00000\n",
      "Fraction of true eli lilly in GNN_pred < 0.40: 17.00000\n",
      "Fraction of true eli lilly in GNN_pred < 0.50: 18.00000\n",
      "Fraction of true eli lilly in GNN_pred < 0.60: 6.00000\n",
      "Fraction of true eli lilly in GNN_pred < 0.70: 15.00000\n",
      "Fraction of true eli lilly in GNN_pred < 0.80: 24.00000\n",
      "Fraction of true eli lilly in GNN_pred < 0.90: 29.00000\n",
      "Fraction of true eli lilly in GNN_pred < 1.00: 217.00000\n"
     ]
    },
    {
     "data": {
      "text/plain": [
       "([<matplotlib.axis.XTick at 0x37f1c53f0>,\n",
       "  <matplotlib.axis.XTick at 0x37f1c53c0>,\n",
       "  <matplotlib.axis.XTick at 0x37f1c52d0>,\n",
       "  <matplotlib.axis.XTick at 0x37f1c8bb0>,\n",
       "  <matplotlib.axis.XTick at 0x37f1c9390>,\n",
       "  <matplotlib.axis.XTick at 0x37f1c9e40>,\n",
       "  <matplotlib.axis.XTick at 0x37f1ca8f0>,\n",
       "  <matplotlib.axis.XTick at 0x37f1cb3a0>,\n",
       "  <matplotlib.axis.XTick at 0x37f1ca080>,\n",
       "  <matplotlib.axis.XTick at 0x37f1cbdc0>],\n",
       " [Text(0.0, 0, '(0.0, 0.1)'),\n",
       "  Text(0.1, 0, '(0.1, 0.2)'),\n",
       "  Text(0.2, 0, '(0.2, 0.3)'),\n",
       "  Text(0.30000000000000004, 0, '(0.3, 0.4)'),\n",
       "  Text(0.4, 0, '(0.4, 0.5)'),\n",
       "  Text(0.5, 0, '(0.5, 0.6)'),\n",
       "  Text(0.6000000000000001, 0, '(0.6, 0.7)'),\n",
       "  Text(0.7000000000000001, 0, '(0.7, 0.8)'),\n",
       "  Text(0.8, 0, '(0.8, 0.9)'),\n",
       "  Text(0.9, 0, '(0.9, 0.10)')])"
      ]
     },
     "execution_count": 23,
     "metadata": {},
     "output_type": "execute_result"
    },
    {
     "data": {
      "image/png": "[encoded data removed]",
      "text/plain": [
       "<Figure size 1000x500 with 1 Axes>"
      ]
     },
     "metadata": {},
     "output_type": "display_data"
    }
   ],
   "source": [
    "import numpy as np\n",
    "import matplotlib.pyplot as plt\n",
    "ranges = np.arange(0, 1.1, 0.1)\n",
    "\n",
    "props = []\n",
    "gnn = []\n",
    "for i in ranges:\n",
    "    df_gnn_range = df_final.query(f\"gnn_pred <= {i} and gnn_pred > {i-0.1}\")\n",
    "    if df_gnn_range.empty:\n",
    "        continue\n",
    "    # eli_lilly_true_frac = df_gnn_range.query(\"pred == 1.0\").shape[0] / df_gnn_range.shape[0]\n",
    "    eli_lilly_true_frac = df_gnn_range.query(\"pred == 1.0\").shape[0]\n",
    "    gnn_true = df_gnn_range.query(\"gnn_pred > 0.5\").shape[0]\n",
    "    props.append(eli_lilly_true_frac)\n",
    "    gnn.append(gnn_true)\n",
    "    print(f\"Fraction of true eli lilly in GNN_pred < {i:.2f}: {eli_lilly_true_frac:.5f}\")\n",
    "\n",
    "# plot a stacked bar chart with GNN values\n",
    "plt.figure(figsize=(10, 5))\n",
    "plt.bar(ranges[:-1], props, width=0.1, edgecolor='black', label='Eli Lilly True')\n",
    "plt.bar(ranges[:-1], gnn, width=0.1, edgecolor='green', bottom=props, label='GNN True')\n",
    "\n",
    "plt.xlabel(\"GNN Confidence Interval\")\n",
    "plt.ylabel(\"Number of Structures Flagged\")\n",
    "plt.legend()\n",
    "\n",
    "plt.xticks(ranges[:-1], [f\"(0.{i}, 0.{i+1})\" for i in range(10)])\n",
    "# plt.title(\"ChEMBL Fraction of True Eli Lilly vs GNN Confidence\")"
   ]
  },
  {
   "cell_type": "code",
   "execution_count": 47,
   "metadata": {},
   "outputs": [
    {
     "ename": "ValueError",
     "evalue": "Classification metrics can't handle a mix of binary and continuous targets",
     "output_type": "error",
     "traceback": [
      "\u001b[0;31m---------------------------------------------------------------------------\u001b[0m",
      "\u001b[0;31mValueError\u001b[0m                                Traceback (most recent call last)",
      "Cell \u001b[0;32mIn[47], line 2\u001b[0m\n\u001b[1;32m      1\u001b[0m (\n\u001b[0;32m----> 2\u001b[0m     \u001b[43mprecision_score\u001b[49m\u001b[43m(\u001b[49m\u001b[43mdf_final\u001b[49m\u001b[38;5;241;43m.\u001b[39;49m\u001b[43mcovalent\u001b[49m\u001b[43m,\u001b[49m\u001b[43m \u001b[49m\u001b[43mdf_final\u001b[49m\u001b[38;5;241;43m.\u001b[39;49m\u001b[43mgnn_pred\u001b[49m\u001b[43m)\u001b[49m,\n\u001b[1;32m      3\u001b[0m     recall_score(df_final\u001b[38;5;241m.\u001b[39mcovalent, df_final\u001b[38;5;241m.\u001b[39mgnn_pred),\n\u001b[1;32m      4\u001b[0m     f1_score(df_final\u001b[38;5;241m.\u001b[39mcovalent, df_final\u001b[38;5;241m.\u001b[39mgnn_pred),\n\u001b[1;32m      5\u001b[0m )\n",
      "File \u001b[0;32m~/InstalledPackages/miniconda3/envs/molgraph/lib/python3.10/site-packages/sklearn/utils/_param_validation.py:211\u001b[0m, in \u001b[0;36mvalidate_params.<locals>.decorator.<locals>.wrapper\u001b[0;34m(*args, **kwargs)\u001b[0m\n\u001b[1;32m    205\u001b[0m \u001b[38;5;28;01mtry\u001b[39;00m:\n\u001b[1;32m    206\u001b[0m     \u001b[38;5;28;01mwith\u001b[39;00m config_context(\n\u001b[1;32m    207\u001b[0m         skip_parameter_validation\u001b[38;5;241m=\u001b[39m(\n\u001b[1;32m    208\u001b[0m             prefer_skip_nested_validation \u001b[38;5;129;01mor\u001b[39;00m global_skip_validation\n\u001b[1;32m    209\u001b[0m         )\n\u001b[1;32m    210\u001b[0m     ):\n\u001b[0;32m--> 211\u001b[0m         \u001b[38;5;28;01mreturn\u001b[39;00m \u001b[43mfunc\u001b[49m\u001b[43m(\u001b[49m\u001b[38;5;241;43m*\u001b[39;49m\u001b[43margs\u001b[49m\u001b[43m,\u001b[49m\u001b[43m \u001b[49m\u001b[38;5;241;43m*\u001b[39;49m\u001b[38;5;241;43m*\u001b[39;49m\u001b[43mkwargs\u001b[49m\u001b[43m)\u001b[49m\n\u001b[1;32m    212\u001b[0m \u001b[38;5;28;01mexcept\u001b[39;00m InvalidParameterError \u001b[38;5;28;01mas\u001b[39;00m e:\n\u001b[1;32m    213\u001b[0m     \u001b[38;5;66;03m# When the function is just a wrapper around an estimator, we allow\u001b[39;00m\n\u001b[1;32m    214\u001b[0m     \u001b[38;5;66;03m# the function to delegate validation to the estimator, but we replace\u001b[39;00m\n\u001b[1;32m    215\u001b[0m     \u001b[38;5;66;03m# the name of the estimator by the name of the function in the error\u001b[39;00m\n\u001b[1;32m    216\u001b[0m     \u001b[38;5;66;03m# message to avoid confusion.\u001b[39;00m\n\u001b[1;32m    217\u001b[0m     msg \u001b[38;5;241m=\u001b[39m re\u001b[38;5;241m.\u001b[39msub(\n\u001b[1;32m    218\u001b[0m         \u001b[38;5;124mr\u001b[39m\u001b[38;5;124m\"\u001b[39m\u001b[38;5;124mparameter of \u001b[39m\u001b[38;5;124m\\\u001b[39m\u001b[38;5;124mw+ must be\u001b[39m\u001b[38;5;124m\"\u001b[39m,\n\u001b[1;32m    219\u001b[0m         \u001b[38;5;124mf\u001b[39m\u001b[38;5;124m\"\u001b[39m\u001b[38;5;124mparameter of \u001b[39m\u001b[38;5;132;01m{\u001b[39;00mfunc\u001b[38;5;241m.\u001b[39m\u001b[38;5;18m__qualname__\u001b[39m\u001b[38;5;132;01m}\u001b[39;00m\u001b[38;5;124m must be\u001b[39m\u001b[38;5;124m\"\u001b[39m,\n\u001b[1;32m    220\u001b[0m         \u001b[38;5;28mstr\u001b[39m(e),\n\u001b[1;32m    221\u001b[0m     )\n",
      "File \u001b[0;32m~/InstalledPackages/miniconda3/envs/molgraph/lib/python3.10/site-packages/sklearn/metrics/_classification.py:2127\u001b[0m, in \u001b[0;36mprecision_score\u001b[0;34m(y_true, y_pred, labels, pos_label, average, sample_weight, zero_division)\u001b[0m\n\u001b[1;32m   1970\u001b[0m \u001b[38;5;129m@validate_params\u001b[39m(\n\u001b[1;32m   1971\u001b[0m     {\n\u001b[1;32m   1972\u001b[0m         \u001b[38;5;124m\"\u001b[39m\u001b[38;5;124my_true\u001b[39m\u001b[38;5;124m\"\u001b[39m: [\u001b[38;5;124m\"\u001b[39m\u001b[38;5;124marray-like\u001b[39m\u001b[38;5;124m\"\u001b[39m, \u001b[38;5;124m\"\u001b[39m\u001b[38;5;124msparse matrix\u001b[39m\u001b[38;5;124m\"\u001b[39m],\n\u001b[0;32m   (...)\u001b[0m\n\u001b[1;32m   1996\u001b[0m     zero_division\u001b[38;5;241m=\u001b[39m\u001b[38;5;124m\"\u001b[39m\u001b[38;5;124mwarn\u001b[39m\u001b[38;5;124m\"\u001b[39m,\n\u001b[1;32m   1997\u001b[0m ):\n\u001b[1;32m   1998\u001b[0m \u001b[38;5;250m    \u001b[39m\u001b[38;5;124;03m\"\"\"Compute the precision.\u001b[39;00m\n\u001b[1;32m   1999\u001b[0m \n\u001b[1;32m   2000\u001b[0m \u001b[38;5;124;03m    The precision is the ratio ``tp / (tp + fp)`` where ``tp`` is the number of\u001b[39;00m\n\u001b[0;32m   (...)\u001b[0m\n\u001b[1;32m   2125\u001b[0m \u001b[38;5;124;03m    array([0.5, 1. , 1. ])\u001b[39;00m\n\u001b[1;32m   2126\u001b[0m \u001b[38;5;124;03m    \"\"\"\u001b[39;00m\n\u001b[0;32m-> 2127\u001b[0m     p, _, _, _ \u001b[38;5;241m=\u001b[39m \u001b[43mprecision_recall_fscore_support\u001b[49m\u001b[43m(\u001b[49m\n\u001b[1;32m   2128\u001b[0m \u001b[43m        \u001b[49m\u001b[43my_true\u001b[49m\u001b[43m,\u001b[49m\n\u001b[1;32m   2129\u001b[0m \u001b[43m        \u001b[49m\u001b[43my_pred\u001b[49m\u001b[43m,\u001b[49m\n\u001b[1;32m   2130\u001b[0m \u001b[43m        \u001b[49m\u001b[43mlabels\u001b[49m\u001b[38;5;241;43m=\u001b[39;49m\u001b[43mlabels\u001b[49m\u001b[43m,\u001b[49m\n\u001b[1;32m   2131\u001b[0m \u001b[43m        \u001b[49m\u001b[43mpos_label\u001b[49m\u001b[38;5;241;43m=\u001b[39;49m\u001b[43mpos_label\u001b[49m\u001b[43m,\u001b[49m\n\u001b[1;32m   2132\u001b[0m \u001b[43m        \u001b[49m\u001b[43maverage\u001b[49m\u001b[38;5;241;43m=\u001b[39;49m\u001b[43maverage\u001b[49m\u001b[43m,\u001b[49m\n\u001b[1;32m   2133\u001b[0m \u001b[43m        \u001b[49m\u001b[43mwarn_for\u001b[49m\u001b[38;5;241;43m=\u001b[39;49m\u001b[43m(\u001b[49m\u001b[38;5;124;43m\"\u001b[39;49m\u001b[38;5;124;43mprecision\u001b[39;49m\u001b[38;5;124;43m\"\u001b[39;49m\u001b[43m,\u001b[49m\u001b[43m)\u001b[49m\u001b[43m,\u001b[49m\n\u001b[1;32m   2134\u001b[0m \u001b[43m        \u001b[49m\u001b[43msample_weight\u001b[49m\u001b[38;5;241;43m=\u001b[39;49m\u001b[43msample_weight\u001b[49m\u001b[43m,\u001b[49m\n\u001b[1;32m   2135\u001b[0m \u001b[43m        \u001b[49m\u001b[43mzero_division\u001b[49m\u001b[38;5;241;43m=\u001b[39;49m\u001b[43mzero_division\u001b[49m\u001b[43m,\u001b[49m\n\u001b[1;32m   2136\u001b[0m \u001b[43m    \u001b[49m\u001b[43m)\u001b[49m\n\u001b[1;32m   2137\u001b[0m     \u001b[38;5;28;01mreturn\u001b[39;00m p\n",
      "File \u001b[0;32m~/InstalledPackages/miniconda3/envs/molgraph/lib/python3.10/site-packages/sklearn/utils/_param_validation.py:184\u001b[0m, in \u001b[0;36mvalidate_params.<locals>.decorator.<locals>.wrapper\u001b[0;34m(*args, **kwargs)\u001b[0m\n\u001b[1;32m    182\u001b[0m global_skip_validation \u001b[38;5;241m=\u001b[39m get_config()[\u001b[38;5;124m\"\u001b[39m\u001b[38;5;124mskip_parameter_validation\u001b[39m\u001b[38;5;124m\"\u001b[39m]\n\u001b[1;32m    183\u001b[0m \u001b[38;5;28;01mif\u001b[39;00m global_skip_validation:\n\u001b[0;32m--> 184\u001b[0m     \u001b[38;5;28;01mreturn\u001b[39;00m \u001b[43mfunc\u001b[49m\u001b[43m(\u001b[49m\u001b[38;5;241;43m*\u001b[39;49m\u001b[43margs\u001b[49m\u001b[43m,\u001b[49m\u001b[43m \u001b[49m\u001b[38;5;241;43m*\u001b[39;49m\u001b[38;5;241;43m*\u001b[39;49m\u001b[43mkwargs\u001b[49m\u001b[43m)\u001b[49m\n\u001b[1;32m    186\u001b[0m func_sig \u001b[38;5;241m=\u001b[39m signature(func)\n\u001b[1;32m    188\u001b[0m \u001b[38;5;66;03m# Map *args/**kwargs to the function signature\u001b[39;00m\n",
      "File \u001b[0;32m~/InstalledPackages/miniconda3/envs/molgraph/lib/python3.10/site-packages/sklearn/metrics/_classification.py:1721\u001b[0m, in \u001b[0;36mprecision_recall_fscore_support\u001b[0;34m(y_true, y_pred, beta, labels, pos_label, average, warn_for, sample_weight, zero_division)\u001b[0m\n\u001b[1;32m   1563\u001b[0m \u001b[38;5;250m\u001b[39m\u001b[38;5;124;03m\"\"\"Compute precision, recall, F-measure and support for each class.\u001b[39;00m\n\u001b[1;32m   1564\u001b[0m \n\u001b[1;32m   1565\u001b[0m \u001b[38;5;124;03mThe precision is the ratio ``tp / (tp + fp)`` where ``tp`` is the number of\u001b[39;00m\n\u001b[0;32m   (...)\u001b[0m\n\u001b[1;32m   1718\u001b[0m \u001b[38;5;124;03m array([2, 2, 2]))\u001b[39;00m\n\u001b[1;32m   1719\u001b[0m \u001b[38;5;124;03m\"\"\"\u001b[39;00m\n\u001b[1;32m   1720\u001b[0m zero_division_value \u001b[38;5;241m=\u001b[39m _check_zero_division(zero_division)\n\u001b[0;32m-> 1721\u001b[0m labels \u001b[38;5;241m=\u001b[39m \u001b[43m_check_set_wise_labels\u001b[49m\u001b[43m(\u001b[49m\u001b[43my_true\u001b[49m\u001b[43m,\u001b[49m\u001b[43m \u001b[49m\u001b[43my_pred\u001b[49m\u001b[43m,\u001b[49m\u001b[43m \u001b[49m\u001b[43maverage\u001b[49m\u001b[43m,\u001b[49m\u001b[43m \u001b[49m\u001b[43mlabels\u001b[49m\u001b[43m,\u001b[49m\u001b[43m \u001b[49m\u001b[43mpos_label\u001b[49m\u001b[43m)\u001b[49m\n\u001b[1;32m   1723\u001b[0m \u001b[38;5;66;03m# Calculate tp_sum, pred_sum, true_sum ###\u001b[39;00m\n\u001b[1;32m   1724\u001b[0m samplewise \u001b[38;5;241m=\u001b[39m average \u001b[38;5;241m==\u001b[39m \u001b[38;5;124m\"\u001b[39m\u001b[38;5;124msamples\u001b[39m\u001b[38;5;124m\"\u001b[39m\n",
      "File \u001b[0;32m~/InstalledPackages/miniconda3/envs/molgraph/lib/python3.10/site-packages/sklearn/metrics/_classification.py:1499\u001b[0m, in \u001b[0;36m_check_set_wise_labels\u001b[0;34m(y_true, y_pred, average, labels, pos_label)\u001b[0m\n\u001b[1;32m   1496\u001b[0m \u001b[38;5;28;01mif\u001b[39;00m average \u001b[38;5;129;01mnot\u001b[39;00m \u001b[38;5;129;01min\u001b[39;00m average_options \u001b[38;5;129;01mand\u001b[39;00m average \u001b[38;5;241m!=\u001b[39m \u001b[38;5;124m\"\u001b[39m\u001b[38;5;124mbinary\u001b[39m\u001b[38;5;124m\"\u001b[39m:\n\u001b[1;32m   1497\u001b[0m     \u001b[38;5;28;01mraise\u001b[39;00m \u001b[38;5;167;01mValueError\u001b[39;00m(\u001b[38;5;124m\"\u001b[39m\u001b[38;5;124maverage has to be one of \u001b[39m\u001b[38;5;124m\"\u001b[39m \u001b[38;5;241m+\u001b[39m \u001b[38;5;28mstr\u001b[39m(average_options))\n\u001b[0;32m-> 1499\u001b[0m y_type, y_true, y_pred \u001b[38;5;241m=\u001b[39m \u001b[43m_check_targets\u001b[49m\u001b[43m(\u001b[49m\u001b[43my_true\u001b[49m\u001b[43m,\u001b[49m\u001b[43m \u001b[49m\u001b[43my_pred\u001b[49m\u001b[43m)\u001b[49m\n\u001b[1;32m   1500\u001b[0m \u001b[38;5;66;03m# Convert to Python primitive type to avoid NumPy type / Python str\u001b[39;00m\n\u001b[1;32m   1501\u001b[0m \u001b[38;5;66;03m# comparison. See https://github.com/numpy/numpy/issues/6784\u001b[39;00m\n\u001b[1;32m   1502\u001b[0m present_labels \u001b[38;5;241m=\u001b[39m unique_labels(y_true, y_pred)\u001b[38;5;241m.\u001b[39mtolist()\n",
      "File \u001b[0;32m~/InstalledPackages/miniconda3/envs/molgraph/lib/python3.10/site-packages/sklearn/metrics/_classification.py:93\u001b[0m, in \u001b[0;36m_check_targets\u001b[0;34m(y_true, y_pred)\u001b[0m\n\u001b[1;32m     90\u001b[0m     y_type \u001b[38;5;241m=\u001b[39m {\u001b[38;5;124m\"\u001b[39m\u001b[38;5;124mmulticlass\u001b[39m\u001b[38;5;124m\"\u001b[39m}\n\u001b[1;32m     92\u001b[0m \u001b[38;5;28;01mif\u001b[39;00m \u001b[38;5;28mlen\u001b[39m(y_type) \u001b[38;5;241m>\u001b[39m \u001b[38;5;241m1\u001b[39m:\n\u001b[0;32m---> 93\u001b[0m     \u001b[38;5;28;01mraise\u001b[39;00m \u001b[38;5;167;01mValueError\u001b[39;00m(\n\u001b[1;32m     94\u001b[0m         \u001b[38;5;124m\"\u001b[39m\u001b[38;5;124mClassification metrics can\u001b[39m\u001b[38;5;124m'\u001b[39m\u001b[38;5;124mt handle a mix of \u001b[39m\u001b[38;5;132;01m{0}\u001b[39;00m\u001b[38;5;124m and \u001b[39m\u001b[38;5;132;01m{1}\u001b[39;00m\u001b[38;5;124m targets\u001b[39m\u001b[38;5;124m\"\u001b[39m\u001b[38;5;241m.\u001b[39mformat(\n\u001b[1;32m     95\u001b[0m             type_true, type_pred\n\u001b[1;32m     96\u001b[0m         )\n\u001b[1;32m     97\u001b[0m     )\n\u001b[1;32m     99\u001b[0m \u001b[38;5;66;03m# We can't have more than one value on y_type => The set is no more needed\u001b[39;00m\n\u001b[1;32m    100\u001b[0m y_type \u001b[38;5;241m=\u001b[39m y_type\u001b[38;5;241m.\u001b[39mpop()\n",
      "\u001b[0;31mValueError\u001b[0m: Classification metrics can't handle a mix of binary and continuous targets"
     ]
    }
   ],
   "source": [
    "(\n",
    "    precision_score(df_final.covalent, df_final.gnn_pred),\n",
    "    recall_score(df_final.covalent, df_final.gnn_pred),\n",
    "    f1_score(df_final.covalent, df_final.gnn_pred),\n",
    ")"
   ]
  },
  {
   "cell_type": "code",
   "execution_count": null,
   "metadata": {},
   "outputs": [],
   "source": [
    "1 - accuracy_score(\n",
    "    df_final.query(\"warhead_category == 'noncovalentdecoy'\").covalent,\n",
    "    df_final.query(\"warhead_category == 'noncovalentdecoy'\").gnn_pred,\n",
    "                   )"
   ]
  }
 ],
 "metadata": {
  "kernelspec": {
   "display_name": "molgraph",
   "language": "python",
   "name": "python3"
  },
  "language_info": {
   "codemirror_mode": {
    "name": "ipython",
    "version": 3
   },
   "file_extension": ".py",
   "mimetype": "text/x-python",
   "name": "python",
   "nbconvert_exporter": "python",
   "pygments_lexer": "ipython3",
   "version": "3.10.13"
  }
 },
 "nbformat": 4,
 "nbformat_minor": 2
}
