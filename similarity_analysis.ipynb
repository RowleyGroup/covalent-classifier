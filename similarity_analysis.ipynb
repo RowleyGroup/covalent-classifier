{
 "cells": [
  {
   "cell_type": "code",
   "execution_count": 1,
   "metadata": {},
   "outputs": [],
   "source": [
    "import pandas as pd\n",
    "import swifter\n",
    "import numpy as np\n",
    "from rdkit import Chem\n",
    "from rdkit.Chem import AllChem\n",
    "from rdkit.DataStructs import DiceSimilarity, TanimotoSimilarity\n",
    "\n",
    "RADIUS = 3\n",
    "N_BITS = 2048\n",
    "FP_GEN = AllChem.GetMorganGenerator(fpSize=N_BITS, radius=RADIUS)\n",
    "\n",
    "def get_fingerprint(smiles_string, fpgen=FP_GEN):\n",
    "    mol = Chem.MolFromSmiles(smiles_string)\n",
    "\n",
    "    if not mol:\n",
    "        return None\n",
    "\n",
    "    fp = fpgen.GetSparseCountFingerprint(mol)\n",
    "    return fp\n",
    "\n",
    "def get_inchi(smiles):\n",
    "    mol = Chem.MolFromSmiles(smiles)\n",
    "    return Chem.MolToInchi(mol)\n",
    "\n",
    "def get_most_similar_fp(input_fp, ref_df):\n",
    "    similarity = 0\n",
    "    smiles_out = None\n",
    "    for fp, smiles in zip(ref_df.fp.values, ref_df.SMILES.values):\n",
    "        s = TanimotoSimilarity(input_fp, fp)\n",
    "        if s > similarity:\n",
    "            similarity = s\n",
    "            smiles_out = smiles\n",
    "    return similarity, smiles_out"
   ]
  },
  {
   "cell_type": "code",
   "execution_count": 2,
   "metadata": {},
   "outputs": [
    {
     "data": {
      "application/vnd.jupyter.widget-view+json": {
       "model_id": "0191452562394800b6ed374de4531900",
       "version_major": 2,
       "version_minor": 0
      },
      "text/plain": [
       "Pandas Apply:   0%|          | 0/610 [00:00<?, ?it/s]"
      ]
     },
     "metadata": {},
     "output_type": "display_data"
    },
    {
     "name": "stderr",
     "output_type": "stream",
     "text": [
      "/Users/vh/InstalledPackages/miniconda3/envs/molgraph/lib/python3.10/site-packages/swifter/swifter.py:87: UserWarning: This pandas object has duplicate indices, and swifter may not be able to improve performance. Consider resetting the indices with `df.reset_index(drop=True)`.\n",
      "  warnings.warn(\n"
     ]
    },
    {
     "data": {
      "application/vnd.jupyter.widget-view+json": {
       "model_id": "5807e1d5fe4a4761b5c78078ffc87c6c",
       "version_major": 2,
       "version_minor": 0
      },
      "text/plain": [
       "Pandas Apply:   0%|          | 0/52207 [00:00<?, ?it/s]"
      ]
     },
     "metadata": {},
     "output_type": "display_data"
    }
   ],
   "source": [
    "df_test = pd.read_csv(\"./data/SMILES_test/test_data_all.csv\")\n",
    "df_test[\"fp\"] = df_test.SMILES.swifter.apply(get_fingerprint)\n",
    "df_train = pd.concat(\n",
    "    [\n",
    "    pd.read_csv(\"./data/SMILES_training/trainingset_covalent_smiles.csv\"),\n",
    "    pd.read_csv(\"./data/SMILES_training/trainingset_noncovalent_smiles.csv\")\n",
    "    ])\n",
    "df_train[\"fp\"] = df_train.SMILES.swifter.apply(get_fingerprint)"
   ]
  },
  {
   "cell_type": "code",
   "execution_count": 3,
   "metadata": {},
   "outputs": [
    {
     "data": {
      "application/vnd.jupyter.widget-view+json": {
       "model_id": "0e8ddfccb2db461caac4fb6cf221edff",
       "version_major": 2,
       "version_minor": 0
      },
      "text/plain": [
       "Pandas Apply:   0%|          | 0/610 [00:00<?, ?it/s]"
      ]
     },
     "metadata": {},
     "output_type": "display_data"
    },
    {
     "data": {
      "application/vnd.jupyter.widget-view+json": {
       "model_id": "1cb5b14f22f54ece9d0c101f7df2525b",
       "version_major": 2,
       "version_minor": 0
      },
      "text/plain": [
       "Pandas Apply:   0%|          | 0/610 [00:00<?, ?it/s]"
      ]
     },
     "metadata": {},
     "output_type": "display_data"
    }
   ],
   "source": [
    "df_test[\"most_similar_smiles\"] = df_test.fp.swifter.apply(lambda x:\n",
    "    get_most_similar_fp(x, ref_df=df_train)[1])\n",
    "df_test[\"tanimoto\"] = df_test.fp.swifter.apply(lambda x:\n",
    "    get_most_similar_fp(x, ref_df=df_train)[0])"
   ]
  },
  {
   "cell_type": "code",
   "execution_count": 5,
   "metadata": {},
   "outputs": [
    {
     "data": {
      "text/plain": [
       "<Axes: >"
      ]
     },
     "execution_count": 5,
     "metadata": {},
     "output_type": "execute_result"
    },
    {
     "data": {
      "image/png": "[encoded data removed]",
      "text/plain": [
       "<Figure size 640x480 with 1 Axes>"
      ]
     },
     "metadata": {},
     "output_type": "display_data"
    }
   ],
   "source": [
    "df_test.tanimoto.hist(bins=50)"
   ]
  },
  {
   "cell_type": "code",
   "execution_count": 10,
   "metadata": {},
   "outputs": [
    {
     "data": {
      "text/plain": [
       "(0.17230081715773718, 0.400034991429632, 0.35339366515837106)"
      ]
     },
     "execution_count": 10,
     "metadata": {},
     "output_type": "execute_result"
    }
   ],
   "source": [
    "(\n",
    "    df_test.tanimoto.std(),\n",
    "    df_test.tanimoto.mean(),\n",
    "    df_test.tanimoto.median(),\n",
    ")"
   ]
  },
  {
   "cell_type": "code",
   "execution_count": null,
   "metadata": {},
   "outputs": [],
   "source": [
    "df = df_test.sort_values(by=\"tanimoto\", ascending=False).reset_index(drop=True)"
   ]
  },
  {
   "cell_type": "code",
   "execution_count": null,
   "metadata": {},
   "outputs": [],
   "source": [
    "Chem.MolFromSmiles(df.SMILES[1])"
   ]
  },
  {
   "cell_type": "code",
   "execution_count": null,
   "metadata": {},
   "outputs": [],
   "source": [
    "Chem.MolFromSmiles(df.most_similar_smiles[1])"
   ]
  }
 ],
 "metadata": {
  "kernelspec": {
   "display_name": "molgraph",
   "language": "python",
   "name": "python3"
  },
  "language_info": {
   "codemirror_mode": {
    "name": "ipython",
    "version": 3
   },
   "file_extension": ".py",
   "mimetype": "text/x-python",
   "name": "python",
   "nbconvert_exporter": "python",
   "pygments_lexer": "ipython3",
   "version": "3.10.12"
  }
 },
 "nbformat": 4,
 "nbformat_minor": 2
}
