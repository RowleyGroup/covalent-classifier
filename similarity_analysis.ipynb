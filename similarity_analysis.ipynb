{
 "cells": [
  {
   "cell_type": "code",
   "execution_count": 1,
   "metadata": {},
   "outputs": [],
   "source": [
    "import pandas as pd\n",
    "import swifter\n",
    "import numpy as np\n",
    "from rdkit import Chem\n",
    "from rdkit.Chem import AllChem\n",
    "from rdkit.DataStructs import DiceSimilarity, TanimotoSimilarity, CosineSimilarity\n",
    "\n",
    "RADIUS = 3\n",
    "N_BITS = 2048\n",
    "FP_GEN = AllChem.GetMorganGenerator(fpSize=N_BITS, radius=RADIUS)\n",
    "\n",
    "def get_fingerprint(smiles_string, fpgen=FP_GEN):\n",
    "    mol = Chem.MolFromSmiles(smiles_string)\n",
    "\n",
    "    if not mol:\n",
    "        return None\n",
    "\n",
    "    fp = fpgen.GetSparseCountFingerprint(mol)\n",
    "    return fp\n",
    "\n",
    "def get_rdkit_fingerprint(smiles_string):\n",
    "    mol = Chem.MolFromSmiles(smiles_string)\n",
    "\n",
    "    if not mol:\n",
    "        return None\n",
    "\n",
    "    fp = Chem.RDKFingerprint(mol)\n",
    "    return fp\n",
    "\n",
    "def get_inchi(smiles):\n",
    "    mol = Chem.MolFromSmiles(smiles)\n",
    "    return Chem.MolToInchi(mol)\n",
    "\n",
    "def get_most_similar_fp(input_fp, ref_df):\n",
    "    similarity = 0\n",
    "    smiles_out = None\n",
    "    for fp, smiles in zip(ref_df.fp.values, ref_df.SMILES.values):\n",
    "        s = TanimotoSimilarity(input_fp, fp)\n",
    "        if s > similarity:\n",
    "            similarity = s\n",
    "            smiles_out = smiles\n",
    "    return similarity, smiles_out\n",
    "\n",
    "def get_most_similar_fp_pw_distance(input_fp, ref_df):\n",
    "    distance = 1.2\n",
    "    smiles_out = None\n",
    "    for fp, smiles in zip(ref_df.rdkit_fp.values, ref_df.SMILES.values):\n",
    "        s = 1 - CosineSimilarity(input_fp, fp)\n",
    "        if s < distance:\n",
    "            distance = s\n",
    "            smiles_out = smiles\n",
    "    return distance, smiles_out"
   ]
  },
  {
   "cell_type": "code",
   "execution_count": 2,
   "metadata": {},
   "outputs": [
    {
     "data": {
      "application/vnd.jupyter.widget-view+json": {
       "model_id": "e73a05a281bc467d89bad360b4e47d54",
       "version_major": 2,
       "version_minor": 0
      },
      "text/plain": [
       "Pandas Apply:   0%|          | 0/610 [00:00<?, ?it/s]"
      ]
     },
     "metadata": {},
     "output_type": "display_data"
    },
    {
     "data": {
      "application/vnd.jupyter.widget-view+json": {
       "model_id": "6cd6a7a67fde48c7bfd182d490b5f5b5",
       "version_major": 2,
       "version_minor": 0
      },
      "text/plain": [
       "Pandas Apply:   0%|          | 0/610 [00:00<?, ?it/s]"
      ]
     },
     "metadata": {},
     "output_type": "display_data"
    },
    {
     "name": "stderr",
     "output_type": "stream",
     "text": [
      "/Users/vh/InstalledPackages/miniconda3/envs/molgraph/lib/python3.10/site-packages/swifter/swifter.py:87: UserWarning: This pandas object has duplicate indices, and swifter may not be able to improve performance. Consider resetting the indices with `df.reset_index(drop=True)`.\n",
      "  warnings.warn(\n"
     ]
    },
    {
     "data": {
      "application/vnd.jupyter.widget-view+json": {
       "model_id": "4bed54b55f9f449a9138fbedcf21f849",
       "version_major": 2,
       "version_minor": 0
      },
      "text/plain": [
       "Pandas Apply:   0%|          | 0/52207 [00:00<?, ?it/s]"
      ]
     },
     "metadata": {},
     "output_type": "display_data"
    },
    {
     "data": {
      "application/vnd.jupyter.widget-view+json": {
       "model_id": "b7f06516acbf45f8a507984ef1afe022",
       "version_major": 2,
       "version_minor": 0
      },
      "text/plain": [
       "Pandas Apply:   0%|          | 0/52207 [00:00<?, ?it/s]"
      ]
     },
     "metadata": {},
     "output_type": "display_data"
    }
   ],
   "source": [
    "df_test = pd.read_csv(\"./data/SMILES_test/test_data_all.csv\")\n",
    "df_test[\"fp\"] = df_test.SMILES.swifter.apply(get_fingerprint)\n",
    "df_test[\"rdkit_fp\"] = df_test.SMILES.swifter.apply(get_rdkit_fingerprint)\n",
    "df_train = pd.concat(\n",
    "    [\n",
    "    pd.read_csv(\"./data/SMILES_training/trainingset_covalent_smiles.csv\"),\n",
    "    pd.read_csv(\"./data/SMILES_training/trainingset_noncovalent_smiles.csv\")\n",
    "    ])\n",
    "df_train[\"fp\"] = df_train.SMILES.swifter.apply(get_fingerprint)\n",
    "df_train[\"rdkit_fp\"] = df_train.SMILES.swifter.apply(get_rdkit_fingerprint)"
   ]
  },
  {
   "cell_type": "code",
   "execution_count": 3,
   "metadata": {},
   "outputs": [
    {
     "data": {
      "application/vnd.jupyter.widget-view+json": {
       "model_id": "356a3b6d634048648c374a1c13b2074e",
       "version_major": 2,
       "version_minor": 0
      },
      "text/plain": [
       "Pandas Apply:   0%|          | 0/610 [00:00<?, ?it/s]"
      ]
     },
     "metadata": {},
     "output_type": "display_data"
    },
    {
     "data": {
      "application/vnd.jupyter.widget-view+json": {
       "model_id": "a6baf7f84d534eca92680b1a3cfd7b35",
       "version_major": 2,
       "version_minor": 0
      },
      "text/plain": [
       "Pandas Apply:   0%|          | 0/610 [00:00<?, ?it/s]"
      ]
     },
     "metadata": {},
     "output_type": "display_data"
    },
    {
     "data": {
      "application/vnd.jupyter.widget-view+json": {
       "model_id": "7c07c5bcea2046558c3f2122d93b01a7",
       "version_major": 2,
       "version_minor": 0
      },
      "text/plain": [
       "Pandas Apply:   0%|          | 0/610 [00:00<?, ?it/s]"
      ]
     },
     "metadata": {},
     "output_type": "display_data"
    },
    {
     "data": {
      "application/vnd.jupyter.widget-view+json": {
       "model_id": "6cf5c65f9cea480aa4f05bab732252cf",
       "version_major": 2,
       "version_minor": 0
      },
      "text/plain": [
       "Pandas Apply:   0%|          | 0/610 [00:00<?, ?it/s]"
      ]
     },
     "metadata": {},
     "output_type": "display_data"
    }
   ],
   "source": [
    "df_test[\"most_similar_smiles\"] = df_test.fp.swifter.apply(lambda x:\n",
    "    get_most_similar_fp(x, ref_df=df_train)[1])\n",
    "df_test[\"tanimoto\"] = df_test.fp.swifter.apply(lambda x:\n",
    "    get_most_similar_fp(x, ref_df=df_train)[0])\n",
    "df_test[\"pairwise\"] = df_test.rdkit_fp.swifter.apply(lambda x:\n",
    "    get_most_similar_fp_pw_distance(x, ref_df=df_train)[0]\n",
    "    )\n",
    "df_test[\"least_similar_smiles_pairwise\"] = df_test.rdkit_fp.swifter.apply(lambda x:\n",
    "    get_most_similar_fp_pw_distance(x, ref_df=df_train)[1])\n"
   ]
  },
  {
   "cell_type": "code",
   "execution_count": 30,
   "metadata": {},
   "outputs": [
    {
     "data": {
      "image/png": "[encoded data removed]",
      "text/plain": [
       "<rdkit.Chem.rdchem.Mol at 0x30f0c3ae0>"
      ]
     },
     "execution_count": 30,
     "metadata": {},
     "output_type": "execute_result"
    }
   ],
   "source": [
    "a = df_test.sort_values(\"pairwise\", ascending=True)\n",
    "Chem.MolFromSmiles(a.SMILES.values[1])"
   ]
  },
  {
   "cell_type": "code",
   "execution_count": 31,
   "metadata": {},
   "outputs": [
    {
     "data": {
      "image/png": "[encoded data removed]",
      "text/plain": [
       "<rdkit.Chem.rdchem.Mol at 0x30f0c3c30>"
      ]
     },
     "execution_count": 31,
     "metadata": {},
     "output_type": "execute_result"
    }
   ],
   "source": [
    "Chem.MolFromSmiles(a.least_similar_smiles_pairwise.values[1])"
   ]
  },
  {
   "cell_type": "code",
   "execution_count": 34,
   "metadata": {},
   "outputs": [
    {
     "data": {
      "image/png": "[encoded data removed]",
      "text/plain": [
       "<Figure size 640x480 with 1 Axes>"
      ]
     },
     "metadata": {},
     "output_type": "display_data"
    }
   ],
   "source": [
    "import matplotlib.pyplot as plt\n",
    "import numpy as np\n",
    "\n",
    "data = df_test.pairwise.values\n",
    "min_val = np.min(data)\n",
    "max_val = np.max(data)\n",
    "\n",
    "# Create a histogram\n",
    "plt.hist(data, bins=50, color='#86bf91', edgecolor='black')\n",
    "\n",
    "plt.title(f'Pairwise Distance Distribution; min: {min_val:.4f}, max: {max_val:.4f}')\n",
    "plt.xlabel('Pairwise Distance')\n",
    "plt.ylabel('Frequency')\n",
    "\n",
    "plt.grid(axis='y', alpha=0.75)\n",
    "\n",
    "plt.show()"
   ]
  },
  {
   "cell_type": "code",
   "execution_count": 35,
   "metadata": {},
   "outputs": [
    {
     "data": {
      "text/plain": [
       "(0.13098917608523736, 0.2303107322580896, 0.22812471803276896)"
      ]
     },
     "execution_count": 35,
     "metadata": {},
     "output_type": "execute_result"
    }
   ],
   "source": [
    "(\n",
    "    df_test.pairwise.std(),\n",
    "    df_test.pairwise.mean(),\n",
    "    df_test.pairwise.median(),\n",
    ")"
   ]
  },
  {
   "cell_type": "code",
   "execution_count": null,
   "metadata": {},
   "outputs": [],
   "source": [
    "df = df_test.sort_values(by=\"tanimoto\", ascending=False).reset_index(drop=True)"
   ]
  },
  {
   "cell_type": "code",
   "execution_count": null,
   "metadata": {},
   "outputs": [],
   "source": [
    "Chem.MolFromSmiles(df.SMILES[1])"
   ]
  },
  {
   "cell_type": "code",
   "execution_count": null,
   "metadata": {},
   "outputs": [],
   "source": [
    "Chem.MolFromSmiles(df.most_similar_smiles[1])"
   ]
  }
 ],
 "metadata": {
  "kernelspec": {
   "display_name": "molgraph",
   "language": "python",
   "name": "python3"
  },
  "language_info": {
   "codemirror_mode": {
    "name": "ipython",
    "version": 3
   },
   "file_extension": ".py",
   "mimetype": "text/x-python",
   "name": "python",
   "nbconvert_exporter": "python",
   "pygments_lexer": "ipython3",
   "version": "3.10.13"
  }
 },
 "nbformat": 4,
 "nbformat_minor": 2
}
